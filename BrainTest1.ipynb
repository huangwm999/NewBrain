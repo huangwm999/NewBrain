{
 "cells": [
  {
   "cell_type": "markdown",
   "metadata": {
    "Collapsed": "false"
   },
   "source": [
    "# 人脑的外部形态\n",
    "\n",
    "1. 即人脑看到的图像、声音、触觉 应该是人脑接受到信号后的 内部网络的再呈现! \n",
    "   - 而非直接感知外部信号的呈现! \n",
    "   - 人脑以接近beta波11赫兹进行这种呈现处理。\n",
    "   - 因为某些疾病或药物导致幻想并非感知器官的病变。\n",
    "   - 而某个内部信号或相关信号的激发引起网络重新出现震荡到达此前的稳定态进而呈现是构成人脑想象与联想的本质原因。\n",
    "   - 因此智能模型 首先需要对输入 变换后，能够短迭代周期内几乎完全的 可以导致同样的输出。 \n",
    "   - 而非目前人工智能的模型对输入进行直接处理引发分类结果。\n",
    "\n",
    "2. 人脑是语言思考占主导地位的，而非看起来像的分类思维，人脑的结果是自以为因果的，而非统计中的期望计算。\n",
    "   - 因此智能模型 需要相互交流（通过1的输出，以及语义定义与交换），\n",
    "   - 可以传授（通过输出+语义可以进行处理过程的学习交换），\n",
    "   - 极其怀疑（对于当前无法处理的分类可以输出+语义进行阐述） \n",
    "   - 而非目前的人工智能的孤立模型，完全通过大数据分类，强行在高维空间分割出一个分类面。\n",
    "\n",
    "3. 知识的编码过程\n",
    "    - 人的内部映射过程是反复迭代，带有预先为主的角度\n",
    "    - 编码后的过程会重现后，进而再与原始重构\n",
    "    - 再分解为 基础特征+变换\n",
    "    - 是有预先角度 导致不同的基础特征选择，并迭代稳定"
   ]
  },
  {
   "cell_type": "markdown",
   "metadata": {
    "Collapsed": "false",
    "ExecuteTime": {
     "end_time": "2017-12-07T06:12:03.053572Z",
     "start_time": "2017-12-07T06:12:03.051186Z"
    }
   },
   "source": [
    "### 引入常用库"
   ]
  },
  {
   "cell_type": "code",
   "execution_count": 1,
   "metadata": {
    "Collapsed": "false",
    "ExecuteTime": {
     "end_time": "2017-12-12T02:37:01.117051Z",
     "start_time": "2017-12-12T02:37:00.526929Z"
    }
   },
   "outputs": [],
   "source": [
    "#Import the libraries we will need.\n",
    "import tensorflow as tf\n",
    "import numpy as np\n",
    "import input_data\n",
    "import matplotlib.pyplot as plt\n",
    "import os\n",
    "%matplotlib inline"
   ]
  },
  {
   "cell_type": "markdown",
   "metadata": {
    "Collapsed": "false",
    "ExecuteTime": {
     "end_time": "2017-12-07T06:12:03.053572Z",
     "start_time": "2017-12-07T06:12:03.051186Z"
    }
   },
   "source": [
    "### 参数"
   ]
  },
  {
   "cell_type": "code",
   "execution_count": 2,
   "metadata": {
    "Collapsed": "false",
    "ExecuteTime": {
     "end_time": "2017-12-12T02:37:01.127924Z",
     "start_time": "2017-12-12T02:37:01.125521Z"
    },
    "code_folding": []
   },
   "outputs": [],
   "source": [
    "#param\n",
    "\n",
    "img_height = 28  \n",
    "img_width = 28  \n",
    "img_size = img_height * img_width\n",
    "\n",
    "to_train = True  \n",
    "to_restore = True  \n",
    "output_path = \"output\"  \n",
    "\n",
    "max_epoch = 50 \n",
    "batch_size = 256  "
   ]
  },
  {
   "cell_type": "markdown",
   "metadata": {
    "Collapsed": "false",
    "ExecuteTime": {
     "end_time": "2017-12-07T06:12:03.053572Z",
     "start_time": "2017-12-07T06:12:03.051186Z"
    }
   },
   "source": [
    "### 输入数据"
   ]
  },
  {
   "cell_type": "code",
   "execution_count": 3,
   "metadata": {
    "Collapsed": "false",
    "ExecuteTime": {
     "end_time": "2017-12-12T02:37:01.397911Z",
     "start_time": "2017-12-12T02:37:01.137543Z"
    }
   },
   "outputs": [
    {
     "name": "stdout",
     "output_type": "stream",
     "text": [
      "WARNING:tensorflow:From <ipython-input-3-f9584ef0ae80>:1: read_data_sets (from tensorflow.contrib.learn.python.learn.datasets.mnist) is deprecated and will be removed in a future version.\n",
      "Instructions for updating:\n",
      "Please use alternatives such as official/mnist/dataset.py from tensorflow/models.\n",
      "WARNING:tensorflow:From /usr/local/lib/python2.7/dist-packages/tensorflow/contrib/learn/python/learn/datasets/mnist.py:260: maybe_download (from tensorflow.contrib.learn.python.learn.datasets.base) is deprecated and will be removed in a future version.\n",
      "Instructions for updating:\n",
      "Please write your own downloading logic.\n",
      "WARNING:tensorflow:From /usr/local/lib/python2.7/dist-packages/tensorflow/contrib/learn/python/learn/datasets/mnist.py:262: extract_images (from tensorflow.contrib.learn.python.learn.datasets.mnist) is deprecated and will be removed in a future version.\n",
      "Instructions for updating:\n",
      "Please use tf.data to implement this functionality.\n",
      "Extracting MNIST_data/train-images-idx3-ubyte.gz\n",
      "WARNING:tensorflow:From /usr/local/lib/python2.7/dist-packages/tensorflow/contrib/learn/python/learn/datasets/mnist.py:267: extract_labels (from tensorflow.contrib.learn.python.learn.datasets.mnist) is deprecated and will be removed in a future version.\n",
      "Instructions for updating:\n",
      "Please use tf.data to implement this functionality.\n",
      "Extracting MNIST_data/train-labels-idx1-ubyte.gz\n",
      "Extracting MNIST_data/t10k-images-idx3-ubyte.gz\n",
      "Extracting MNIST_data/t10k-labels-idx1-ubyte.gz\n",
      "WARNING:tensorflow:From /usr/local/lib/python2.7/dist-packages/tensorflow/contrib/learn/python/learn/datasets/mnist.py:290: __init__ (from tensorflow.contrib.learn.python.learn.datasets.mnist) is deprecated and will be removed in a future version.\n",
      "Instructions for updating:\n",
      "Please use alternatives such as official/mnist/dataset.py from tensorflow/models.\n"
     ]
    }
   ],
   "source": [
    "mnist = input_data.read_data_sets(\"MNIST_data/\", one_hot=False)"
   ]
  },
  {
   "cell_type": "markdown",
   "metadata": {
    "Collapsed": "false",
    "ExecuteTime": {
     "end_time": "2017-12-07T06:17:48.104609Z",
     "start_time": "2017-12-07T06:17:48.100885Z"
    }
   },
   "source": [
    "### 生成器\n",
    "* $x_{g}=g(z_p)$\n",
    "  - $t_{1}=relu(z_p*w_1+b_1)$\n",
    "  - $t_{2}=relu(t_{1}*w_2+b_2)$\n",
    "  - $x_{g}=tanh(t_{2}*w_3+b_3)$"
   ]
  },
  {
   "cell_type": "code",
   "execution_count": 4,
   "metadata": {
    "Collapsed": "false",
    "ExecuteTime": {
     "end_time": "2017-12-12T02:37:02.142574Z",
     "start_time": "2017-12-12T02:37:02.122820Z"
    },
    "code_folding": [
     0
    ]
   },
   "outputs": [],
   "source": [
    "def build_generator(z_prior):  \n",
    "    w1 = tf.Variable(tf.truncated_normal([z_size, h1_size], stddev=0.1), name=\"g_w1\", dtype=tf.float32)  \n",
    "    b1 = tf.Variable(tf.zeros([h1_size]), name=\"g_b1\", dtype=tf.float32)  \n",
    "    h1 = tf.nn.relu(tf.matmul(z_prior, w1) + b1)  \n",
    "    w2 = tf.Variable(tf.truncated_normal([h1_size, h2_size], stddev=0.1), name=\"g_w2\", dtype=tf.float32)  \n",
    "    b2 = tf.Variable(tf.zeros([h2_size]), name=\"g_b2\", dtype=tf.float32)  \n",
    "    h2 = tf.nn.relu(tf.matmul(h1, w2) + b2)  \n",
    "    w3 = tf.Variable(tf.truncated_normal([h2_size, img_size], stddev=0.1), name=\"g_w3\", dtype=tf.float32)  \n",
    "    b3 = tf.Variable(tf.zeros([img_size]), name=\"g_b3\", dtype=tf.float32)  \n",
    "    h3 = tf.matmul(h2, w3) + b3  \n",
    "    x_generate = tf.nn.tanh(h3)  \n",
    "    g_params = [w1, b1, w2, b2, w3, b3]  \n",
    "    return x_generate, g_params  "
   ]
  },
  {
   "cell_type": "markdown",
   "metadata": {
    "Collapsed": "false"
   },
   "source": [
    "### 判别器\n",
    "* $y_{d/g}=d(x_{d/g})$\n",
    "  - $ x_{in}=[x_d,x_g] $\n",
    "  - $ t_1= dropout(relu( x_{in}*w_1+b_1)) $\n",
    "  - $ t_2= dropout(relu( t_2*w_2+b_2)) $\n",
    "  - $ t_3= t_2*w_3+b_3 $\n",
    "  - $ y_d = sigmoid(t_3[0:size_{batch}])$\n",
    "  - $ y_g = sigmoid(t_3[size_{batch}:-1])$\n",
    "  "
   ]
  },
  {
   "cell_type": "code",
   "execution_count": 5,
   "metadata": {
    "Collapsed": "false",
    "ExecuteTime": {
     "end_time": "2017-12-12T02:37:03.731552Z",
     "start_time": "2017-12-12T02:37:03.720409Z"
    },
    "code_folding": [
     0
    ]
   },
   "outputs": [],
   "source": [
    "def build_discriminator(x_data, x_generated, keep_prob):  \n",
    "    x_in = tf.concat([x_data, x_generated], 0)  \n",
    "    w1 = tf.Variable(tf.truncated_normal([img_size, h2_size], stddev=0.1), name=\"d_w1\", dtype=tf.float32)  \n",
    "    b1 = tf.Variable(tf.zeros([h2_size]), name=\"d_b1\", dtype=tf.float32)  \n",
    "    h1 = tf.nn.dropout(tf.nn.relu(tf.matmul(x_in, w1) + b1), keep_prob)  \n",
    "    w2 = tf.Variable(tf.truncated_normal([h2_size, h1_size], stddev=0.1), name=\"d_w2\", dtype=tf.float32)  \n",
    "    b2 = tf.Variable(tf.zeros([h1_size]), name=\"d_b2\", dtype=tf.float32)  \n",
    "    h2 = tf.nn.dropout(tf.nn.relu(tf.matmul(h1, w2) + b2), keep_prob)  \n",
    "    w3 = tf.Variable(tf.truncated_normal([h1_size, 1], stddev=0.1), name=\"d_w3\", dtype=tf.float32)  \n",
    "    b3 = tf.Variable(tf.zeros([1]), name=\"d_b3\", dtype=tf.float32)  \n",
    "    h3 = tf.matmul(h2, w3) + b3  \n",
    "    y_data = tf.nn.sigmoid(tf.slice(h3, [0, 0], [batch_size, -1], name=None))  \n",
    "    y_generated = tf.nn.sigmoid(tf.slice(h3, [batch_size, 0], [-1, -1], name=None))  \n",
    "    d_params = [w1, b1, w2, b2, w3, b3]  \n",
    "    return y_data, y_generated, d_params  "
   ]
  },
  {
   "cell_type": "markdown",
   "metadata": {
    "Collapsed": "false",
    "ExecuteTime": {
     "end_time": "2017-12-07T08:59:33.340969Z",
     "start_time": "2017-12-07T08:59:33.337121Z"
    },
    "variables": {
     "#": {}
    }
   },
   "source": [
    "### 组建GAN网络\n",
    "{{#}}"
   ]
  },
  {
   "cell_type": "code",
   "execution_count": 6,
   "metadata": {
    "Collapsed": "false",
    "ExecuteTime": {
     "end_time": "2017-12-12T02:37:04.629340Z",
     "start_time": "2017-12-12T02:37:04.605369Z"
    },
    "code_folding": []
   },
   "outputs": [
    {
     "data": {
      "image/svg+xml": [
       "<?xml version=\"1.0\" encoding=\"UTF-8\" standalone=\"no\"?>\n",
       "<!DOCTYPE svg PUBLIC \"-//W3C//DTD SVG 1.1//EN\"\n",
       " \"http://www.w3.org/Graphics/SVG/1.1/DTD/svg11.dtd\">\n",
       "<!-- Generated by graphviz version 2.40.1 (20161225.0304)\n",
       " -->\n",
       "<!-- Title: %3 Pages: 1 -->\n",
       "<svg width=\"361pt\" height=\"109pt\"\n",
       " viewBox=\"0.00 0.00 361.00 109.00\" xmlns=\"http://www.w3.org/2000/svg\" xmlns:xlink=\"http://www.w3.org/1999/xlink\">\n",
       "<g id=\"graph0\" class=\"graph\" transform=\"scale(1 1) rotate(0) translate(4 105)\">\n",
       "<title>%3</title>\n",
       "<polygon fill=\"#ffffff\" stroke=\"transparent\" points=\"-4,4 -4,-105 357,-105 357,4 -4,4\"/>\n",
       "<!-- D -->\n",
       "<g id=\"node1\" class=\"node\">\n",
       "<title>D</title>\n",
       "<polygon fill=\"none\" stroke=\"#000000\" points=\"242,-63 188,-63 188,-27 242,-27 242,-63\"/>\n",
       "<text text-anchor=\"middle\" x=\"215\" y=\"-41.3\" font-family=\"Times,serif\" font-size=\"14.00\" fill=\"#000000\">D</text>\n",
       "</g>\n",
       "<!-- T1 -->\n",
       "<g id=\"node3\" class=\"node\">\n",
       "<title>T1</title>\n",
       "<ellipse fill=\"none\" stroke=\"#000000\" cx=\"326\" cy=\"-83\" rx=\"27\" ry=\"18\"/>\n",
       "<text text-anchor=\"middle\" x=\"326\" y=\"-79.3\" font-family=\"Times,serif\" font-size=\"14.00\" fill=\"#000000\">T1</text>\n",
       "</g>\n",
       "<!-- D&#45;&gt;T1 -->\n",
       "<g id=\"edge4\" class=\"edge\">\n",
       "<title>D&#45;&gt;T1</title>\n",
       "<path fill=\"none\" stroke=\"#000000\" d=\"M242.1537,-54.2958C257.2486,-59.4635 276.1676,-65.9403 292.2124,-71.4331\"/>\n",
       "<polygon fill=\"#000000\" stroke=\"#000000\" points=\"291.1767,-74.7779 301.7713,-74.7055 293.444,-68.1552 291.1767,-74.7779\"/>\n",
       "<text text-anchor=\"middle\" x=\"270.5\" y=\"-71.8\" font-family=\"Times,serif\" font-size=\"14.00\" fill=\"#000000\">y_g</text>\n",
       "</g>\n",
       "<!-- T2 -->\n",
       "<g id=\"node4\" class=\"node\">\n",
       "<title>T2</title>\n",
       "<ellipse fill=\"none\" stroke=\"#000000\" cx=\"326\" cy=\"-18\" rx=\"27\" ry=\"18\"/>\n",
       "<text text-anchor=\"middle\" x=\"326\" y=\"-14.3\" font-family=\"Times,serif\" font-size=\"14.00\" fill=\"#000000\">T2</text>\n",
       "</g>\n",
       "<!-- D&#45;&gt;T2 -->\n",
       "<g id=\"edge5\" class=\"edge\">\n",
       "<title>D&#45;&gt;T2</title>\n",
       "<path fill=\"none\" stroke=\"#000000\" d=\"M242.1537,-38.3951C256.685,-34.8604 274.7601,-30.4637 290.4036,-26.6586\"/>\n",
       "<polygon fill=\"#000000\" stroke=\"#000000\" points=\"291.3812,-30.0229 300.2707,-24.2585 289.7267,-23.2212 291.3812,-30.0229\"/>\n",
       "<text text-anchor=\"middle\" x=\"270.5\" y=\"-37.8\" font-family=\"Times,serif\" font-size=\"14.00\" fill=\"#000000\">y_d</text>\n",
       "</g>\n",
       "<!-- D&#45;&gt;T2 -->\n",
       "<g id=\"edge6\" class=\"edge\">\n",
       "<title>D&#45;&gt;T2</title>\n",
       "<path fill=\"none\" stroke=\"#000000\" d=\"M233.5426,-26.6987C241.1078,-20.4557 250.3449,-14.2374 260,-11 269.9143,-7.6757 281.0934,-7.5879 291.3946,-8.8598\"/>\n",
       "<polygon fill=\"#000000\" stroke=\"#000000\" points=\"290.8845,-12.323 301.324,-10.5153 292.0358,-5.4183 290.8845,-12.323\"/>\n",
       "<text text-anchor=\"middle\" x=\"270.5\" y=\"-14.8\" font-family=\"Times,serif\" font-size=\"14.00\" fill=\"#000000\">y_g</text>\n",
       "</g>\n",
       "<!-- G -->\n",
       "<g id=\"node2\" class=\"node\">\n",
       "<title>G</title>\n",
       "<polygon fill=\"none\" stroke=\"#000000\" points=\"145,-101 91,-101 91,-65 145,-65 145,-101\"/>\n",
       "<text text-anchor=\"middle\" x=\"118\" y=\"-79.3\" font-family=\"Times,serif\" font-size=\"14.00\" fill=\"#000000\">G</text>\n",
       "</g>\n",
       "<!-- G&#45;&gt;D -->\n",
       "<g id=\"edge3\" class=\"edge\">\n",
       "<title>G&#45;&gt;D</title>\n",
       "<path fill=\"none\" stroke=\"#000000\" d=\"M145.0199,-72.4149C155.3389,-68.3724 167.2836,-63.693 178.3512,-59.3573\"/>\n",
       "<polygon fill=\"#000000\" stroke=\"#000000\" points=\"179.7542,-62.5667 187.7886,-55.6601 177.2009,-56.049 179.7542,-62.5667\"/>\n",
       "<text text-anchor=\"middle\" x=\"166.5\" y=\"-69.8\" font-family=\"Times,serif\" font-size=\"14.00\" fill=\"#000000\">g</text>\n",
       "</g>\n",
       "<!-- z -->\n",
       "<g id=\"node5\" class=\"node\">\n",
       "<title>z</title>\n",
       "<text text-anchor=\"middle\" x=\"27\" y=\"-79.3\" font-family=\"Times,serif\" font-size=\"14.00\" fill=\"#000000\">z</text>\n",
       "</g>\n",
       "<!-- z&#45;&gt;G -->\n",
       "<g id=\"edge1\" class=\"edge\">\n",
       "<title>z&#45;&gt;G</title>\n",
       "<path fill=\"none\" stroke=\"#000000\" d=\"M54.303,-83C62.5813,-83 71.8217,-83 80.6405,-83\"/>\n",
       "<polygon fill=\"#000000\" stroke=\"#000000\" points=\"80.7163,-86.5001 90.7163,-83 80.7162,-79.5001 80.7163,-86.5001\"/>\n",
       "</g>\n",
       "<!-- d -->\n",
       "<g id=\"node6\" class=\"node\">\n",
       "<title>d</title>\n",
       "<text text-anchor=\"middle\" x=\"118\" y=\"-25.3\" font-family=\"Times,serif\" font-size=\"14.00\" fill=\"#000000\">d</text>\n",
       "</g>\n",
       "<!-- d&#45;&gt;D -->\n",
       "<g id=\"edge2\" class=\"edge\">\n",
       "<title>d&#45;&gt;D</title>\n",
       "<path fill=\"none\" stroke=\"#000000\" d=\"M145.0199,-33.4569C155.1304,-35.1246 166.8016,-37.0498 177.6794,-38.844\"/>\n",
       "<polygon fill=\"#000000\" stroke=\"#000000\" points=\"177.3522,-42.3373 187.7886,-40.5115 178.4915,-35.4306 177.3522,-42.3373\"/>\n",
       "</g>\n",
       "</g>\n",
       "</svg>\n"
      ],
      "text/plain": [
       "<graphviz.files.Source at 0x7f808aa70890>"
      ]
     },
     "execution_count": 6,
     "metadata": {},
     "output_type": "execute_result"
    }
   ],
   "source": [
    "# Draw GAN Network flowchart\n",
    "from graphviz import Digraph\n",
    "from graphviz import Source\n",
    "dot=Source('''\n",
    "digraph {\n",
    "    rankdir=LR\n",
    "    D [shape=box];G [label=G shape=box]\n",
    "    T1 [shape=ellipse];T2 [shape=ellipse]\n",
    "    node [shape=none]\n",
    "    z -> G;d -> D;G -> D [label=g];D -> T1 [label=y_g];D -> T2 [label=y_d];D -> T2 [label=y_g]\n",
    "}\n",
    "''');\n",
    "dot"
   ]
  },
  {
   "cell_type": "code",
   "execution_count": 7,
   "metadata": {
    "Collapsed": "false",
    "ExecuteTime": {
     "end_time": "2017-12-12T02:37:05.316982Z",
     "start_time": "2017-12-12T02:37:05.137084Z"
    },
    "code_folding": []
   },
   "outputs": [
    {
     "name": "stdout",
     "output_type": "stream",
     "text": [
      "WARNING:tensorflow:From /usr/local/lib/python2.7/dist-packages/tensorflow/python/framework/op_def_library.py:263: colocate_with (from tensorflow.python.framework.ops) is deprecated and will be removed in a future version.\n",
      "Instructions for updating:\n",
      "Colocations handled automatically by placer.\n",
      "WARNING:tensorflow:From <ipython-input-5-0fb36b44a872>:5: calling dropout (from tensorflow.python.ops.nn_ops) with keep_prob is deprecated and will be removed in a future version.\n",
      "Instructions for updating:\n",
      "Please use `rate` instead of `keep_prob`. Rate should be set to `rate = 1 - keep_prob`.\n"
     ]
    }
   ],
   "source": [
    "h1_size = 150  \n",
    "h2_size = 300  \n",
    "z_size = 100\n",
    "\n",
    "x_data = tf.placeholder(tf.float32, [batch_size, img_size], name=\"x_data\")  \n",
    "z_prior = tf.placeholder(tf.float32, [batch_size, z_size], name=\"z_prior\")  \n",
    "keep_prob = tf.placeholder(tf.float32, name=\"keep_prob\")  \n",
    "global_step = tf.Variable(0, name=\"global_step\", trainable=False)  \n",
    "\n",
    "x_generated, g_params = build_generator(z_prior)  \n",
    "y_data, y_generated, d_params = build_discriminator(x_data, x_generated, keep_prob)  \n",
    "\n",
    "#定义优化目标函数\n",
    "d_loss = - (tf.log(y_data) + tf.log(1 - y_generated))  \n",
    "g_loss = - tf.log(y_generated)  \n",
    "\n",
    "#设定优化方法\n",
    "optimizer = tf.train.GradientDescentOptimizer(0.0001)  \n",
    "\n",
    "#设定优化参数\n",
    "d_trainer = optimizer.minimize(d_loss, var_list=d_params)  \n",
    "g_trainer = optimizer.minimize(g_loss, var_list=g_params)  "
   ]
  },
  {
   "cell_type": "markdown",
   "metadata": {
    "Collapsed": "true"
   },
   "source": [
    "### 结果呈现"
   ]
  },
  {
   "cell_type": "code",
   "execution_count": 8,
   "metadata": {
    "Collapsed": "false",
    "ExecuteTime": {
     "end_time": "2017-12-12T02:37:06.204966Z",
     "start_time": "2017-12-12T02:37:06.197012Z"
    },
    "code_folding": [
     1,
     3
    ]
   },
   "outputs": [],
   "source": [
    "import scipy.misc\n",
    "def imsave(path,images):\n",
    "    return scipy.misc.imsave(path, images)\n",
    "def show_result(batch_res, fname, grid_size=(8, 8), grid_pad=5):  \n",
    "    batch_res = 0.5 * batch_res.reshape((batch_res.shape[0], img_height, img_width)) + 0.5  \n",
    "    img_h, img_w = batch_res.shape[1], batch_res.shape[2]  \n",
    "    grid_h = img_h * grid_size[0] + grid_pad * (grid_size[0] - 1)  \n",
    "    grid_w = img_w * grid_size[1] + grid_pad * (grid_size[1] - 1)  \n",
    "    img_grid = np.zeros((grid_h, grid_w), dtype=np.uint8)  \n",
    "    for i, res in enumerate(batch_res):  \n",
    "        if i >= grid_size[0] * grid_size[1]:  \n",
    "            break  \n",
    "        img = (res) * 255  \n",
    "        img = img.astype(np.uint8)  \n",
    "        row = (i // grid_size[0]) * (img_h + grid_pad)  \n",
    "        col = (i % grid_size[1]) * (img_w + grid_pad)  \n",
    "        img_grid[row:row + img_h, col:col + img_w] = img  \n",
    "    imsave(fname, img_grid)"
   ]
  },
  {
   "cell_type": "markdown",
   "metadata": {
    "Collapsed": "false"
   },
   "source": [
    "### 监控(Ctrl+B)"
   ]
  },
  {
   "cell_type": "code",
   "execution_count": 9,
   "metadata": {
    "Collapsed": "false",
    "ExecuteTime": {
     "end_time": "2017-12-12T02:37:07.065975Z",
     "start_time": "2017-12-12T02:37:07.063431Z"
    },
    "code_folding": [
     0
    ]
   },
   "outputs": [],
   "source": [
    "#use animation do real time monitor\n",
    "RT_x = np.linspace(0, 1000, 1000)\n",
    "RT_y = np.zeros([2,1000],dtype='float')"
   ]
  },
  {
   "cell_type": "code",
   "execution_count": 10,
   "metadata": {
    "Collapsed": "false",
    "ExecuteTime": {
     "end_time": "2017-12-12T02:37:07.817403Z",
     "start_time": "2017-12-12T02:37:07.798203Z"
    },
    "code_folding": []
   },
   "outputs": [],
   "source": [
    "def RT():\n",
    "    import matplotlib.animation as animation\n",
    "    %matplotlib notebook\n",
    "    \n",
    "    fig = plt.figure()\n",
    "    ax = plt.axes(xlim=(0, 2), ylim=(-2, 2))\n",
    "    line, = ax.plot([], [], lw=2)\n",
    "\n",
    "    def animate2(i):\n",
    "        line.set_data(RT_x,RT_y[0,:])\n",
    "        plt.title(''.join(['times:',str(i)]))\n",
    "        return line,\n",
    "    anim = animation.FuncAnimation(\n",
    "        fig, animate2,  interval=500, blit=True)\n",
    "    return anim\n",
    "#RT()\n",
    "\n",
    "def SS():\n",
    "    fig = plt.figure()\n",
    "    plt.plot(RT_y.transpose());\n",
    "    plt.show();"
   ]
  },
  {
   "cell_type": "markdown",
   "metadata": {
    "Collapsed": "false"
   },
   "source": [
    "### 训练GAN"
   ]
  },
  {
   "cell_type": "code",
   "execution_count": 11,
   "metadata": {
    "Collapsed": "false",
    "ExecuteTime": {
     "end_time": "2017-12-12T02:37:09.251054Z",
     "start_time": "2017-12-12T02:37:09.234812Z"
    },
    "code_folding": []
   },
   "outputs": [],
   "source": [
    "def train():  \n",
    "    mnist = input_data.read_data_sets('MNIST_data', one_hot=True)  \n",
    "    init = tf.global_variables_initializer()  \n",
    "    saver = tf.train.Saver()  \n",
    "    sess = tf.Session()  \n",
    "    sess.run(init)  \n",
    "    \n",
    "    if to_restore:  \n",
    "        chkpt_fname = tf.train.latest_checkpoint(output_path)\n",
    "        print(chkpt_fname)\n",
    "        saver.restore(sess, chkpt_fname)  \n",
    "    else:  \n",
    "        if os.path.exists(output_path):  \n",
    "            shutil.rmtree(output_path)  \n",
    "        os.mkdir(output_path)\n",
    "\n",
    "    for i in range(sess.run(global_step), max_epoch):  \n",
    "        for j in range(60000 / batch_size):  \n",
    "            x_value, _ = mnist.train.next_batch(batch_size)  \n",
    "            x_value = 2 * x_value.astype(np.float32) - 1  \n",
    "            z_value = np.random.normal(0, 1, size=(batch_size, z_size)).astype(np.float32)  \n",
    "            _,d_l=sess.run([d_trainer,d_loss],  \n",
    "                     feed_dict={x_data: x_value, z_prior: z_value, keep_prob: np.sum(0.7).astype(np.float32)})  \n",
    "            #if j % 1 == 0:  \n",
    "            _,g_l=sess.run([g_trainer,g_loss], \n",
    "                         feed_dict={x_data: x_value, z_prior: z_value, keep_prob: np.sum(0.7).astype(np.float32)}) \n",
    "        #print np.mean(g_l)\n",
    "        RT_y[0,i]=np.mean(d_l);\n",
    "        RT_y[1,i]=np.mean(g_l);\n",
    "        if(i%10==0) :\n",
    "                print \"epoch:%s, d_loss:%f,g_loss:%f\" % (i, np.mean(d_l),np.mean(g_l))  \n",
    "        if (i%50==0):\n",
    "            z_sample_val = np.random.normal(0, 1, size=(batch_size, z_size)).astype(np.float32)  \n",
    "            x_gen_val = sess.run(x_generated, feed_dict={z_prior: z_sample_val})  \n",
    "            show_result(x_gen_val, os.path.join(output_path, \"sample%s.jpg\" % i))  \n",
    "            sess.run(tf.assign(global_step, i + 1))  \n",
    "            saver.save(sess, os.path.join(output_path, \"model\"), global_step=global_step)  "
   ]
  },
  {
   "cell_type": "code",
   "execution_count": null,
   "metadata": {
    "Collapsed": "false",
    "ExecuteTime": {
     "end_time": "2017-12-12T02:44:19.309378Z",
     "start_time": "2017-12-12T02:37:10.157161Z"
    }
   },
   "outputs": [
    {
     "name": "stdout",
     "output_type": "stream",
     "text": [
      "Extracting MNIST_data/train-images-idx3-ubyte.gz\n",
      "Extracting MNIST_data/train-labels-idx1-ubyte.gz\n",
      "WARNING:tensorflow:From /usr/local/lib/python2.7/dist-packages/tensorflow/contrib/learn/python/learn/datasets/mnist.py:110: dense_to_one_hot (from tensorflow.contrib.learn.python.learn.datasets.mnist) is deprecated and will be removed in a future version.\n",
      "Instructions for updating:\n",
      "Please use tf.one_hot on tensors.\n",
      "Extracting MNIST_data/t10k-images-idx3-ubyte.gz\n",
      "Extracting MNIST_data/t10k-labels-idx1-ubyte.gz\n",
      "output/model-1\n",
      "WARNING:tensorflow:From /usr/local/lib/python2.7/dist-packages/tensorflow/python/training/saver.py:1266: checkpoint_exists (from tensorflow.python.training.checkpoint_management) is deprecated and will be removed in a future version.\n",
      "Instructions for updating:\n",
      "Use standard file APIs to check for files with this prefix.\n",
      "INFO:tensorflow:Restoring parameters from output/model-1\n",
      "epoch:0, d_loss:0.964235,g_loss:0.878101\n"
     ]
    },
    {
     "name": "stderr",
     "output_type": "stream",
     "text": [
      "/usr/local/lib/python2.7/dist-packages/ipykernel_launcher.py:3: DeprecationWarning: `imsave` is deprecated!\n",
      "`imsave` is deprecated in SciPy 1.0.0, and will be removed in 1.2.0.\n",
      "Use ``imageio.imwrite`` instead.\n",
      "  This is separate from the ipykernel package so we can avoid doing imports until\n"
     ]
    },
    {
     "name": "stdout",
     "output_type": "stream",
     "text": [
      "epoch:10, d_loss:0.988676,g_loss:1.455994\n",
      "epoch:20, d_loss:0.835507,g_loss:1.502312\n",
      "epoch:30, d_loss:0.776289,g_loss:1.629739\n",
      "epoch:40, d_loss:0.896620,g_loss:1.449046\n",
      "epoch:50, d_loss:0.785238,g_loss:1.553027\n",
      "epoch:60, d_loss:0.870231,g_loss:1.494320\n",
      "epoch:70, d_loss:0.942693,g_loss:1.466509\n",
      "epoch:80, d_loss:0.957283,g_loss:1.518434\n",
      "epoch:90, d_loss:0.831290,g_loss:1.561775\n",
      "epoch:100, d_loss:0.988125,g_loss:1.525333\n",
      "epoch:110, d_loss:0.946911,g_loss:1.469787\n"
     ]
    }
   ],
   "source": [
    "h1_size = 150  \n",
    "h2_size = 300  \n",
    "z_size = 100\n",
    "import shutil\n",
    "max_epoch = 1000\n",
    "train();"
   ]
  },
  {
   "cell_type": "code",
   "execution_count": null,
   "metadata": {
    "Collapsed": "false",
    "ExecuteTime": {
     "end_time": "2017-12-08T07:55:24.219025Z",
     "start_time": "2017-12-08T07:55:24.155778Z"
    }
   },
   "outputs": [],
   "source": [
    "SS()"
   ]
  },
  {
   "cell_type": "code",
   "execution_count": null,
   "metadata": {
    "Collapsed": "false"
   },
   "outputs": [],
   "source": []
  },
  {
   "cell_type": "code",
   "execution_count": null,
   "metadata": {
    "Collapsed": "false"
   },
   "outputs": [],
   "source": []
  },
  {
   "cell_type": "code",
   "execution_count": null,
   "metadata": {
    "Collapsed": "false"
   },
   "outputs": [],
   "source": []
  },
  {
   "cell_type": "code",
   "execution_count": null,
   "metadata": {
    "Collapsed": "false"
   },
   "outputs": [],
   "source": []
  },
  {
   "cell_type": "code",
   "execution_count": null,
   "metadata": {
    "Collapsed": "false"
   },
   "outputs": [],
   "source": []
  },
  {
   "cell_type": "markdown",
   "metadata": {
    "Collapsed": "false",
    "ExecuteTime": {
     "end_time": "2017-12-08T08:10:09.020289Z",
     "start_time": "2017-12-08T08:10:09.015276Z"
    }
   },
   "source": [
    "### 新构建模型\n",
    "* 眼脑特征\n",
    "  1. 30s以上看一个物品，突然闭眼后可以看到反色图像\n",
    "  1. 长期看一个物品，可以看到物品不存在\n",
    "  1. 点状图像呈现区间的暗点\n",
    "  1. 药物作用或血糖作用，看到的物品变形或噪声\n",
    "  1. 看到静态图像产生动态效果（视觉错觉）\n",
    "  1. 某些人的大脑可以对图像进行全部记忆，而非反色像\n",
    "  1. 做梦也不是反色像\n",
    "  1. 类似于牛鞭效应（Src平衡Dst，Src的剧烈变化牵动Dst到极反向）\n",
    "  1. 可以进行视觉方式欺骗图像构成动画！用于研究\n",
    "* 智能模式\n",
    "  1. 产生‘1’的大体印象\n",
    "  1. 进行新的‘1’的变换的学习，学习变换方式与运用变换的方式\n",
    "\n",
    "<img src=\"EyeBrainImg/27a.gif\",width=200,height=200>\n",
    "<img src=\"EyeBrainImg/10.jpg\",width=200,height=200>\n",
    "\n",
    "* 阶段进展\n",
    "  1. 人眼响应5s左右，消逝瞬间产生3s左右反色响应\n",
    "  1. 先由原色->目标色，突破目标色 产生‘等距离’偏移到达虚反色\n",
    "  1. 虚反色逐步与目标色过度3s左右，形成最终目标色\n",
    "  1. 虚反色与当前色有叠加效应，当前色时间过短不足以产生消逝虚反色\n",
    "  1. 人眼响应RGB或是YUV未进行实验,倾向于YUV实验结果\n",
    "  1. 形式上为跟随器的效果，5s学习，3s回忆\n",
    "  1. 跟随的效果是输入产生的，还是特征反卷积形成的呢???\n",
    "  1. 完全由想象产生的虚像是否可以与实际图像产生叠加，如果想象产生的虚像等效与虚反色像则虚反色像不是输入诱导的\n",
    "  1. 人眼中心没有虚反色，边缘容易产生虚反色图像"
   ]
  },
  {
   "cell_type": "markdown",
   "metadata": {
    "Collapsed": "false",
    "ExecuteTime": {
     "end_time": "2017-12-14T06:14:45.492842Z",
     "start_time": "2017-12-14T06:14:45.491247Z"
    }
   },
   "source": [
    "#### 新设计网络结构"
   ]
  },
  {
   "cell_type": "code",
   "execution_count": 46,
   "metadata": {
    "Collapsed": "false",
    "ExecuteTime": {
     "end_time": "2017-12-14T06:20:51.125546Z",
     "start_time": "2017-12-14T06:20:51.052542Z"
    },
    "code_folding": [
     0
    ]
   },
   "outputs": [
    {
     "data": {
      "image/svg+xml": [
       "<?xml version=\"1.0\" encoding=\"UTF-8\" standalone=\"no\"?>\n",
       "<!DOCTYPE svg PUBLIC \"-//W3C//DTD SVG 1.1//EN\"\n",
       " \"http://www.w3.org/Graphics/SVG/1.1/DTD/svg11.dtd\">\n",
       "<!-- Generated by graphviz version 2.26.3 (20100126.1600)\n",
       " -->\n",
       "<!-- Title: G Pages: 1 -->\n",
       "<svg width=\"376pt\" height=\"515pt\"\n",
       " viewBox=\"0.00 0.00 376.00 515.00\" xmlns=\"http://www.w3.org/2000/svg\" xmlns:xlink=\"http://www.w3.org/1999/xlink\">\n",
       "<g id=\"graph1\" class=\"graph\" transform=\"scale(1 1) rotate(0) translate(4 511)\">\n",
       "<title>G</title>\n",
       "<polygon fill=\"white\" stroke=\"white\" points=\"-4,5 -4,-511 373,-511 373,5 -4,5\"/>\n",
       "<g id=\"graph2\" class=\"cluster\"><title>cluster0</title>\n",
       "<polygon fill=\"none\" stroke=\"black\" points=\"127,-179 127,-443 247,-443 247,-179 127,-179\"/>\n",
       "<text text-anchor=\"middle\" x=\"187\" y=\"-426.4\" font-family=\"Times Roman,serif\" font-size=\"14.00\">PREPROCESS</text>\n",
       "</g>\n",
       "<g id=\"graph3\" class=\"cluster\"><title>cluster1</title>\n",
       "<polygon fill=\"none\" stroke=\"black\" points=\"150,-66 150,-143 236,-143 236,-66 150,-66\"/>\n",
       "<text text-anchor=\"middle\" x=\"193\" y=\"-126.4\" font-family=\"Times Roman,serif\" font-size=\"14.00\">GAN Train</text>\n",
       "</g>\n",
       "<g id=\"graph4\" class=\"cluster\"><title>cluster2</title>\n",
       "<polygon fill=\"none\" stroke=\"black\" points=\"244,-66 244,-143 360,-143 360,-66 244,-66\"/>\n",
       "<text text-anchor=\"middle\" x=\"302\" y=\"-126.4\" font-family=\"Times Roman,serif\" font-size=\"14.00\">Class</text>\n",
       "</g>\n",
       "<g id=\"graph5\" class=\"cluster\"><title>cluster3</title>\n",
       "<polygon fill=\"none\" stroke=\"black\" points=\"8,-66 8,-256 116,-256 116,-66 8,-66\"/>\n",
       "<text text-anchor=\"middle\" x=\"62\" y=\"-239.4\" font-family=\"Times Roman,serif\" font-size=\"14.00\">QOp Train</text>\n",
       "</g>\n",
       "<!-- BrainGenPre -->\n",
       "<g id=\"node2\" class=\"node\"><title>BrainGenPre</title>\n",
       "<polygon fill=\"lightgrey\" stroke=\"black\" points=\"239,-410 135,-410 135,-374 239,-374 239,-410\"/>\n",
       "<text text-anchor=\"middle\" x=\"187\" y=\"-387.9\" font-family=\"Times Roman,serif\" font-size=\"14.00\">BrainGenPre</text>\n",
       "</g>\n",
       "<!-- BrainGenPro -->\n",
       "<g id=\"node3\" class=\"node\"><title>BrainGenPro</title>\n",
       "<polygon fill=\"lightgrey\" stroke=\"black\" points=\"239,-336 135,-336 135,-300 239,-300 239,-336\"/>\n",
       "<text text-anchor=\"middle\" x=\"187\" y=\"-313.9\" font-family=\"Times Roman,serif\" font-size=\"14.00\">BrainGenPro</text>\n",
       "</g>\n",
       "<!-- BrainGenPre&#45;&gt;BrainGenPro -->\n",
       "<g id=\"edge8\" class=\"edge\"><title>BrainGenPre&#45;&gt;BrainGenPro</title>\n",
       "<path fill=\"none\" stroke=\"black\" d=\"M187,-373.708C187,-365.464 187,-355.538 187,-346.362\"/>\n",
       "<polygon fill=\"black\" stroke=\"black\" points=\"190.5,-346.082 187,-336.082 183.5,-346.082 190.5,-346.082\"/>\n",
       "</g>\n",
       "<!-- BrainGen -->\n",
       "<g id=\"node4\" class=\"node\"><title>BrainGen</title>\n",
       "<polygon fill=\"lightgrey\" stroke=\"black\" points=\"239,-223 157,-223 157,-187 239,-187 239,-223\"/>\n",
       "<text text-anchor=\"middle\" x=\"198\" y=\"-200.9\" font-family=\"Times Roman,serif\" font-size=\"14.00\">BrainGen</text>\n",
       "</g>\n",
       "<!-- BrainGenPro&#45;&gt;BrainGen -->\n",
       "<g id=\"edge10\" class=\"edge\"><title>BrainGenPro&#45;&gt;BrainGen</title>\n",
       "<path fill=\"none\" stroke=\"black\" d=\"M165.481,-299.695C160.812,-294.502 156.52,-288.479 154,-282 151.1,-274.544 151.48,-271.593 154,-264 157.953,-252.087 165.35,-240.63 172.967,-231.033\"/>\n",
       "<polygon fill=\"black\" stroke=\"black\" points=\"175.872,-233.017 179.635,-223.113 170.517,-228.508 175.872,-233.017\"/>\n",
       "<text text-anchor=\"middle\" x=\"169.5\" y=\"-268.9\" font-family=\"Times Roman,serif\" font-size=\"14.00\">QOp</text>\n",
       "</g>\n",
       "<!-- BrainGen&#45;&gt;BrainGenPro -->\n",
       "<g id=\"edge14\" class=\"edge\"><title>BrainGen&#45;&gt;BrainGenPro</title>\n",
       "<path fill=\"none\" stroke=\"black\" d=\"M196.237,-223.11C194.491,-241.051 191.79,-268.79 189.76,-289.651\"/>\n",
       "<polygon fill=\"black\" stroke=\"black\" points=\"186.253,-289.553 188.767,-299.845 193.22,-290.231 186.253,-289.553\"/>\n",
       "<text text-anchor=\"middle\" x=\"208.5\" y=\"-268.9\" font-family=\"Times Roman,serif\" font-size=\"14.00\">RNN</text>\n",
       "</g>\n",
       "<!-- IsChar? -->\n",
       "<g id=\"node6\" class=\"node\"><title>IsChar?</title>\n",
       "<text text-anchor=\"middle\" x=\"194\" y=\"-87.9\" font-family=\"Times Roman,serif\" font-size=\"14.00\">IsChar?</text>\n",
       "</g>\n",
       "<!-- BrainGen&#45;&gt;IsChar? -->\n",
       "<g id=\"edge12\" class=\"edge\"><title>BrainGen&#45;&gt;IsChar?</title>\n",
       "<path fill=\"none\" stroke=\"black\" d=\"M197.357,-186.845C196.722,-168.888 195.74,-141.147 195.002,-120.297\"/>\n",
       "<polygon fill=\"black\" stroke=\"black\" points=\"198.493,-119.98 194.641,-110.11 191.497,-120.228 198.493,-119.98\"/>\n",
       "<text text-anchor=\"middle\" x=\"219\" y=\"-155.9\" font-family=\"Times Roman,serif\" font-size=\"14.00\">OutIm</text>\n",
       "</g>\n",
       "<!-- WhichChar? -->\n",
       "<g id=\"node8\" class=\"node\"><title>WhichChar?</title>\n",
       "<text text-anchor=\"middle\" x=\"302\" y=\"-87.9\" font-family=\"Times Roman,serif\" font-size=\"14.00\">WhichChar?</text>\n",
       "</g>\n",
       "<!-- BrainGen&#45;&gt;WhichChar? -->\n",
       "<g id=\"edge18\" class=\"edge\"><title>BrainGen&#45;&gt;WhichChar?</title>\n",
       "<path fill=\"none\" stroke=\"black\" d=\"M224.451,-186.795C231.463,-181.432 238.801,-175.301 245,-169 260.016,-153.736 274.343,-134.352 284.878,-118.852\"/>\n",
       "<polygon fill=\"black\" stroke=\"black\" points=\"287.987,-120.497 290.619,-110.235 282.162,-116.616 287.987,-120.497\"/>\n",
       "<text text-anchor=\"middle\" x=\"283\" y=\"-155.9\" font-family=\"Times Roman,serif\" font-size=\"14.00\">OutIm</text>\n",
       "</g>\n",
       "<!-- IsSameOp? -->\n",
       "<g id=\"node11\" class=\"node\"><title>IsSameOp?</title>\n",
       "<polygon fill=\"lightgrey\" stroke=\"black\" points=\"108,-110 16,-110 16,-74 108,-74 108,-110\"/>\n",
       "<text text-anchor=\"middle\" x=\"62\" y=\"-87.9\" font-family=\"Times Roman,serif\" font-size=\"14.00\">IsSameOp?</text>\n",
       "</g>\n",
       "<!-- BrainGen&#45;&gt;IsSameOp? -->\n",
       "<g id=\"edge30\" class=\"edge\"><title>BrainGen&#45;&gt;IsSameOp?</title>\n",
       "<path fill=\"none\" stroke=\"black\" d=\"M157.038,-186.841C147.408,-181.72 137.487,-175.694 129,-169 110.686,-154.556 93.4927,-134.609 81.1089,-118.637\"/>\n",
       "<polygon fill=\"black\" stroke=\"black\" points=\"83.5733,-116.093 74.7473,-110.232 77.9919,-120.318 83.5733,-116.093\"/>\n",
       "<text text-anchor=\"middle\" x=\"161\" y=\"-155.9\" font-family=\"Times Roman,serif\" font-size=\"14.00\">VirOutIm</text>\n",
       "</g>\n",
       "<!-- GAN_1&gt;95% -->\n",
       "<g id=\"node19\" class=\"node\"><title>GAN_1&gt;95%</title>\n",
       "<text text-anchor=\"middle\" x=\"194\" y=\"-13.9\" font-family=\"Times Roman,serif\" font-size=\"14.00\">GAN_1&gt;95%</text>\n",
       "</g>\n",
       "<!-- IsChar?&#45;&gt;GAN_1&gt;95% -->\n",
       "<g id=\"edge16\" class=\"edge\"><title>IsChar?&#45;&gt;GAN_1&gt;95%</title>\n",
       "<path fill=\"none\" stroke=\"black\" d=\"M194,-73.7079C194,-65.4635 194,-55.5376 194,-46.3622\"/>\n",
       "<polygon fill=\"black\" stroke=\"black\" points=\"197.5,-46.0817 194,-36.0817 190.5,-46.0818 197.5,-46.0817\"/>\n",
       "</g>\n",
       "<!-- P_2 -->\n",
       "<g id=\"node22\" class=\"node\"><title>P_2</title>\n",
       "<text text-anchor=\"middle\" x=\"302\" y=\"-13.9\" font-family=\"Times Roman,serif\" font-size=\"14.00\">P_2</text>\n",
       "</g>\n",
       "<!-- WhichChar?&#45;&gt;P_2 -->\n",
       "<g id=\"edge20\" class=\"edge\"><title>WhichChar?&#45;&gt;P_2</title>\n",
       "<path fill=\"none\" stroke=\"black\" d=\"M302,-73.7079C302,-65.4635 302,-55.5376 302,-46.3622\"/>\n",
       "<polygon fill=\"black\" stroke=\"black\" points=\"305.5,-46.0817 302,-36.0817 298.5,-46.0818 305.5,-46.0817\"/>\n",
       "</g>\n",
       "<!-- Gen -->\n",
       "<g id=\"node10\" class=\"node\"><title>Gen</title>\n",
       "<polygon fill=\"lightgrey\" stroke=\"black\" points=\"78,-223 24,-223 24,-187 78,-187 78,-223\"/>\n",
       "<text text-anchor=\"middle\" x=\"51\" y=\"-200.9\" font-family=\"Times Roman,serif\" font-size=\"14.00\">Gen</text>\n",
       "</g>\n",
       "<!-- Gen&#45;&gt;BrainGenPro -->\n",
       "<g id=\"edge22\" class=\"edge\"><title>Gen&#45;&gt;BrainGenPro</title>\n",
       "<path fill=\"none\" stroke=\"black\" d=\"M61.664,-223.174C72.3748,-240.17 90.2377,-265.36 111,-282 117.088,-286.879 123.946,-291.29 130.987,-295.215\"/>\n",
       "<polygon fill=\"black\" stroke=\"black\" points=\"129.479,-298.376 139.959,-299.926 132.733,-292.179 129.479,-298.376\"/>\n",
       "<text text-anchor=\"middle\" x=\"129.5\" y=\"-268.9\" font-family=\"Times Roman,serif\" font-size=\"14.00\">VirIm</text>\n",
       "</g>\n",
       "<!-- Gen&#45;&gt;IsSameOp? -->\n",
       "<g id=\"edge24\" class=\"edge\"><title>Gen&#45;&gt;IsSameOp?</title>\n",
       "<path fill=\"none\" stroke=\"black\" d=\"M46.1483,-186.815C44.8567,-181.151 43.6427,-174.855 43,-169 42.1271,-161.048 41.7588,-158.903 43,-151 44.6356,-140.585 47.8019,-129.501 51.0879,-119.785\"/>\n",
       "<polygon fill=\"black\" stroke=\"black\" points=\"54.4292,-120.835 54.4963,-110.241 47.837,-118.481 54.4292,-120.835\"/>\n",
       "<text text-anchor=\"middle\" x=\"71.5\" y=\"-155.9\" font-family=\"Times Roman,serif\" font-size=\"14.00\">VirImOp</text>\n",
       "</g>\n",
       "<!-- GAN_2&gt;95% -->\n",
       "<g id=\"node26\" class=\"node\"><title>GAN_2&gt;95%</title>\n",
       "<text text-anchor=\"middle\" x=\"62\" y=\"-13.9\" font-family=\"Times Roman,serif\" font-size=\"14.00\">GAN_2&gt;95%</text>\n",
       "</g>\n",
       "<!-- IsSameOp?&#45;&gt;GAN_2&gt;95% -->\n",
       "<g id=\"edge26\" class=\"edge\"><title>IsSameOp?&#45;&gt;GAN_2&gt;95%</title>\n",
       "<path fill=\"none\" stroke=\"black\" d=\"M62,-73.7079C62,-65.4635 62,-55.5376 62,-46.3622\"/>\n",
       "<polygon fill=\"black\" stroke=\"black\" points=\"65.5001,-46.0817 62,-36.0817 58.5001,-46.0818 65.5001,-46.0817\"/>\n",
       "</g>\n",
       "<!-- RealIm1 -->\n",
       "<g id=\"node12\" class=\"node\"><title>RealIm1</title>\n",
       "<text text-anchor=\"middle\" x=\"187\" y=\"-484.9\" font-family=\"Times Roman,serif\" font-size=\"14.00\">RealIm1</text>\n",
       "</g>\n",
       "<!-- RealIm1&#45;&gt;BrainGenPre -->\n",
       "<g id=\"edge6\" class=\"edge\"><title>RealIm1&#45;&gt;BrainGenPre</title>\n",
       "<path fill=\"none\" stroke=\"black\" d=\"M187,-470.755C187,-456.529 187,-436.521 187,-420.232\"/>\n",
       "<polygon fill=\"black\" stroke=\"black\" points=\"190.5,-420.163 187,-410.163 183.5,-420.163 190.5,-420.163\"/>\n",
       "</g>\n",
       "<!-- RealIm2 -->\n",
       "<g id=\"node27\" class=\"node\"><title>RealIm2</title>\n",
       "<text text-anchor=\"middle\" x=\"51\" y=\"-313.9\" font-family=\"Times Roman,serif\" font-size=\"14.00\">RealIm2</text>\n",
       "</g>\n",
       "<!-- RealIm2&#45;&gt;Gen -->\n",
       "<g id=\"edge28\" class=\"edge\"><title>RealIm2&#45;&gt;Gen</title>\n",
       "<path fill=\"none\" stroke=\"black\" d=\"M51,-299.845C51,-281.888 51,-254.147 51,-233.297\"/>\n",
       "<polygon fill=\"black\" stroke=\"black\" points=\"54.5001,-233.11 51,-223.11 47.5001,-233.11 54.5001,-233.11\"/>\n",
       "</g>\n",
       "</g>\n",
       "</svg>\n"
      ],
      "text/plain": [
       "<graphviz.files.Source at 0x7f8334b9ee50>"
      ]
     },
     "execution_count": 46,
     "metadata": {},
     "output_type": "execute_result"
    }
   ],
   "source": [
    "#\n",
    "from graphviz import Source\n",
    "dot = Source('''\n",
    "\n",
    "digraph G{\n",
    "    rankdir=TB;compound=true;node [shape=none];\n",
    "    \n",
    "    //QOperation [shape=ellipse,style=filled];\n",
    "    \n",
    "    subgraph cluster0 {\n",
    "        label =\"PREPROCESS\"\n",
    "        node [shape=box,style=filled];\n",
    "        BrainGenPre;BrainGenPro;BrainGen;\n",
    "    }\n",
    "   \n",
    "    subgraph cluster1 {\n",
    "        label =\"GAN Train\"\n",
    "        \"IsChar?\";\n",
    "    }\n",
    "    \n",
    "    subgraph cluster2 {\n",
    "        label =\"Class\"\n",
    "        \"WhichChar?\"\n",
    "    }\n",
    "    \n",
    "    subgraph cluster3 {\n",
    "        label =\"QOp Train\"\n",
    "        node [shape=box,style=filled];\n",
    "        \"Gen\";\"IsSameOp?\"\n",
    "    }\n",
    "    \n",
    "    RealIm1 -> BrainGenPre\n",
    "    BrainGenPre -> BrainGenPro\n",
    "    //QOperation -> BrainGenPro\n",
    "    //QOperation -> Gen\n",
    "    BrainGenPro -> BrainGen [label=\"QOp\"]\n",
    "    BrainGen -> \"IsChar?\" [label=\"OutIm\"]\n",
    "    \n",
    "    BrainGen-> BrainGenPro [label=\"RNN\"]\n",
    "    \n",
    "    \"IsChar?\" -> \"GAN_1>95%\"\n",
    "    \n",
    "    BrainGen -> \"WhichChar?\" [label=\"OutIm\"]\n",
    "    \"WhichChar?\" -> \"P_2\"\n",
    "    \n",
    "    \"Gen\" -> BrainGenPro [label=\"VirIm\"]\n",
    "    \"Gen\" -> \"IsSameOp?\" [label=\"VirImOp\"]\n",
    "    \n",
    "    \n",
    "    \"IsSameOp?\" -> \"GAN_2>95%\"\n",
    "    \n",
    "    RealIm2 -> Gen\n",
    "    BrainGen -> \"IsSameOp?\" [label=\"VirOutIm\"]\n",
    "    \n",
    "}''');\n",
    "dot"
   ]
  },
  {
   "cell_type": "markdown",
   "metadata": {
    "Collapsed": "false",
    "ExecuteTime": {
     "end_time": "2017-12-14T06:15:00.712068Z",
     "start_time": "2017-12-14T06:15:00.709794Z"
    }
   },
   "source": [
    "#### 原始GAN网络结构"
   ]
  },
  {
   "cell_type": "code",
   "execution_count": 47,
   "metadata": {
    "Collapsed": "false",
    "ExecuteTime": {
     "end_time": "2017-12-14T06:20:51.505221Z",
     "start_time": "2017-12-14T06:20:51.488511Z"
    },
    "code_folding": [
     0
    ],
    "scrolled": true
   },
   "outputs": [
    {
     "data": {
      "image/svg+xml": [
       "<?xml version=\"1.0\" encoding=\"UTF-8\" standalone=\"no\"?>\n",
       "<!DOCTYPE svg PUBLIC \"-//W3C//DTD SVG 1.1//EN\"\n",
       " \"http://www.w3.org/Graphics/SVG/1.1/DTD/svg11.dtd\">\n",
       "<!-- Generated by graphviz version 2.26.3 (20100126.1600)\n",
       " -->\n",
       "<!-- Title: G Pages: 1 -->\n",
       "<svg width=\"586pt\" height=\"148pt\"\n",
       " viewBox=\"0.00 0.00 586.00 148.00\" xmlns=\"http://www.w3.org/2000/svg\" xmlns:xlink=\"http://www.w3.org/1999/xlink\">\n",
       "<g id=\"graph1\" class=\"graph\" transform=\"scale(1 1) rotate(0) translate(4 144)\">\n",
       "<title>G</title>\n",
       "<polygon fill=\"white\" stroke=\"white\" points=\"-4,5 -4,-144 583,-144 583,5 -4,5\"/>\n",
       "<g id=\"graph2\" class=\"cluster\"><title>cluster0</title>\n",
       "<polygon fill=\"none\" stroke=\"black\" points=\"88,-19 88,-96 424,-96 424,-19 88,-19\"/>\n",
       "<text text-anchor=\"middle\" x=\"256\" y=\"-79.4\" font-family=\"Times Roman,serif\" font-size=\"14.00\">GAN Network</text>\n",
       "</g>\n",
       "<!-- GEN -->\n",
       "<g id=\"node2\" class=\"node\"><title>GEN</title>\n",
       "<polygon fill=\"lightgrey\" stroke=\"black\" points=\"220,-63 96,-63 96,-27 220,-27 220,-63\"/>\n",
       "<text text-anchor=\"middle\" x=\"158\" y=\"-40.9\" font-family=\"Times Roman,serif\" font-size=\"14.00\">GEN(g_params)</text>\n",
       "</g>\n",
       "<!-- DIS -->\n",
       "<g id=\"node3\" class=\"node\"><title>DIS</title>\n",
       "<polygon fill=\"lightgrey\" stroke=\"black\" points=\"416,-63 298,-63 298,-27 416,-27 416,-63\"/>\n",
       "<text text-anchor=\"middle\" x=\"357\" y=\"-40.9\" font-family=\"Times Roman,serif\" font-size=\"14.00\">DIS(d_params)</text>\n",
       "</g>\n",
       "<!-- GEN&#45;&gt;DIS -->\n",
       "<g id=\"edge3\" class=\"edge\"><title>GEN&#45;&gt;DIS</title>\n",
       "<path fill=\"none\" stroke=\"black\" d=\"M220.417,-39.0088C226.356,-38.5984 232.289,-38.2494 238,-38 256.649,-37.1857 261.353,-37.1541 280,-38 282.523,-38.1144 285.09,-38.2498 287.683,-38.4025\"/>\n",
       "<polygon fill=\"black\" stroke=\"black\" points=\"287.553,-41.9015 297.763,-39.0693 288.015,-34.9168 287.553,-41.9015\"/>\n",
       "<text text-anchor=\"middle\" x=\"259\" y=\"-42.4\" font-family=\"Times Roman,serif\" font-size=\"14.00\">x_gen</text>\n",
       "</g>\n",
       "<!-- loss_g -->\n",
       "<g id=\"node10\" class=\"node\"><title>loss_g</title>\n",
       "<text text-anchor=\"middle\" x=\"549\" y=\"-67.9\" font-family=\"Times Roman,serif\" font-size=\"14.00\">loss_g</text>\n",
       "</g>\n",
       "<!-- DIS&#45;&gt;loss_g -->\n",
       "<g id=\"edge9\" class=\"edge\"><title>DIS&#45;&gt;loss_g</title>\n",
       "<path fill=\"none\" stroke=\"black\" d=\"M416.173,-53.3212C446.522,-57.589 482.658,-62.6707 509.572,-66.4555\"/>\n",
       "<polygon fill=\"black\" stroke=\"black\" points=\"509.378,-69.9625 519.768,-67.8892 510.352,-63.0307 509.378,-69.9625\"/>\n",
       "<text text-anchor=\"middle\" x=\"468\" y=\"-69.4\" font-family=\"Times Roman,serif\" font-size=\"14.00\">g_params</text>\n",
       "</g>\n",
       "<!-- loss_d -->\n",
       "<g id=\"node12\" class=\"node\"><title>loss_d</title>\n",
       "<text text-anchor=\"middle\" x=\"549\" y=\"-13.9\" font-family=\"Times Roman,serif\" font-size=\"14.00\">loss_d</text>\n",
       "</g>\n",
       "<!-- DIS&#45;&gt;loss_d -->\n",
       "<g id=\"edge11\" class=\"edge\"><title>DIS&#45;&gt;loss_d</title>\n",
       "<path fill=\"none\" stroke=\"black\" d=\"M416.173,-36.6788C446.522,-32.411 482.658,-27.3293 509.572,-23.5445\"/>\n",
       "<polygon fill=\"black\" stroke=\"black\" points=\"510.352,-26.9693 519.768,-22.1108 509.378,-20.0375 510.352,-26.9693\"/>\n",
       "<text text-anchor=\"middle\" x=\"468\" y=\"-38.4\" font-family=\"Times Roman,serif\" font-size=\"14.00\">d_params</text>\n",
       "</g>\n",
       "<!-- randZ -->\n",
       "<g id=\"node5\" class=\"node\"><title>randZ</title>\n",
       "<text text-anchor=\"middle\" x=\"29\" y=\"-40.9\" font-family=\"Times Roman,serif\" font-size=\"14.00\">randZ</text>\n",
       "</g>\n",
       "<!-- randZ&#45;&gt;GEN -->\n",
       "<g id=\"edge5\" class=\"edge\"><title>randZ&#45;&gt;GEN</title>\n",
       "<path fill=\"none\" stroke=\"black\" d=\"M58.2721,-45C66.603,-45 76.065,-45 85.7638,-45\"/>\n",
       "<polygon fill=\"black\" stroke=\"black\" points=\"85.9192,-48.5001 95.9191,-45 85.9191,-41.5001 85.9192,-48.5001\"/>\n",
       "</g>\n",
       "<!-- realD -->\n",
       "<g id=\"node7\" class=\"node\"><title>realD</title>\n",
       "<text text-anchor=\"middle\" x=\"158\" y=\"-117.9\" font-family=\"Times Roman,serif\" font-size=\"14.00\">realD</text>\n",
       "</g>\n",
       "<!-- realD&#45;&gt;DIS -->\n",
       "<g id=\"edge7\" class=\"edge\"><title>realD&#45;&gt;DIS</title>\n",
       "<path fill=\"none\" stroke=\"black\" d=\"M185.249,-112.601C196.099,-108.788 208.675,-104.28 220,-100 247.849,-89.474 278.632,-77.1764 303.952,-66.8822\"/>\n",
       "<polygon fill=\"black\" stroke=\"black\" points=\"305.432,-70.0585 313.371,-63.0428 302.79,-63.5763 305.432,-70.0585\"/>\n",
       "</g>\n",
       "</g>\n",
       "</svg>\n"
      ],
      "text/plain": [
       "<graphviz.files.Source at 0x7f8334b9edd0>"
      ]
     },
     "execution_count": 47,
     "metadata": {},
     "output_type": "execute_result"
    }
   ],
   "source": [
    "#原始的GAN网络，训练的参数独立，目标独立形成对抗关系\n",
    "\n",
    "from graphviz import Source\n",
    "dot = Source('''\n",
    "digraph G{\n",
    "    rankdir=LR;compound=true;node [shape=none];\n",
    "    //QOperation [shape=ellipse,style=filled];\n",
    "    subgraph cluster0 {\n",
    "        label =\"GAN Network\"\n",
    "        node [shape=box,style=filled];\n",
    "        GEN [shape=box,label=\"GEN(g_params)\"]\n",
    "        DIS [shape=box,label=\"DIS(d_params)\"]\n",
    "        GEN -> DIS [label=\"x_gen\"]\n",
    "    }\n",
    "    randZ -> GEN\n",
    "    realD -> DIS\n",
    "    DIS -> \"loss_g\" [label=g_params]\n",
    "    DIS -> \"loss_d\" [label=d_params]\n",
    "}''');\n",
    "dot"
   ]
  },
  {
   "cell_type": "markdown",
   "metadata": {
    "Collapsed": "false"
   },
   "source": [
    "#### 改进的GAN网络结构1\n",
    "- g_params重复更新存在矛盾\n",
    "- 神经网络为集合方式的大数据形式进行矩阵求解，因此无法单案例进行优化\n",
    "- 将GEN划分为2个参数集，g_par2实现GEN，g_par1实现特征提取\n",
    "  - 希望x_gen=原始字符的变形、fea成为原始字符的形状特征、并有效的进行字符识别\n",
    "  - 缺点为CharClass可以收敛，但x_gen的鉴别能力不强\n",
    "  - fea并不能夹逼为 图像的特征内容\n",
    "  - 因为参数具有依赖性，并不是其他参数固定的情况下，当前参数具备最优解并且可以独立迭代，而是全局最优才是最优！！！"
   ]
  },
  {
   "cell_type": "code",
   "execution_count": 104,
   "metadata": {
    "Collapsed": "false",
    "ExecuteTime": {
     "end_time": "2017-12-14T10:08:40.440948Z",
     "start_time": "2017-12-14T10:08:40.373405Z"
    },
    "code_folding": [
     0
    ],
    "scrolled": true
   },
   "outputs": [
    {
     "data": {
      "image/svg+xml": [
       "<?xml version=\"1.0\" encoding=\"UTF-8\" standalone=\"no\"?>\n",
       "<!DOCTYPE svg PUBLIC \"-//W3C//DTD SVG 1.1//EN\"\n",
       " \"http://www.w3.org/Graphics/SVG/1.1/DTD/svg11.dtd\">\n",
       "<!-- Generated by graphviz version 2.26.3 (20100126.1600)\n",
       " -->\n",
       "<!-- Title: G Pages: 1 -->\n",
       "<svg width=\"692pt\" height=\"175pt\"\n",
       " viewBox=\"0.00 0.00 692.00 175.00\" xmlns=\"http://www.w3.org/2000/svg\" xmlns:xlink=\"http://www.w3.org/1999/xlink\">\n",
       "<g id=\"graph1\" class=\"graph\" transform=\"scale(1 1) rotate(0) translate(4 171)\">\n",
       "<title>G</title>\n",
       "<polygon fill=\"white\" stroke=\"white\" points=\"-4,5 -4,-171 689,-171 689,5 -4,5\"/>\n",
       "<g id=\"graph2\" class=\"cluster\"><title>cluster0</title>\n",
       "<polygon fill=\"none\" stroke=\"black\" points=\"88,-46 88,-123 542,-123 542,-46 88,-46\"/>\n",
       "<text text-anchor=\"middle\" x=\"315\" y=\"-106.4\" font-family=\"Times Roman,serif\" font-size=\"14.00\">GAN+ Network</text>\n",
       "</g>\n",
       "<!-- GEN1 -->\n",
       "<g id=\"node2\" class=\"node\"><title>GEN1</title>\n",
       "<polygon fill=\"lightgrey\" stroke=\"black\" points=\"201,-90 97,-90 97,-54 201,-54 201,-90\"/>\n",
       "<text text-anchor=\"middle\" x=\"149\" y=\"-67.9\" font-family=\"Times Roman,serif\" font-size=\"14.00\">GEN(g_par1)</text>\n",
       "</g>\n",
       "<!-- GEN2 -->\n",
       "<g id=\"node3\" class=\"node\"><title>GEN2</title>\n",
       "<polygon fill=\"lightgrey\" stroke=\"black\" points=\"365,-90 261,-90 261,-54 365,-54 365,-90\"/>\n",
       "<text text-anchor=\"middle\" x=\"313\" y=\"-67.9\" font-family=\"Times Roman,serif\" font-size=\"14.00\">GEN(g_par2)</text>\n",
       "</g>\n",
       "<!-- GEN1&#45;&gt;GEN2 -->\n",
       "<g id=\"edge3\" class=\"edge\"><title>GEN1&#45;&gt;GEN2</title>\n",
       "<path fill=\"none\" stroke=\"black\" d=\"M201.793,-72C217.156,-72 234.091,-72 250.015,-72\"/>\n",
       "<polygon fill=\"black\" stroke=\"black\" points=\"250.306,-75.5001 260.306,-72 250.306,-68.5001 250.306,-75.5001\"/>\n",
       "<text text-anchor=\"middle\" x=\"231\" y=\"-76.4\" font-family=\"Times Roman,serif\" font-size=\"14.00\">fea</text>\n",
       "</g>\n",
       "<!-- DIS -->\n",
       "<g id=\"node4\" class=\"node\"><title>DIS</title>\n",
       "<polygon fill=\"lightgrey\" stroke=\"black\" points=\"534,-90 444,-90 444,-54 534,-54 534,-90\"/>\n",
       "<text text-anchor=\"middle\" x=\"489\" y=\"-67.9\" font-family=\"Times Roman,serif\" font-size=\"14.00\">DIS(d_par)</text>\n",
       "</g>\n",
       "<!-- GEN2&#45;&gt;DIS -->\n",
       "<g id=\"edge5\" class=\"edge\"><title>GEN2&#45;&gt;DIS</title>\n",
       "<path fill=\"none\" stroke=\"black\" d=\"M365.687,-66.2243C371.854,-65.7206 378.062,-65.292 384,-65 402.644,-64.0831 407.362,-63.9677 426,-65 428.548,-65.1411 431.151,-65.3141 433.779,-65.512\"/>\n",
       "<polygon fill=\"black\" stroke=\"black\" points=\"433.706,-69.0185 443.968,-66.3843 434.303,-62.044 433.706,-69.0185\"/>\n",
       "<text text-anchor=\"middle\" x=\"405\" y=\"-69.4\" font-family=\"Times Roman,serif\" font-size=\"14.00\">x_gen</text>\n",
       "</g>\n",
       "<!-- CharClass -->\n",
       "<g id=\"node15\" class=\"node\"><title>CharClass</title>\n",
       "<polygon fill=\"lightgrey\" stroke=\"black\" points=\"531,-36 447,-36 447,-1.77636e-14 531,-3.55271e-15 531,-36\"/>\n",
       "<text text-anchor=\"middle\" x=\"489\" y=\"-13.9\" font-family=\"Times Roman,serif\" font-size=\"14.00\">CharClass</text>\n",
       "</g>\n",
       "<!-- GEN2&#45;&gt;CharClass -->\n",
       "<g id=\"edge15\" class=\"edge\"><title>GEN2&#45;&gt;CharClass</title>\n",
       "<path fill=\"none\" stroke=\"black\" d=\"M356.226,-53.8977C365.32,-50.3878 374.912,-46.9029 384,-44 400.973,-38.5782 419.788,-33.604 436.748,-29.4902\"/>\n",
       "<polygon fill=\"black\" stroke=\"black\" points=\"437.573,-32.8915 446.491,-27.1706 435.952,-26.0818 437.573,-32.8915\"/>\n",
       "<text text-anchor=\"middle\" x=\"405\" y=\"-48.4\" font-family=\"Times Roman,serif\" font-size=\"14.00\">x_gen</text>\n",
       "</g>\n",
       "<!-- loss_d -->\n",
       "<g id=\"node12\" class=\"node\"><title>loss_d</title>\n",
       "<text text-anchor=\"middle\" x=\"651\" y=\"-121.9\" font-family=\"Times Roman,serif\" font-size=\"14.00\">loss_d</text>\n",
       "</g>\n",
       "<!-- DIS&#45;&gt;loss_d -->\n",
       "<g id=\"edge11\" class=\"edge\"><title>DIS&#45;&gt;loss_d</title>\n",
       "<path fill=\"none\" stroke=\"black\" d=\"M534.126,-87.042C558.702,-95.2339 588.799,-105.266 612.296,-113.099\"/>\n",
       "<polygon fill=\"black\" stroke=\"black\" points=\"611.333,-116.467 621.927,-116.309 613.547,-109.826 611.333,-116.467\"/>\n",
       "<text text-anchor=\"middle\" x=\"576\" y=\"-112.4\" font-family=\"Times Roman,serif\" font-size=\"14.00\">d_par</text>\n",
       "</g>\n",
       "<!-- loss_g -->\n",
       "<g id=\"node14\" class=\"node\"><title>loss_g</title>\n",
       "<text text-anchor=\"middle\" x=\"651\" y=\"-67.9\" font-family=\"Times Roman,serif\" font-size=\"14.00\">loss_g</text>\n",
       "</g>\n",
       "<!-- DIS&#45;&gt;loss_g -->\n",
       "<g id=\"edge13\" class=\"edge\"><title>DIS&#45;&gt;loss_g</title>\n",
       "<path fill=\"none\" stroke=\"black\" d=\"M534.126,-72C558.482,-72 588.262,-72 611.665,-72\"/>\n",
       "<polygon fill=\"black\" stroke=\"black\" points=\"611.927,-75.5001 621.927,-72 611.927,-68.5001 611.927,-75.5001\"/>\n",
       "<text text-anchor=\"middle\" x=\"576\" y=\"-76.4\" font-family=\"Times Roman,serif\" font-size=\"14.00\">g_par2</text>\n",
       "</g>\n",
       "<!-- randZ -->\n",
       "<g id=\"node7\" class=\"node\"><title>randZ</title>\n",
       "<text text-anchor=\"middle\" x=\"29\" y=\"-67.9\" font-family=\"Times Roman,serif\" font-size=\"14.00\">randZ</text>\n",
       "</g>\n",
       "<!-- randZ&#45;&gt;GEN1 -->\n",
       "<g id=\"edge7\" class=\"edge\"><title>randZ&#45;&gt;GEN1</title>\n",
       "<path fill=\"none\" stroke=\"black\" d=\"M58.0487,-72C66.5945,-72 76.2939,-72 86.097,-72\"/>\n",
       "<polygon fill=\"black\" stroke=\"black\" points=\"86.3063,-75.5001 96.3062,-72 86.3062,-68.5001 86.3063,-75.5001\"/>\n",
       "</g>\n",
       "<!-- realD -->\n",
       "<g id=\"node9\" class=\"node\"><title>realD</title>\n",
       "<text text-anchor=\"middle\" x=\"313\" y=\"-144.9\" font-family=\"Times Roman,serif\" font-size=\"14.00\">realD</text>\n",
       "</g>\n",
       "<!-- realD&#45;&gt;DIS -->\n",
       "<g id=\"edge9\" class=\"edge\"><title>realD&#45;&gt;DIS</title>\n",
       "<path fill=\"none\" stroke=\"black\" d=\"M340.022,-137.949C348.371,-134.49 357.583,-130.628 366,-127 390.435,-116.468 417.44,-104.436 439.906,-94.3174\"/>\n",
       "<polygon fill=\"black\" stroke=\"black\" points=\"441.56,-97.4109 449.236,-90.1078 438.682,-91.0303 441.56,-97.4109\"/>\n",
       "</g>\n",
       "<!-- loss_op -->\n",
       "<g id=\"node18\" class=\"node\"><title>loss_op</title>\n",
       "<text text-anchor=\"middle\" x=\"651\" y=\"-13.9\" font-family=\"Times Roman,serif\" font-size=\"14.00\">loss_op</text>\n",
       "</g>\n",
       "<!-- CharClass&#45;&gt;loss_op -->\n",
       "<g id=\"edge17\" class=\"edge\"><title>CharClass&#45;&gt;loss_op</title>\n",
       "<path fill=\"none\" stroke=\"black\" d=\"M531.564,-18C555.082,-18 584.228,-18 607.841,-18\"/>\n",
       "<polygon fill=\"black\" stroke=\"black\" points=\"607.924,-21.5001 617.924,-18 607.924,-14.5001 607.924,-21.5001\"/>\n",
       "<text text-anchor=\"middle\" x=\"576\" y=\"-22.4\" font-family=\"Times Roman,serif\" font-size=\"14.00\">g_par1</text>\n",
       "</g>\n",
       "</g>\n",
       "</svg>\n"
      ],
      "text/plain": [
       "<graphviz.files.Source at 0x7f8334ac0150>"
      ]
     },
     "execution_count": 104,
     "metadata": {},
     "output_type": "execute_result"
    }
   ],
   "source": [
    "#新的GAN网络\n",
    "\n",
    "import sys;sys.setdefaultencoding('utf8') #中文支持\n",
    "\n",
    "from graphviz import Source\n",
    "dot = Source('''\n",
    "\n",
    "digraph G{\n",
    "    rankdir=LR;compound=true;node [shape=none];\n",
    "    subgraph cluster0 {\n",
    "        label =\"GAN+ Network\"\n",
    "        node [shape=box,style=filled];\n",
    "        GEN1 [shape=box,label=\"GEN(g_par1)\"]\n",
    "        GEN2 [shape=box,label=\"GEN(g_par2)\"]\n",
    "        DIS [shape=box,label=\"DIS(d_par)\"]\n",
    "        GEN1 -> GEN2 [label=\"fea\"]\n",
    "        GEN2 -> DIS [label=\"x_gen\"]\n",
    "    }\n",
    "    randZ -> GEN1\n",
    "    realD -> DIS\n",
    "    \n",
    "    DIS -> \"loss_d\" [label=d_par]\n",
    "    DIS -> \"loss_g\" [label=g_par2]\n",
    "    \n",
    "    CharClass [shape=box,style=filled];\n",
    "    GEN2 -> CharClass [label=x_gen]\n",
    "    CharClass -> \"loss_op\" [label=\"g_par1\"]\n",
    "\n",
    "}''')\n",
    "dot"
   ]
  },
  {
   "cell_type": "markdown",
   "metadata": {
    "Collapsed": "false"
   },
   "source": [
    "#### 改进的GAN网络结构2\n",
    "- 训练强化fea,并且势必加强fea成为字符表达的充分条件\n",
    "- 通过fea进行数据生成\n",
    "- 目的为加强x_gen的生成变化，将GEN2形成特征变换??? -> 是否是人字符识别的原理"
   ]
  },
  {
   "cell_type": "code",
   "execution_count": 114,
   "metadata": {
    "Collapsed": "false",
    "ExecuteTime": {
     "end_time": "2017-12-15T01:26:48.073509Z",
     "start_time": "2017-12-15T01:26:48.055474Z"
    },
    "code_folding": []
   },
   "outputs": [
    {
     "data": {
      "image/svg+xml": [
       "<?xml version=\"1.0\" encoding=\"UTF-8\" standalone=\"no\"?>\n",
       "<!DOCTYPE svg PUBLIC \"-//W3C//DTD SVG 1.1//EN\"\n",
       " \"http://www.w3.org/Graphics/SVG/1.1/DTD/svg11.dtd\">\n",
       "<!-- Generated by graphviz version 2.26.3 (20100126.1600)\n",
       " -->\n",
       "<!-- Title: G Pages: 1 -->\n",
       "<svg width=\"690pt\" height=\"175pt\"\n",
       " viewBox=\"0.00 0.00 690.00 175.00\" xmlns=\"http://www.w3.org/2000/svg\" xmlns:xlink=\"http://www.w3.org/1999/xlink\">\n",
       "<g id=\"graph1\" class=\"graph\" transform=\"scale(1 1) rotate(0) translate(4 171)\">\n",
       "<title>G</title>\n",
       "<polygon fill=\"white\" stroke=\"white\" points=\"-4,5 -4,-171 687,-171 687,5 -4,5\"/>\n",
       "<g id=\"graph2\" class=\"cluster\"><title>cluster0</title>\n",
       "<polygon fill=\"none\" stroke=\"black\" points=\"88,-46 88,-123 548,-123 548,-46 88,-46\"/>\n",
       "<text text-anchor=\"middle\" x=\"318\" y=\"-106.4\" font-family=\"Times Roman,serif\" font-size=\"14.00\">GAN+ Network</text>\n",
       "</g>\n",
       "<!-- GEN1 -->\n",
       "<g id=\"node2\" class=\"node\"><title>GEN1</title>\n",
       "<polygon fill=\"lightgrey\" stroke=\"black\" points=\"201,-90 97,-90 97,-54 201,-54 201,-90\"/>\n",
       "<text text-anchor=\"middle\" x=\"149\" y=\"-67.9\" font-family=\"Times Roman,serif\" font-size=\"14.00\">GEN(g_par1)</text>\n",
       "</g>\n",
       "<!-- GEN2 -->\n",
       "<g id=\"node3\" class=\"node\"><title>GEN2</title>\n",
       "<polygon fill=\"lightgrey\" stroke=\"black\" points=\"365,-90 261,-90 261,-54 365,-54 365,-90\"/>\n",
       "<text text-anchor=\"middle\" x=\"313\" y=\"-67.9\" font-family=\"Times Roman,serif\" font-size=\"14.00\">GEN(g_par2)</text>\n",
       "</g>\n",
       "<!-- GEN1&#45;&gt;GEN2 -->\n",
       "<g id=\"edge3\" class=\"edge\"><title>GEN1&#45;&gt;GEN2</title>\n",
       "<path fill=\"none\" stroke=\"black\" d=\"M201.793,-72C217.156,-72 234.091,-72 250.015,-72\"/>\n",
       "<polygon fill=\"black\" stroke=\"black\" points=\"250.306,-75.5001 260.306,-72 250.306,-68.5001 250.306,-75.5001\"/>\n",
       "<text text-anchor=\"middle\" x=\"231\" y=\"-76.4\" font-family=\"Times Roman,serif\" font-size=\"14.00\">fea</text>\n",
       "</g>\n",
       "<!-- CharClass -->\n",
       "<g id=\"node15\" class=\"node\"><title>CharClass</title>\n",
       "<polygon fill=\"lightgrey\" stroke=\"black\" points=\"355,-36 271,-36 271,-1.77636e-14 355,-3.55271e-15 355,-36\"/>\n",
       "<text text-anchor=\"middle\" x=\"313\" y=\"-13.9\" font-family=\"Times Roman,serif\" font-size=\"14.00\">CharClass</text>\n",
       "</g>\n",
       "<!-- GEN1&#45;&gt;CharClass -->\n",
       "<g id=\"edge15\" class=\"edge\"><title>GEN1&#45;&gt;CharClass</title>\n",
       "<path fill=\"none\" stroke=\"black\" d=\"M201.793,-54.6168C220.691,-48.3943 241.97,-41.3879 260.816,-35.1825\"/>\n",
       "<polygon fill=\"black\" stroke=\"black\" points=\"262.02,-38.4709 270.424,-32.0189 259.831,-31.822 262.02,-38.4709\"/>\n",
       "<text text-anchor=\"middle\" x=\"231\" y=\"-53.4\" font-family=\"Times Roman,serif\" font-size=\"14.00\">fea</text>\n",
       "</g>\n",
       "<!-- DIS -->\n",
       "<g id=\"node4\" class=\"node\"><title>DIS</title>\n",
       "<polygon fill=\"lightgrey\" stroke=\"black\" points=\"540,-90 450,-90 450,-54 540,-54 540,-90\"/>\n",
       "<text text-anchor=\"middle\" x=\"495\" y=\"-67.9\" font-family=\"Times Roman,serif\" font-size=\"14.00\">DIS(d_par)</text>\n",
       "</g>\n",
       "<!-- GEN2&#45;&gt;DIS -->\n",
       "<g id=\"edge5\" class=\"edge\"><title>GEN2&#45;&gt;DIS</title>\n",
       "<path fill=\"none\" stroke=\"black\" d=\"M365.687,-66.2243C371.854,-65.7206 378.062,-65.292 384,-65 405.308,-63.9522 410.699,-63.8203 432,-65 434.548,-65.1411 437.151,-65.3141 439.779,-65.512\"/>\n",
       "<polygon fill=\"black\" stroke=\"black\" points=\"439.706,-69.0185 449.968,-66.3843 440.303,-62.044 439.706,-69.0185\"/>\n",
       "<text text-anchor=\"middle\" x=\"408\" y=\"-69.4\" font-family=\"Times Roman,serif\" font-size=\"14.00\">x_gen</text>\n",
       "</g>\n",
       "<!-- loss_d -->\n",
       "<g id=\"node12\" class=\"node\"><title>loss_d</title>\n",
       "<text text-anchor=\"middle\" x=\"653\" y=\"-94.9\" font-family=\"Times Roman,serif\" font-size=\"14.00\">loss_d</text>\n",
       "</g>\n",
       "<!-- DIS&#45;&gt;loss_d -->\n",
       "<g id=\"edge11\" class=\"edge\"><title>DIS&#45;&gt;loss_d</title>\n",
       "<path fill=\"none\" stroke=\"black\" d=\"M540.276,-79.7371C563.421,-83.6921 591.319,-88.4595 613.57,-92.262\"/>\n",
       "<polygon fill=\"black\" stroke=\"black\" points=\"613.23,-95.7544 623.676,-93.989 614.409,-88.8545 613.23,-95.7544\"/>\n",
       "<text text-anchor=\"middle\" x=\"582\" y=\"-95.4\" font-family=\"Times Roman,serif\" font-size=\"14.00\">d_par</text>\n",
       "</g>\n",
       "<!-- loss_g -->\n",
       "<g id=\"node14\" class=\"node\"><title>loss_g</title>\n",
       "<text text-anchor=\"middle\" x=\"653\" y=\"-40.9\" font-family=\"Times Roman,serif\" font-size=\"14.00\">loss_g</text>\n",
       "</g>\n",
       "<!-- DIS&#45;&gt;loss_g -->\n",
       "<g id=\"edge13\" class=\"edge\"><title>DIS&#45;&gt;loss_g</title>\n",
       "<path fill=\"none\" stroke=\"black\" d=\"M540.276,-64.2629C563.421,-60.3079 591.319,-55.5405 613.57,-51.738\"/>\n",
       "<polygon fill=\"black\" stroke=\"black\" points=\"614.409,-55.1455 623.676,-50.011 613.23,-48.2456 614.409,-55.1455\"/>\n",
       "<text text-anchor=\"middle\" x=\"582\" y=\"-65.4\" font-family=\"Times Roman,serif\" font-size=\"14.00\">g_par2</text>\n",
       "</g>\n",
       "<!-- randZ -->\n",
       "<g id=\"node7\" class=\"node\"><title>randZ</title>\n",
       "<text text-anchor=\"middle\" x=\"29\" y=\"-67.9\" font-family=\"Times Roman,serif\" font-size=\"14.00\">randZ</text>\n",
       "</g>\n",
       "<!-- randZ&#45;&gt;GEN1 -->\n",
       "<g id=\"edge7\" class=\"edge\"><title>randZ&#45;&gt;GEN1</title>\n",
       "<path fill=\"none\" stroke=\"black\" d=\"M58.0487,-72C66.5945,-72 76.2939,-72 86.097,-72\"/>\n",
       "<polygon fill=\"black\" stroke=\"black\" points=\"86.3063,-75.5001 96.3062,-72 86.3062,-68.5001 86.3063,-75.5001\"/>\n",
       "</g>\n",
       "<!-- realD -->\n",
       "<g id=\"node9\" class=\"node\"><title>realD</title>\n",
       "<text text-anchor=\"middle\" x=\"313\" y=\"-144.9\" font-family=\"Times Roman,serif\" font-size=\"14.00\">realD</text>\n",
       "</g>\n",
       "<!-- realD&#45;&gt;DIS -->\n",
       "<g id=\"edge9\" class=\"edge\"><title>realD&#45;&gt;DIS</title>\n",
       "<path fill=\"none\" stroke=\"black\" d=\"M340.256,-137.745C348.531,-134.312 357.643,-130.516 366,-127 391.542,-116.254 419.872,-104.191 443.461,-94.1072\"/>\n",
       "<polygon fill=\"black\" stroke=\"black\" points=\"445.104,-97.2113 452.922,-90.0604 442.351,-90.7753 445.104,-97.2113\"/>\n",
       "</g>\n",
       "<!-- loss_op -->\n",
       "<g id=\"node18\" class=\"node\"><title>loss_op</title>\n",
       "<text text-anchor=\"middle\" x=\"495\" y=\"-13.9\" font-family=\"Times Roman,serif\" font-size=\"14.00\">loss_op</text>\n",
       "</g>\n",
       "<!-- CharClass&#45;&gt;loss_op -->\n",
       "<g id=\"edge17\" class=\"edge\"><title>CharClass&#45;&gt;loss_op</title>\n",
       "<path fill=\"none\" stroke=\"black\" d=\"M355.671,-18C384.585,-18 422.67,-18 451.714,-18\"/>\n",
       "<polygon fill=\"black\" stroke=\"black\" points=\"451.971,-21.5001 461.971,-18 451.971,-14.5001 451.971,-21.5001\"/>\n",
       "<text text-anchor=\"middle\" x=\"408\" y=\"-22.4\" font-family=\"Times Roman,serif\" font-size=\"14.00\">g_par1</text>\n",
       "</g>\n",
       "</g>\n",
       "</svg>\n"
      ],
      "text/plain": [
       "<graphviz.files.Source at 0x7f8334a36250>"
      ]
     },
     "execution_count": 114,
     "metadata": {},
     "output_type": "execute_result"
    }
   ],
   "source": [
    "#新的GAN网络\n",
    "\n",
    "import sys;sys.setdefaultencoding('utf8') #中文支持\n",
    "\n",
    "from graphviz import Source\n",
    "dot = Source('''\n",
    "\n",
    "digraph G{\n",
    "    rankdir=LR;compound=true;node [shape=none];\n",
    "    subgraph cluster0 {\n",
    "        label =\"GAN+ Network\"\n",
    "        node [shape=box,style=filled];\n",
    "        GEN1 [shape=box,label=\"GEN(g_par1)\"]\n",
    "        GEN2 [shape=box,label=\"GEN(g_par2)\"]\n",
    "        DIS [shape=box,label=\"DIS(d_par)\"]\n",
    "        GEN1 -> GEN2 [label=\"fea\"]\n",
    "        GEN2 -> DIS [label=\"x_gen\"]\n",
    "    }\n",
    "    randZ -> GEN1\n",
    "    realD -> DIS\n",
    "    \n",
    "    DIS -> \"loss_d\" [label=d_par]\n",
    "    DIS -> \"loss_g\" [label=g_par2]\n",
    "    \n",
    "    CharClass [shape=box,style=filled];\n",
    "    GEN1 -> CharClass [label=fea]\n",
    "    CharClass -> \"loss_op\" [label=\"g_par1\"]\n",
    "\n",
    "}''')\n",
    "dot"
   ]
  },
  {
   "cell_type": "code",
   "execution_count": null,
   "metadata": {
    "Collapsed": "false"
   },
   "outputs": [],
   "source": []
  }
 ],
 "metadata": {
  "kernelspec": {
   "display_name": "Python 2",
   "language": "python",
   "name": "python2"
  },
  "language_info": {
   "codemirror_mode": {
    "name": "ipython",
    "version": 2
   },
   "file_extension": ".py",
   "mimetype": "text/x-python",
   "name": "python",
   "nbconvert_exporter": "python",
   "pygments_lexer": "ipython2",
   "version": "2.7.17"
  },
  "toc": {
   "nav_menu": {
    "height": "220px",
    "width": "191px"
   },
   "number_sections": true,
   "sideBar": true,
   "skip_h1_title": false,
   "title_cell": "Table of Contents",
   "title_sidebar": "Contents",
   "toc_cell": false,
   "toc_position": {
    "height": "calc(100% - 180px)",
    "left": "10px",
    "top": "150px",
    "width": "165px"
   },
   "toc_section_display": true,
   "toc_window_display": false
  },
  "varInspector": {
   "cols": {
    "lenName": 16,
    "lenType": 16,
    "lenVar": 40
   },
   "kernels_config": {
    "python": {
     "delete_cmd_postfix": "",
     "delete_cmd_prefix": "del ",
     "library": "var_list.py",
     "varRefreshCmd": "print(var_dic_list())"
    },
    "r": {
     "delete_cmd_postfix": ") ",
     "delete_cmd_prefix": "rm(",
     "library": "var_list.r",
     "varRefreshCmd": "cat(var_dic_list()) "
    }
   },
   "position": {
    "height": "238px",
    "left": "782px",
    "right": "20px",
    "top": "21px",
    "width": "549px"
   },
   "types_to_exclude": [
    "module",
    "function",
    "builtin_function_or_method",
    "instance",
    "_Feature"
   ],
   "window_display": false
  }
 },
 "nbformat": 4,
 "nbformat_minor": 4
}
