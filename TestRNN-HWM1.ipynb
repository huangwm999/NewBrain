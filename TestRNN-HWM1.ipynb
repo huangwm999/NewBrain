{
 "cells": [
  {
   "cell_type": "code",
   "execution_count": 1,
   "metadata": {
    "Collapsed": "false",
    "ExecuteTime": {
     "end_time": "2017-12-14T11:17:00.430705Z",
     "start_time": "2017-12-14T11:17:00.427597Z"
    },
    "code_folding": []
   },
   "outputs": [],
   "source": [
    "#Import the libraries we will need.\n",
    "# -*- coding:utf-8 -*-\n",
    "import tensorflow as tf\n",
    "import numpy as np\n",
    "from tensorflow.contrib import rnn\n",
    "from tensorflow.examples.tutorials.mnist import input_data\n",
    "from numba import autojit\n",
    "\n",
    "%matplotlib inline"
   ]
  },
  {
   "cell_type": "code",
   "execution_count": 2,
   "metadata": {
    "Collapsed": "false",
    "ExecuteTime": {
     "end_time": "2017-12-14T10:33:21.656742Z",
     "start_time": "2017-12-14T10:33:21.310594Z"
    },
    "code_folding": []
   },
   "outputs": [
    {
     "name": "stdout",
     "output_type": "stream",
     "text": [
      "WARNING:tensorflow:From <ipython-input-2-b6a60badf71d>:7: read_data_sets (from tensorflow.contrib.learn.python.learn.datasets.mnist) is deprecated and will be removed in a future version.\n",
      "Instructions for updating:\n",
      "Please use alternatives such as official/mnist/dataset.py from tensorflow/models.\n",
      "WARNING:tensorflow:From /usr/local/lib/python2.7/dist-packages/tensorflow/contrib/learn/python/learn/datasets/mnist.py:260: maybe_download (from tensorflow.contrib.learn.python.learn.datasets.base) is deprecated and will be removed in a future version.\n",
      "Instructions for updating:\n",
      "Please write your own downloading logic.\n",
      "WARNING:tensorflow:From /usr/local/lib/python2.7/dist-packages/tensorflow/contrib/learn/python/learn/datasets/mnist.py:262: extract_images (from tensorflow.contrib.learn.python.learn.datasets.mnist) is deprecated and will be removed in a future version.\n",
      "Instructions for updating:\n",
      "Please use tf.data to implement this functionality.\n",
      "Extracting MNIST_data/train-images-idx3-ubyte.gz\n",
      "WARNING:tensorflow:From /usr/local/lib/python2.7/dist-packages/tensorflow/contrib/learn/python/learn/datasets/mnist.py:267: extract_labels (from tensorflow.contrib.learn.python.learn.datasets.mnist) is deprecated and will be removed in a future version.\n",
      "Instructions for updating:\n",
      "Please use tf.data to implement this functionality.\n",
      "Extracting MNIST_data/train-labels-idx1-ubyte.gz\n",
      "WARNING:tensorflow:From /usr/local/lib/python2.7/dist-packages/tensorflow/contrib/learn/python/learn/datasets/mnist.py:110: dense_to_one_hot (from tensorflow.contrib.learn.python.learn.datasets.mnist) is deprecated and will be removed in a future version.\n",
      "Instructions for updating:\n",
      "Please use tf.one_hot on tensors.\n",
      "Extracting MNIST_data/t10k-images-idx3-ubyte.gz\n",
      "Extracting MNIST_data/t10k-labels-idx1-ubyte.gz\n",
      "WARNING:tensorflow:From /usr/local/lib/python2.7/dist-packages/tensorflow/contrib/learn/python/learn/datasets/mnist.py:290: __init__ (from tensorflow.contrib.learn.python.learn.datasets.mnist) is deprecated and will be removed in a future version.\n",
      "Instructions for updating:\n",
      "Please use alternatives such as official/mnist/dataset.py from tensorflow/models.\n",
      "(55000, 784)\n"
     ]
    }
   ],
   "source": [
    "# 设置 GPU 按需增长\n",
    "config = tf.ConfigProto()\n",
    "config.gpu_options.allow_growth = True\n",
    "sess = tf.Session(config=config)\n",
    "\n",
    "# 首先导入数据，看一下数据的形式\n",
    "mnist = input_data.read_data_sets('MNIST_data', one_hot=True)\n",
    "print mnist.train.images.shape"
   ]
  },
  {
   "cell_type": "markdown",
   "metadata": {
    "Collapsed": "false"
   },
   "source": [
    "### 首先设置好模型用到的各个超参数"
   ]
  },
  {
   "cell_type": "code",
   "execution_count": 3,
   "metadata": {
    "Collapsed": "false",
    "ExecuteTime": {
     "end_time": "2017-12-14T10:33:21.746583Z",
     "start_time": "2017-12-14T10:33:21.737860Z"
    },
    "code_folding": []
   },
   "outputs": [],
   "source": [
    "#\n",
    "lr = 1e-3\n",
    "# 在训练和测试的时候，我们想用不同的 batch_size.所以采用占位符的方式\n",
    "#batch_size = tf.placeholder(tf.int32)  # 注意类型必须为 tf.int32\n",
    "# 在 1.0 版本以后请使用 ：\n",
    "keep_prob = tf.placeholder(tf.float32, [])\n",
    "batch_size = tf.placeholder(tf.int32, [])\n",
    "\n",
    "# 每个时刻的输入特征是28维的，就是每个时刻输入一行，一行有 28 个像素\n",
    "input_size = 28\n",
    "# 时序持续长度为28，即每做一次预测，需要先输入28行\n",
    "timestep_size = 28\n",
    "# 每个隐含层的节点数\n",
    "hidden_size = 28*28\n",
    "# LSTM layer 的层数\n",
    "layer_num = 4\n",
    "# 最后输出分类类别数量，如果是回归预测的话应该是 1\n",
    "class_num = 10\n",
    "\n",
    "_X = tf.placeholder(tf.float32, [None, 784])\n",
    "y = tf.placeholder(tf.float32, [None, class_num])\n",
    "keep_prob = tf.placeholder(tf.float32)\n"
   ]
  },
  {
   "cell_type": "markdown",
   "metadata": {
    "Collapsed": "false"
   },
   "source": [
    "### 开始搭建 RNN 模型"
   ]
  },
  {
   "cell_type": "code",
   "execution_count": 4,
   "metadata": {
    "Collapsed": "false",
    "ExecuteTime": {
     "end_time": "2017-12-14T10:33:22.065027Z",
     "start_time": "2017-12-14T10:33:21.995383Z"
    },
    "code_folding": []
   },
   "outputs": [
    {
     "name": "stdout",
     "output_type": "stream",
     "text": [
      "WARNING:tensorflow:From /usr/local/lib/python2.7/dist-packages/tensorflow/python/framework/op_def_library.py:263: colocate_with (from tensorflow.python.framework.ops) is deprecated and will be removed in a future version.\n",
      "Instructions for updating:\n",
      "Colocations handled automatically by placer.\n"
     ]
    }
   ],
   "source": [
    "# **步骤1：RNN 的输入shape = (batch_size, timestep_size, input_size) \n",
    "timestep_size=28/28\n",
    "input_size=28*28\n",
    "X = tf.reshape(_X, [-1, timestep_size, input_size])\n",
    "outputs = list()\n",
    "\n",
    "h1_size = 50  \n",
    "h2_size = 300  \n",
    "def build_generator(z_prior):  \n",
    "    '''\n",
    "    w1 = tf.Variable(tf.truncated_normal([100, h1_size], stddev=0.1), name=\"g_w1\", dtype=tf.float32)  \n",
    "    b1 = tf.Variable(tf.zeros([h1_size]), name=\"g_b1\", dtype=tf.float32)  \n",
    "    h1 = tf.nn.relu(tf.matmul(z_prior, w1) + b1)  \n",
    "    w2 = tf.Variable(tf.truncated_normal([h1_size, h2_size], stddev=0.1), name=\"g_w2\", dtype=tf.float32)  \n",
    "    b2 = tf.Variable(tf.zeros([h2_size]), name=\"g_b2\", dtype=tf.float32)  \n",
    "    h2 = tf.nn.relu(tf.matmul(h1, w2) + b2)  \n",
    "    w3 = tf.Variable(tf.truncated_normal([h2_size, hidden_size], stddev=0.1), name=\"g_w3\", dtype=tf.float32)  \n",
    "    b3 = tf.Variable(tf.zeros([hidden_size]), name=\"g_b3\", dtype=tf.float32)  \n",
    "    h3 = tf.matmul(h2, w3) + b3  \n",
    "    x_generate = tf.nn.tanh(h3)  \n",
    "    g_params1 = [w1, b1]\n",
    "    g_params2 = [w2, b2, w3, b3]\n",
    "    '''\n",
    "    w1 = tf.Variable(tf.truncated_normal([input_size, h1_size], stddev=0.1), name=\"g_w1\", dtype=tf.float32)  \n",
    "    b1 = tf.Variable(tf.zeros([h1_size]), name=\"g_b1\", dtype=tf.float32)  \n",
    "    h1 = tf.nn.relu(tf.matmul(z_prior, w1) + b1)  \n",
    "    w2 = tf.Variable(tf.truncated_normal([h1_size, h2_size], stddev=0.1), name=\"g_w2\", dtype=tf.float32)  \n",
    "    b2 = tf.Variable(tf.zeros([h2_size]), name=\"g_b2\", dtype=tf.float32)  \n",
    "    h2 = tf.nn.relu(tf.matmul(h1, w2) + b2) \n",
    "    w3 = tf.Variable(tf.truncated_normal([h2_size, hidden_size], stddev=0.1), name=\"g_w3\", dtype=tf.float32)  \n",
    "    b3 = tf.Variable(tf.zeros([hidden_size]), name=\"g_b3\", dtype=tf.float32)  \n",
    "    h3 = tf.nn.tanh(tf.matmul(h2, w3) + b3)\n",
    "    x_generate = h3\n",
    "    g_params1 = [w1, b1]\n",
    "    g_params2 = [w2, b2,w3, b3]\n",
    "    return x_generate, g_params1,g_params2  \n",
    "\n",
    "h_state,g_params1,g_params2=build_generator(X[:, 0, :])\n",
    "outputs.append(h_state)"
   ]
  },
  {
   "cell_type": "markdown",
   "metadata": {
    "Collapsed": "false"
   },
   "source": [
    "### 设置 loss function 和 优化器"
   ]
  },
  {
   "cell_type": "code",
   "execution_count": 5,
   "metadata": {
    "Collapsed": "false",
    "ExecuteTime": {
     "end_time": "2017-12-14T10:33:22.225948Z",
     "start_time": "2017-12-14T10:33:22.152335Z"
    }
   },
   "outputs": [],
   "source": [
    "# 开始训练和测试\n",
    "W = tf.Variable(tf.truncated_normal([hidden_size, class_num], stddev=0.1), dtype=tf.float32)\n",
    "bias = tf.Variable(tf.constant(0.1,shape=[class_num]), dtype=tf.float32)\n",
    "y_pre = tf.nn.softmax(tf.matmul(h_state, W) + bias)\n",
    "\n",
    "# 损失和评估函数\n",
    "cross_entropy = -tf.reduce_mean(y * tf.log(y_pre))\n",
    "train_op = tf.train.AdamOptimizer(0.0001).minimize(cross_entropy,var_list=[g_params1,W,bias,g_params2])\n",
    "#train_op = tf.train.GradientDescentOptimizer(1e-3).minimize(cross_entropy)\n",
    "\n",
    "correct_prediction = tf.equal(tf.argmax(y_pre,1), tf.argmax(y,1))\n",
    "accuracy = tf.reduce_mean(tf.cast(correct_prediction, \"float\"))"
   ]
  },
  {
   "cell_type": "markdown",
   "metadata": {
    "Collapsed": "false"
   },
   "source": [
    "### 设置一个GAN限定输出层必须类似字符型"
   ]
  },
  {
   "cell_type": "code",
   "execution_count": 6,
   "metadata": {
    "Collapsed": "false",
    "ExecuteTime": {
     "end_time": "2017-12-14T10:33:22.715023Z",
     "start_time": "2017-12-14T10:33:22.700802Z"
    },
    "code_folding": []
   },
   "outputs": [],
   "source": [
    "h1_size = 150  \n",
    "h2_size = 300  \n",
    "def build_discriminator(x_data,x_generated, keep_prob):  \n",
    "    x_in = tf.concat([x_data], 0)  \n",
    "    w1 = tf.Variable(tf.truncated_normal([input_size, h2_size], stddev=0.1), name=\"d_w1\", dtype=tf.float32)  \n",
    "    b1 = tf.Variable(tf.zeros([h2_size]), name=\"d_b1\", dtype=tf.float32)  \n",
    "    h1 = tf.nn.dropout(tf.nn.relu(tf.matmul(x_in, w1) + b1), keep_prob)\n",
    "    \n",
    "    w2 = tf.Variable(tf.truncated_normal([h2_size, h1_size], stddev=0.1), name=\"d_w2\", dtype=tf.float32)  \n",
    "    b2 = tf.Variable(tf.zeros([h1_size]), name=\"d_b2\", dtype=tf.float32)  \n",
    "    h2 = tf.nn.dropout(tf.nn.relu(tf.matmul(h1, w2) + b2), keep_prob)  \n",
    "    \n",
    "    w3 = tf.Variable(tf.truncated_normal([h1_size, 1], stddev=0.1), name=\"d_w3\", dtype=tf.float32)  \n",
    "    b3 = tf.Variable(tf.zeros([1]), name=\"d_b3\", dtype=tf.float32)  \n",
    "    h3 = tf.matmul(h2, w3) + b3  \n",
    "    y_data = tf.nn.sigmoid(h3)\n",
    "    \n",
    "    x_in = tf.concat([x_generated], 0)  \n",
    "    h1 = tf.nn.dropout(tf.nn.relu(tf.matmul(x_in, w1) + b1), keep_prob)\n",
    "    h2 = tf.nn.dropout(tf.nn.relu(tf.matmul(h1, w2) + b2), keep_prob)  \n",
    "    h3 = tf.matmul(h2, w3) + b3  \n",
    "    y_generated = tf.nn.sigmoid(h3)\n",
    "    \n",
    "    d_params = [w1, b1, w2, b2, w3, b3]  \n",
    "    \n",
    "    return y_data,y_generated, d_params"
   ]
  },
  {
   "cell_type": "code",
   "execution_count": 7,
   "metadata": {
    "Collapsed": "false",
    "ExecuteTime": {
     "end_time": "2017-12-14T10:33:23.293928Z",
     "start_time": "2017-12-14T10:33:23.027673Z"
    }
   },
   "outputs": [
    {
     "name": "stdout",
     "output_type": "stream",
     "text": [
      "WARNING:tensorflow:From <ipython-input-6-c7864db33ce6>:7: calling dropout (from tensorflow.python.ops.nn_ops) with keep_prob is deprecated and will be removed in a future version.\n",
      "Instructions for updating:\n",
      "Please use `rate` instead of `keep_prob`. Rate should be set to `rate = 1 - keep_prob`.\n"
     ]
    }
   ],
   "source": [
    "X_re=tf.reshape(X,[-1,784])\n",
    "\n",
    "y_data,y_generated, d_params  = build_discriminator(X_re,h_state, keep_prob)\n",
    "\n",
    "d_loss = - (tf.log(y_data) + tf.log(1 - y_generated))\n",
    "g_loss = - tf.log(y_generated)\n",
    "\n",
    "optimizer_d = tf.train.AdamOptimizer(0.0001)\n",
    "optimizer_g = tf.train.AdamOptimizer(0.0001)\n",
    "d_trainer = optimizer_d.minimize(d_loss, var_list=d_params)\n",
    "g_trainer = optimizer_g.minimize(g_loss, var_list=g_params2)"
   ]
  },
  {
   "cell_type": "code",
   "execution_count": 8,
   "metadata": {
    "Collapsed": "false",
    "ExecuteTime": {
     "end_time": "2017-12-14T10:33:23.532736Z",
     "start_time": "2017-12-14T10:33:23.390979Z"
    }
   },
   "outputs": [],
   "source": [
    "sess.run(tf.global_variables_initializer())"
   ]
  },
  {
   "cell_type": "code",
   "execution_count": 9,
   "metadata": {
    "Collapsed": "false",
    "ExecuteTime": {
     "end_time": "2017-12-14T10:34:05.144544Z",
     "start_time": "2017-12-14T10:33:23.952863Z"
    }
   },
   "outputs": [
    {
     "name": "stdout",
     "output_type": "stream",
     "text": [
      "Iter9, step 2000, training accuracy 0.9375 0.69199 0.115506\n",
      "Iter18, step 4000, training accuracy 0.96875 0.62666 0.118456\n",
      "Iter27, step 6000, training accuracy 0.984375 0.702506 0.0779115\n",
      "Iter37, step 8000, training accuracy 0.96875 0.685481 0.0861564\n",
      "Iter46, step 10000, training accuracy 0.980469 0.700139 0.0864766\n"
     ]
    }
   ],
   "source": [
    "for i in range(10000):\n",
    "    _batch_size = 256\n",
    "    batch,batch_y = mnist.train.next_batch(_batch_size)\n",
    "    x_value = 2 * batch.astype(np.float32) - 1\n",
    "    \n",
    "    if (i+1)%2000 == 0:\n",
    "        train_accuracy,d_v,g_v = sess.run([accuracy,d_loss,g_loss], feed_dict={\n",
    "            _X:x_value, y: batch_y, keep_prob: 1.0, batch_size: _batch_size})\n",
    "        # 已经迭代完成的 epoch 数: mnist.train.epochs_completed\n",
    "        print \"Iter%d, step %d, training accuracy %g %g %g\" % ( mnist.train.epochs_completed, (i+1), train_accuracy,np.exp(-np.mean(d_v)),np.exp(-np.mean(g_v)))\n",
    "    sess.run(d_trainer, feed_dict={_X: x_value, y: batch_y, keep_prob: 0.7, batch_size: _batch_size})\n",
    "    sess.run(g_trainer, feed_dict={_X: x_value, y: batch_y, keep_prob: 0.7, batch_size: _batch_size})\n",
    "    sess.run(train_op, feed_dict={_X: x_value, y: batch_y, keep_prob: 0.5, batch_size: _batch_size})"
   ]
  },
  {
   "cell_type": "code",
   "execution_count": 10,
   "metadata": {
    "Collapsed": "false",
    "ExecuteTime": {
     "end_time": "2017-12-14T11:47:26.772368Z",
     "start_time": "2017-12-14T11:47:21.445582Z"
    },
    "scrolled": true
   },
   "outputs": [
    {
     "ename": "InternalError",
     "evalue": "Dst tensor is not initialized.\n\t [[{{node _arg_Placeholder_2_0_1}}]]\n\t [[node Softmax (defined at <ipython-input-5-a9994ae0a709>:4) ]]",
     "output_type": "error",
     "traceback": [
      "\u001b[0;31m\u001b[0m",
      "\u001b[0;31mInternalError\u001b[0mTraceback (most recent call last)",
      "\u001b[0;32m<ipython-input-10-1cf0a43e17ee>\u001b[0m in \u001b[0;36m<module>\u001b[0;34m()\u001b[0m\n\u001b[1;32m      3\u001b[0m \u001b[0mx_value\u001b[0m \u001b[0;34m=\u001b[0m \u001b[0;36m2\u001b[0m \u001b[0;34m*\u001b[0m \u001b[0mbatch\u001b[0m\u001b[0;34m.\u001b[0m\u001b[0mastype\u001b[0m\u001b[0;34m(\u001b[0m\u001b[0mnp\u001b[0m\u001b[0;34m.\u001b[0m\u001b[0mfloat32\u001b[0m\u001b[0;34m)\u001b[0m \u001b[0;34m-\u001b[0m \u001b[0;36m1\u001b[0m\u001b[0;34m\u001b[0m\u001b[0;34m\u001b[0m\u001b[0m\n\u001b[1;32m      4\u001b[0m accuracy_v,y_v=sess.run([accuracy,y_pre], feed_dict={\n\u001b[0;32m----> 5\u001b[0;31m     _X: x_value, y: batch_y, keep_prob: 1.0, batch_size:mnist.test.images.shape[0]})\n\u001b[0m\u001b[1;32m      6\u001b[0m \u001b[0;34m\u001b[0m\u001b[0m\n\u001b[1;32m      7\u001b[0m \u001b[0;32mprint\u001b[0m \u001b[0;34m\"test accuracy %g\"\u001b[0m\u001b[0;34m%\u001b[0m \u001b[0mnp\u001b[0m\u001b[0;34m.\u001b[0m\u001b[0msum\u001b[0m\u001b[0;34m(\u001b[0m\u001b[0maccuracy_v\u001b[0m\u001b[0;34m)\u001b[0m\u001b[0;34m\u001b[0m\u001b[0;34m\u001b[0m\u001b[0m\n",
      "\u001b[0;32m/usr/local/lib/python2.7/dist-packages/tensorflow/python/client/session.pyc\u001b[0m in \u001b[0;36mrun\u001b[0;34m(self, fetches, feed_dict, options, run_metadata)\u001b[0m\n\u001b[1;32m    927\u001b[0m     \u001b[0;32mtry\u001b[0m\u001b[0;34m:\u001b[0m\u001b[0;34m\u001b[0m\u001b[0;34m\u001b[0m\u001b[0m\n\u001b[1;32m    928\u001b[0m       result = self._run(None, fetches, feed_dict, options_ptr,\n\u001b[0;32m--> 929\u001b[0;31m                          run_metadata_ptr)\n\u001b[0m\u001b[1;32m    930\u001b[0m       \u001b[0;32mif\u001b[0m \u001b[0mrun_metadata\u001b[0m\u001b[0;34m:\u001b[0m\u001b[0;34m\u001b[0m\u001b[0;34m\u001b[0m\u001b[0m\n\u001b[1;32m    931\u001b[0m         \u001b[0mproto_data\u001b[0m \u001b[0;34m=\u001b[0m \u001b[0mtf_session\u001b[0m\u001b[0;34m.\u001b[0m\u001b[0mTF_GetBuffer\u001b[0m\u001b[0;34m(\u001b[0m\u001b[0mrun_metadata_ptr\u001b[0m\u001b[0;34m)\u001b[0m\u001b[0;34m\u001b[0m\u001b[0;34m\u001b[0m\u001b[0m\n",
      "\u001b[0;32m/usr/local/lib/python2.7/dist-packages/tensorflow/python/client/session.pyc\u001b[0m in \u001b[0;36m_run\u001b[0;34m(self, handle, fetches, feed_dict, options, run_metadata)\u001b[0m\n\u001b[1;32m   1150\u001b[0m     \u001b[0;32mif\u001b[0m \u001b[0mfinal_fetches\u001b[0m \u001b[0;32mor\u001b[0m \u001b[0mfinal_targets\u001b[0m \u001b[0;32mor\u001b[0m \u001b[0;34m(\u001b[0m\u001b[0mhandle\u001b[0m \u001b[0;32mand\u001b[0m \u001b[0mfeed_dict_tensor\u001b[0m\u001b[0;34m)\u001b[0m\u001b[0;34m:\u001b[0m\u001b[0;34m\u001b[0m\u001b[0;34m\u001b[0m\u001b[0m\n\u001b[1;32m   1151\u001b[0m       results = self._do_run(handle, final_targets, final_fetches,\n\u001b[0;32m-> 1152\u001b[0;31m                              feed_dict_tensor, options, run_metadata)\n\u001b[0m\u001b[1;32m   1153\u001b[0m     \u001b[0;32melse\u001b[0m\u001b[0;34m:\u001b[0m\u001b[0;34m\u001b[0m\u001b[0;34m\u001b[0m\u001b[0m\n\u001b[1;32m   1154\u001b[0m       \u001b[0mresults\u001b[0m \u001b[0;34m=\u001b[0m \u001b[0;34m[\u001b[0m\u001b[0;34m]\u001b[0m\u001b[0;34m\u001b[0m\u001b[0;34m\u001b[0m\u001b[0m\n",
      "\u001b[0;32m/usr/local/lib/python2.7/dist-packages/tensorflow/python/client/session.pyc\u001b[0m in \u001b[0;36m_do_run\u001b[0;34m(self, handle, target_list, fetch_list, feed_dict, options, run_metadata)\u001b[0m\n\u001b[1;32m   1326\u001b[0m     \u001b[0;32mif\u001b[0m \u001b[0mhandle\u001b[0m \u001b[0;32mis\u001b[0m \u001b[0mNone\u001b[0m\u001b[0;34m:\u001b[0m\u001b[0;34m\u001b[0m\u001b[0;34m\u001b[0m\u001b[0m\n\u001b[1;32m   1327\u001b[0m       return self._do_call(_run_fn, feeds, fetches, targets, options,\n\u001b[0;32m-> 1328\u001b[0;31m                            run_metadata)\n\u001b[0m\u001b[1;32m   1329\u001b[0m     \u001b[0;32melse\u001b[0m\u001b[0;34m:\u001b[0m\u001b[0;34m\u001b[0m\u001b[0;34m\u001b[0m\u001b[0m\n\u001b[1;32m   1330\u001b[0m       \u001b[0;32mreturn\u001b[0m \u001b[0mself\u001b[0m\u001b[0;34m.\u001b[0m\u001b[0m_do_call\u001b[0m\u001b[0;34m(\u001b[0m\u001b[0m_prun_fn\u001b[0m\u001b[0;34m,\u001b[0m \u001b[0mhandle\u001b[0m\u001b[0;34m,\u001b[0m \u001b[0mfeeds\u001b[0m\u001b[0;34m,\u001b[0m \u001b[0mfetches\u001b[0m\u001b[0;34m)\u001b[0m\u001b[0;34m\u001b[0m\u001b[0;34m\u001b[0m\u001b[0m\n",
      "\u001b[0;32m/usr/local/lib/python2.7/dist-packages/tensorflow/python/client/session.pyc\u001b[0m in \u001b[0;36m_do_call\u001b[0;34m(self, fn, *args)\u001b[0m\n\u001b[1;32m   1346\u001b[0m           \u001b[0;32mpass\u001b[0m\u001b[0;34m\u001b[0m\u001b[0;34m\u001b[0m\u001b[0m\n\u001b[1;32m   1347\u001b[0m       \u001b[0mmessage\u001b[0m \u001b[0;34m=\u001b[0m \u001b[0merror_interpolation\u001b[0m\u001b[0;34m.\u001b[0m\u001b[0minterpolate\u001b[0m\u001b[0;34m(\u001b[0m\u001b[0mmessage\u001b[0m\u001b[0;34m,\u001b[0m \u001b[0mself\u001b[0m\u001b[0;34m.\u001b[0m\u001b[0m_graph\u001b[0m\u001b[0;34m)\u001b[0m\u001b[0;34m\u001b[0m\u001b[0;34m\u001b[0m\u001b[0m\n\u001b[0;32m-> 1348\u001b[0;31m       \u001b[0;32mraise\u001b[0m \u001b[0mtype\u001b[0m\u001b[0;34m(\u001b[0m\u001b[0me\u001b[0m\u001b[0;34m)\u001b[0m\u001b[0;34m(\u001b[0m\u001b[0mnode_def\u001b[0m\u001b[0;34m,\u001b[0m \u001b[0mop\u001b[0m\u001b[0;34m,\u001b[0m \u001b[0mmessage\u001b[0m\u001b[0;34m)\u001b[0m\u001b[0;34m\u001b[0m\u001b[0;34m\u001b[0m\u001b[0m\n\u001b[0m\u001b[1;32m   1349\u001b[0m \u001b[0;34m\u001b[0m\u001b[0m\n\u001b[1;32m   1350\u001b[0m   \u001b[0;32mdef\u001b[0m \u001b[0m_extend_graph\u001b[0m\u001b[0;34m(\u001b[0m\u001b[0mself\u001b[0m\u001b[0;34m)\u001b[0m\u001b[0;34m:\u001b[0m\u001b[0;34m\u001b[0m\u001b[0;34m\u001b[0m\u001b[0m\n",
      "\u001b[0;31mInternalError\u001b[0m: Dst tensor is not initialized.\n\t [[{{node _arg_Placeholder_2_0_1}}]]\n\t [[node Softmax (defined at <ipython-input-5-a9994ae0a709>:4) ]]"
     ]
    }
   ],
   "source": [
    "# 计算测试数据的准确率\n",
    "batch,batch_y = mnist.test.images,mnist.test.labels\n",
    "x_value = 2 * batch.astype(np.float32) - 1\n",
    "accuracy_v,y_v=sess.run([accuracy,y_pre], feed_dict={\n",
    "    _X: x_value, y: batch_y, keep_prob: 1.0, batch_size:mnist.test.images.shape[0]})\n",
    "\n",
    "print \"test accuracy %g\"% np.sum(accuracy_v)\n",
    "y_s=np.argmax(batch_y,axis=1)\n",
    "y_d=np.argmax(y_v,axis=1)\n",
    "\n",
    "#@autojit\n",
    "def show_err():\n",
    "    y_diff=np.array(np.where(y_s == y_d))\n",
    "    y_diff=y_diff.transpose()\n",
    "\n",
    "    plt.figure(figsize=(10,5)) \n",
    "    i=0\n",
    "    for y_i in y_diff[0:100]:\n",
    "        plt.subplot(10, 22, ((i)/10)*22 + ((i)%10) + 1 )\n",
    "        plt.imshow(np.reshape(batch[y_i,:],[28,28]),cmap='gray')\n",
    "        plt.axis('off')\n",
    "        i=i+1\n",
    "    #plt.show()\n",
    "\n",
    "    y_diff=np.array(np.where(y_s != y_d))\n",
    "    y_diff=y_diff.transpose()\n",
    "\n",
    "    #plt.figure(figsize=(5,10)) \n",
    "    i=0\n",
    "    for y_i in y_diff[0:100]:\n",
    "        plt.subplot(10, 22, ((i)/10)*22 + ((i)%10 + 1) + 11)\n",
    "        plt.imshow(np.reshape(batch[y_i,:],[28,28]),cmap='gray')\n",
    "        plt.axis('off')\n",
    "        i=i+1\n",
    "\n",
    "    plt.show()\n",
    "\n",
    "show_err()"
   ]
  },
  {
   "cell_type": "code",
   "execution_count": null,
   "metadata": {
    "Collapsed": "false",
    "ExecuteTime": {
     "end_time": "2017-12-14T10:25:34.480719Z",
     "start_time": "2017-12-14T10:25:34.479378Z"
    },
    "code_folding": []
   },
   "outputs": [],
   "source": [
    "#%prun sess.run(train_op, feed_dict={_X: batch[0], y: batch[1], keep_prob: 0.5, batch_size: _batch_size})"
   ]
  },
  {
   "cell_type": "markdown",
   "metadata": {
    "Collapsed": "false"
   },
   "source": [
    "### 可视化看看 LSTM 的是怎么做分类的"
   ]
  },
  {
   "cell_type": "code",
   "execution_count": null,
   "metadata": {
    "Collapsed": "false",
    "ExecuteTime": {
     "end_time": "2017-12-14T11:02:45.986006Z",
     "start_time": "2017-12-14T11:02:45.890420Z"
    },
    "code_folding": []
   },
   "outputs": [],
   "source": [
    "#\n",
    "num=np.random.randint(10000)\n",
    "import matplotlib.pyplot as plt\n",
    "X3 = mnist.test.images[num]\n",
    "y_batch = mnist.test.labels[num]\n",
    "\n",
    "img3 = X3.reshape([28, 28])\n",
    "plt.subplot(1,2,1)\n",
    "plt.imshow(img3, cmap='gray');plt.title(str(num))\n",
    "\n",
    "import pywt,cv2\n",
    "cA2, (cH2, cV2, cD2)=pywt.wavedec2(np.float32(img3)/255,'haar',level=1);\n",
    "X2=np.vstack((np.hstack((cA2, cH2)),np.hstack((cV2, cD2))))\n",
    "plt.subplot(1,2,2)\n",
    "plt.imshow(X2,cmap='gray')"
   ]
  },
  {
   "cell_type": "code",
   "execution_count": null,
   "metadata": {
    "Collapsed": "false",
    "ExecuteTime": {
     "end_time": "2017-12-14T11:02:46.912895Z",
     "start_time": "2017-12-14T11:02:46.911025Z"
    }
   },
   "outputs": [],
   "source": [
    "X3.shape = [-1, 784]\n",
    "y_batch.shape = [-1, class_num]"
   ]
  },
  {
   "cell_type": "code",
   "execution_count": null,
   "metadata": {
    "Collapsed": "false",
    "ExecuteTime": {
     "end_time": "2017-12-14T11:02:48.027945Z",
     "start_time": "2017-12-14T11:02:48.018643Z"
    },
    "code_folding": []
   },
   "outputs": [],
   "source": [
    "#\n",
    "outputs_v,y_v=sess.run([outputs,y_pre], feed_dict={\n",
    "            _X: X3, y: y_batch, keep_prob: 1.0, batch_size: 1})\n",
    "X3_outputs = np.array(outputs_v);\n",
    "#print X3_outputs.shape\n",
    "X3_re=np.reshape(X3_outputs,[-1,28, 28])\n",
    "#print X3_re.shape\n",
    "print np.argmax(y_batch)\n",
    "print np.argmax(y_v)"
   ]
  },
  {
   "cell_type": "code",
   "execution_count": null,
   "metadata": {
    "Collapsed": "false",
    "ExecuteTime": {
     "end_time": "2017-12-14T11:02:48.366112Z",
     "start_time": "2017-12-14T11:02:48.300739Z"
    }
   },
   "outputs": [],
   "source": [
    "plt.subplot(4, 7, 1)\n",
    "plt.imshow(np.reshape(X3,[28,28]),cmap='gray')\n",
    "\n",
    "for i in xrange(X3_re.shape[0]):\n",
    "    plt.subplot(4, 7, i+8)\n",
    "    plt.imshow(X3_re[i,:,:],cmap='gray')\n",
    "    plt.axis('off')\n",
    "plt.show()"
   ]
  },
  {
   "cell_type": "code",
   "execution_count": null,
   "metadata": {
    "Collapsed": "false"
   },
   "outputs": [],
   "source": []
  },
  {
   "cell_type": "code",
   "execution_count": null,
   "metadata": {
    "Collapsed": "false"
   },
   "outputs": [],
   "source": []
  },
  {
   "cell_type": "code",
   "execution_count": null,
   "metadata": {
    "Collapsed": "false"
   },
   "outputs": [],
   "source": []
  },
  {
   "cell_type": "code",
   "execution_count": null,
   "metadata": {
    "Collapsed": "false"
   },
   "outputs": [],
   "source": []
  }
 ],
 "metadata": {
  "kernelspec": {
   "display_name": "Python 2",
   "language": "python",
   "name": "python2"
  },
  "language_info": {
   "codemirror_mode": {
    "name": "ipython",
    "version": 2
   },
   "file_extension": ".py",
   "mimetype": "text/x-python",
   "name": "python",
   "nbconvert_exporter": "python",
   "pygments_lexer": "ipython2",
   "version": "2.7.17"
  },
  "toc": {
   "nav_menu": {},
   "number_sections": true,
   "sideBar": true,
   "skip_h1_title": false,
   "title_cell": "Table of Contents",
   "title_sidebar": "Contents",
   "toc_cell": false,
   "toc_position": {},
   "toc_section_display": true,
   "toc_window_display": false
  },
  "varInspector": {
   "cols": {
    "lenName": 16,
    "lenType": 16,
    "lenVar": 40
   },
   "kernels_config": {
    "python": {
     "delete_cmd_postfix": "",
     "delete_cmd_prefix": "del ",
     "library": "var_list.py",
     "varRefreshCmd": "print(var_dic_list())"
    },
    "r": {
     "delete_cmd_postfix": ") ",
     "delete_cmd_prefix": "rm(",
     "library": "var_list.r",
     "varRefreshCmd": "cat(var_dic_list()) "
    }
   },
   "types_to_exclude": [
    "module",
    "function",
    "builtin_function_or_method",
    "instance",
    "_Feature"
   ],
   "window_display": false
  }
 },
 "nbformat": 4,
 "nbformat_minor": 4
}
