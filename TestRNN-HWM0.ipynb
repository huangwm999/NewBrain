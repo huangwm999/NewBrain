{
 "cells": [
  {
   "cell_type": "code",
   "execution_count": 1,
   "metadata": {
    "Collapsed": "false",
    "ExecuteTime": {
     "end_time": "2017-12-13T05:51:40.717295Z",
     "start_time": "2017-12-13T05:51:40.116208Z"
    },
    "code_folding": []
   },
   "outputs": [],
   "source": [
    "#Import the libraries we will need.\n",
    "# -*- coding:utf-8 -*-\n",
    "import tensorflow as tf\n",
    "import numpy as np\n",
    "from tensorflow.contrib import rnn\n",
    "from tensorflow.examples.tutorials.mnist import input_data\n",
    "\n",
    "%matplotlib inline"
   ]
  },
  {
   "cell_type": "code",
   "execution_count": 26,
   "metadata": {
    "Collapsed": "false",
    "ExecuteTime": {
     "end_time": "2017-12-13T06:00:49.855409Z",
     "start_time": "2017-12-13T06:00:49.561219Z"
    },
    "code_folding": []
   },
   "outputs": [
    {
     "name": "stdout",
     "output_type": "stream",
     "text": [
      "Extracting MNIST_data/train-images-idx3-ubyte.gz\n",
      "Extracting MNIST_data/train-labels-idx1-ubyte.gz\n",
      "Extracting MNIST_data/t10k-images-idx3-ubyte.gz\n",
      "Extracting MNIST_data/t10k-labels-idx1-ubyte.gz\n",
      "(55000, 784)\n"
     ]
    }
   ],
   "source": [
    "# 设置 GPU 按需增长\n",
    "config = tf.ConfigProto()\n",
    "config.gpu_options.allow_growth = True\n",
    "sess = tf.Session(config=config)\n",
    "\n",
    "# 首先导入数据，看一下数据的形式\n",
    "mnist = input_data.read_data_sets('MNIST_data', one_hot=True)\n",
    "print mnist.train.images.shape"
   ]
  },
  {
   "cell_type": "markdown",
   "metadata": {
    "Collapsed": "false"
   },
   "source": [
    "### 首先设置好模型用到的各个超参数"
   ]
  },
  {
   "cell_type": "code",
   "execution_count": 131,
   "metadata": {
    "Collapsed": "false",
    "ExecuteTime": {
     "end_time": "2017-12-13T06:18:32.911645Z",
     "start_time": "2017-12-13T06:18:32.903675Z"
    },
    "code_folding": []
   },
   "outputs": [],
   "source": [
    "#\n",
    "lr = 1e-3\n",
    "# 在训练和测试的时候，我们想用不同的 batch_size.所以采用占位符的方式\n",
    "#batch_size = tf.placeholder(tf.int32)  # 注意类型必须为 tf.int32\n",
    "# 在 1.0 版本以后请使用 ：\n",
    "keep_prob = tf.placeholder(tf.float32, [])\n",
    "batch_size = tf.placeholder(tf.int32, [])\n",
    "\n",
    "# 每个时刻的输入特征是28维的，就是每个时刻输入一行，一行有 28 个像素\n",
    "input_size = 28\n",
    "# 时序持续长度为28，即每做一次预测，需要先输入28行\n",
    "timestep_size = 28\n",
    "# 每个隐含层的节点数\n",
    "hidden_size = 28*28\n",
    "# LSTM layer 的层数\n",
    "layer_num = 2\n",
    "# 最后输出分类类别数量，如果是回归预测的话应该是 1\n",
    "class_num = 10\n",
    "\n",
    "_X = tf.placeholder(tf.float32, [None, 784])\n",
    "y = tf.placeholder(tf.float32, [None, class_num])\n",
    "keep_prob = tf.placeholder(tf.float32)\n"
   ]
  },
  {
   "cell_type": "markdown",
   "metadata": {
    "Collapsed": "false"
   },
   "source": [
    "### 开始搭建 RNN 模型"
   ]
  },
  {
   "cell_type": "code",
   "execution_count": 132,
   "metadata": {
    "Collapsed": "false",
    "ExecuteTime": {
     "end_time": "2017-12-13T06:18:33.251103Z",
     "start_time": "2017-12-13T06:18:33.179419Z"
    },
    "code_folding": []
   },
   "outputs": [],
   "source": [
    "# 把784个点的字符信息还原成 28 * 28 的图片\n",
    "# 下面几个步骤是实现 RNN / LSTM 的关键\n",
    "####################################################################\n",
    "# **步骤1：RNN 的输入shape = (batch_size, timestep_size, input_size) \n",
    "timestep_size=28/28\n",
    "input_size=28*28\n",
    "X = tf.reshape(_X, [-1, timestep_size, input_size])\n",
    "\n",
    "#output = new_state = act(W input + U state + B)\n",
    "Rnn_W = tf.Variable(tf.truncated_normal([input_size,hidden_size], stddev=0.1), dtype=tf.float32)\n",
    "Rnn_U = tf.Variable(tf.truncated_normal([hidden_size,hidden_size], stddev=0.1), dtype=tf.float32)\n",
    "Rnn_bias = tf.Variable(tf.constant(0.1,shape=[hidden_size]), dtype=tf.float32)\n",
    "\n",
    "outputs = list()\n",
    "new_state = tf.matmul(X[:,0,0:1],tf.Variable(tf.constant(0.1,shape=[1,hidden_size]), dtype=tf.float32))\n",
    "\n",
    "#超级无语，竟然batch_size不能作为Variable的入参\n",
    "#print(new_state)\n",
    "\n",
    "for timestep in range(layer_num):\n",
    "    new_state = tf.nn.tanh(tf.matmul(X[:, 0, :], Rnn_W)+ tf.matmul(new_state, Rnn_U)+ Rnn_bias)\n",
    "    outputs.append(new_state)\n",
    "h_state = outputs[-1]\n"
   ]
  },
  {
   "cell_type": "markdown",
   "metadata": {
    "Collapsed": "false"
   },
   "source": [
    "### 设置 loss function 和 优化器"
   ]
  },
  {
   "cell_type": "code",
   "execution_count": 133,
   "metadata": {
    "Collapsed": "false",
    "ExecuteTime": {
     "end_time": "2017-12-13T06:18:33.519375Z",
     "start_time": "2017-12-13T06:18:33.427565Z"
    }
   },
   "outputs": [],
   "source": [
    "# 上面 LSTM 部分的输出会是一个 [hidden_size] 的tensor，我们要分类的话，还需要接一个 softmax 层\n",
    "# 首先定义 softmax 的连接权重矩阵和偏置\n",
    "out_W = tf.placeholder(tf.float32, [hidden_size, class_num], name='out_Weights')\n",
    "out_bias = tf.placeholder(tf.float32, [class_num], name='out_bias')\n",
    "# 开始训练和测试\n",
    "W = tf.Variable(tf.truncated_normal([hidden_size, class_num], stddev=0.1), dtype=tf.float32)\n",
    "bias = tf.Variable(tf.constant(0.1,shape=[class_num]), dtype=tf.float32)\n",
    "y_pre = tf.nn.softmax(tf.matmul(h_state, W) + bias)\n",
    "\n",
    "# 损失和评估函数\n",
    "cross_entropy = -tf.reduce_mean(y * tf.log(y_pre))\n",
    "train_op = tf.train.AdamOptimizer(lr).minimize(cross_entropy)\n",
    "#train_op = tf.train.GradientDescentOptimizer(1e-3).minimize(cross_entropy)\n",
    "\n",
    "correct_prediction = tf.equal(tf.argmax(y_pre,1), tf.argmax(y,1))\n",
    "accuracy = tf.reduce_mean(tf.cast(correct_prediction, \"float\"))"
   ]
  },
  {
   "cell_type": "code",
   "execution_count": 134,
   "metadata": {
    "Collapsed": "false",
    "ExecuteTime": {
     "end_time": "2017-12-13T06:18:37.585726Z",
     "start_time": "2017-12-13T06:18:33.653161Z"
    }
   },
   "outputs": [
    {
     "name": "stdout",
     "output_type": "stream",
     "text": [
      "Iter65, step 200, training accuracy 0.914062\n",
      "Iter66, step 400, training accuracy 0.96875\n",
      "Iter66, step 600, training accuracy 0.96875\n",
      "Iter67, step 800, training accuracy 1\n",
      "Iter67, step 1000, training accuracy 0.984375\n",
      "Iter67, step 1200, training accuracy 1\n",
      "Iter68, step 1400, training accuracy 0.992188\n",
      "Iter68, step 1600, training accuracy 0.992188\n",
      "Iter69, step 1800, training accuracy 1\n",
      "Iter69, step 2000, training accuracy 0.984375\n",
      "test accuracy 0.9763\n"
     ]
    }
   ],
   "source": [
    "sess.run(tf.global_variables_initializer())\n",
    "for i in range(2000):\n",
    "    _batch_size = 128\n",
    "    batch = mnist.train.next_batch(_batch_size)\n",
    "    if (i+1)%200 == 0:\n",
    "        train_accuracy = sess.run(accuracy, feed_dict={\n",
    "            _X:batch[0], y: batch[1], keep_prob: 1.0, batch_size: _batch_size})\n",
    "        # 已经迭代完成的 epoch 数: mnist.train.epochs_completed\n",
    "        print \"Iter%d, step %d, training accuracy %g\" % ( mnist.train.epochs_completed, (i+1), train_accuracy)\n",
    "    sess.run(train_op, feed_dict={_X: batch[0], y: batch[1], keep_prob: 0.5, batch_size: _batch_size})\n",
    "\n",
    "# 计算测试数据的准确率\n",
    "print \"test accuracy %g\"% sess.run(accuracy, feed_dict={\n",
    "    _X: mnist.test.images, y: mnist.test.labels, keep_prob: 1.0, batch_size:mnist.test.images.shape[0]})"
   ]
  },
  {
   "cell_type": "code",
   "execution_count": 135,
   "metadata": {
    "Collapsed": "false",
    "ExecuteTime": {
     "end_time": "2017-12-13T06:18:37.718753Z",
     "start_time": "2017-12-13T06:18:37.717367Z"
    }
   },
   "outputs": [],
   "source": [
    "#%prun sess.run(train_op, feed_dict={_X: batch[0], y: batch[1], keep_prob: 0.5, batch_size: _batch_size})"
   ]
  },
  {
   "cell_type": "markdown",
   "metadata": {
    "Collapsed": "false"
   },
   "source": [
    "### 可视化看看 LSTM 的是怎么做分类的"
   ]
  },
  {
   "cell_type": "code",
   "execution_count": 136,
   "metadata": {
    "Collapsed": "false",
    "ExecuteTime": {
     "end_time": "2017-12-13T06:18:37.846617Z",
     "start_time": "2017-12-13T06:18:37.844642Z"
    }
   },
   "outputs": [
    {
     "name": "stdout",
     "output_type": "stream",
     "text": [
      "[ 0.  0.  0.  0.  1.  0.  0.  0.  0.  0.]\n"
     ]
    }
   ],
   "source": [
    "import matplotlib.pyplot as plt\n",
    "print mnist.test.labels[6]"
   ]
  },
  {
   "cell_type": "code",
   "execution_count": 137,
   "metadata": {
    "Collapsed": "false",
    "ExecuteTime": {
     "end_time": "2017-12-13T06:18:38.060974Z",
     "start_time": "2017-12-13T06:18:37.971017Z"
    }
   },
   "outputs": [
    {
     "data": {
      "text/plain": [
       "<matplotlib.image.AxesImage at 0x7fd07a916c50>"
      ]
     },
     "execution_count": 137,
     "metadata": {},
     "output_type": "execute_result"
    },
    {
     "data": {
      "image/png": "[encoded data removed]",
      "text/plain": [
       "<matplotlib.figure.Figure at 0x7fd07aba5f10>"
      ]
     },
     "metadata": {},
     "output_type": "display_data"
    }
   ],
   "source": [
    "X3 = mnist.test.images[6]\n",
    "img3 = X3.reshape([28, 28])\n",
    "plt.subplot(1,2,1)\n",
    "plt.imshow(img3, cmap='gray')\n",
    "\n",
    "import pywt,cv2\n",
    "cA2, (cH2, cV2, cD2)=pywt.wavedec2(np.float32(img3)/255,'haar',level=1);\n",
    "X2=np.vstack((np.hstack((cA2, cH2)),np.hstack((cV2, cD2))))\n",
    "plt.subplot(1,2,2)\n",
    "plt.imshow(X2,cmap='gray')"
   ]
  },
  {
   "cell_type": "code",
   "execution_count": 138,
   "metadata": {
    "Collapsed": "false",
    "ExecuteTime": {
     "end_time": "2017-12-13T06:18:38.217719Z",
     "start_time": "2017-12-13T06:18:38.184845Z"
    }
   },
   "outputs": [
    {
     "name": "stdout",
     "output_type": "stream",
     "text": [
      "(2, 1, 784)\n",
      "(2, 28, 28)\n"
     ]
    }
   ],
   "source": [
    "X3.shape = [-1, 784]\n",
    "y_batch = mnist.train.labels[0]\n",
    "y_batch.shape = [-1, class_num]\n",
    "\n",
    "X3_outputs = np.array(sess.run(outputs, feed_dict={\n",
    "            _X: X3, y: y_batch, keep_prob: 1.0, batch_size: 1}))\n",
    "print X3_outputs.shape\n",
    "X3_outputs.shape = [-1,28, 28]\n",
    "print X3_outputs.shape\n"
   ]
  },
  {
   "cell_type": "code",
   "execution_count": 139,
   "metadata": {
    "Collapsed": "false",
    "ExecuteTime": {
     "end_time": "2017-12-13T06:18:38.442770Z",
     "start_time": "2017-12-13T06:18:38.335444Z"
    },
    "scrolled": true
   },
   "outputs": [
    {
     "data": {
      "image/png": "[encoded data removed]",
      "text/plain": [
       "<matplotlib.figure.Figure at 0x7fd07a8f0350>"
      ]
     },
     "metadata": {},
     "output_type": "display_data"
    }
   ],
   "source": [
    "h_W = sess.run(W, feed_dict={\n",
    "            _X:X3, y: y_batch, keep_prob: 1.0, batch_size: 1})\n",
    "h_bias = sess.run(bias, feed_dict={\n",
    "            _X:X3, y: y_batch, keep_prob: 1.0, batch_size: 1})\n",
    "h_bias.shape = [-1, 10]\n",
    "\n",
    "bar_index = range(class_num)\n",
    "for i in xrange(X3_outputs.shape[0]):\n",
    "    plt.subplot(7, 4, i+1)\n",
    "    plt.imshow(X3_outputs[i,:,:])\n",
    "    plt.axis('off')\n",
    "plt.show()\n"
   ]
  },
  {
   "cell_type": "code",
   "execution_count": null,
   "metadata": {
    "Collapsed": "false"
   },
   "outputs": [],
   "source": []
  },
  {
   "cell_type": "code",
   "execution_count": null,
   "metadata": {
    "Collapsed": "false"
   },
   "outputs": [],
   "source": []
  },
  {
   "cell_type": "code",
   "execution_count": null,
   "metadata": {
    "Collapsed": "false"
   },
   "outputs": [],
   "source": []
  },
  {
   "cell_type": "code",
   "execution_count": null,
   "metadata": {
    "Collapsed": "false"
   },
   "outputs": [],
   "source": []
  }
 ],
 "metadata": {
  "kernelspec": {
   "display_name": "Python 2",
   "language": "python",
   "name": "python2"
  },
  "language_info": {
   "codemirror_mode": {
    "name": "ipython",
    "version": 2
   },
   "file_extension": ".py",
   "mimetype": "text/x-python",
   "name": "python",
   "nbconvert_exporter": "python",
   "pygments_lexer": "ipython2",
   "version": "2.7.17"
  },
  "toc": {
   "nav_menu": {},
   "number_sections": true,
   "sideBar": true,
   "skip_h1_title": false,
   "title_cell": "Table of Contents",
   "title_sidebar": "Contents",
   "toc_cell": false,
   "toc_position": {},
   "toc_section_display": true,
   "toc_window_display": false
  },
  "varInspector": {
   "cols": {
    "lenName": 16,
    "lenType": 16,
    "lenVar": 40
   },
   "kernels_config": {
    "python": {
     "delete_cmd_postfix": "",
     "delete_cmd_prefix": "del ",
     "library": "var_list.py",
     "varRefreshCmd": "print(var_dic_list())"
    },
    "r": {
     "delete_cmd_postfix": ") ",
     "delete_cmd_prefix": "rm(",
     "library": "var_list.r",
     "varRefreshCmd": "cat(var_dic_list()) "
    }
   },
   "types_to_exclude": [
    "module",
    "function",
    "builtin_function_or_method",
    "instance",
    "_Feature"
   ],
   "window_display": false
  }
 },
 "nbformat": 4,
 "nbformat_minor": 4
}
