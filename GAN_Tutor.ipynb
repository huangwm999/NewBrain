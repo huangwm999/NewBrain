{
 "cells": [
  {
   "cell_type": "code",
   "execution_count": 1,
   "metadata": {
    "Collapsed": "false",
    "ExecuteTime": {
     "end_time": "2017-12-14T02:04:27.339437Z",
     "start_time": "2017-12-14T02:04:26.789313Z"
    }
   },
   "outputs": [],
   "source": [
    "import tensorflow as tf\n",
    "import numpy as np\n",
    "import input_data\n",
    "import os\n",
    "import shutil\n",
    "import scipy.misc"
   ]
  },
  {
   "cell_type": "code",
   "execution_count": 2,
   "metadata": {
    "Collapsed": "false",
    "ExecuteTime": {
     "end_time": "2017-12-14T02:04:28.054540Z",
     "start_time": "2017-12-14T02:04:28.050438Z"
    }
   },
   "outputs": [],
   "source": [
    "def imsave(path,images):\n",
    "    return scipy.misc.imsave(path, images)"
   ]
  },
  {
   "cell_type": "code",
   "execution_count": 3,
   "metadata": {
    "Collapsed": "false",
    "ExecuteTime": {
     "end_time": "2017-12-14T02:04:28.250906Z",
     "start_time": "2017-12-14T02:04:28.236767Z"
    }
   },
   "outputs": [],
   "source": [
    "img_height = 28  \n",
    "img_width = 28  \n",
    "img_size = img_height * img_width  \n",
    "  \n",
    "to_train = True  \n",
    "to_restore = False  \n",
    "output_path = \"output\"  \n",
    "  \n",
    "max_epoch = 50 \n",
    "\n",
    "h1_size = 150  \n",
    "h2_size = 300  \n",
    "z_size = 100  \n",
    "batch_size = 256  "
   ]
  },
  {
   "cell_type": "code",
   "execution_count": 4,
   "metadata": {
    "Collapsed": "false",
    "ExecuteTime": {
     "end_time": "2017-12-14T02:04:28.660587Z",
     "start_time": "2017-12-14T02:04:28.627650Z"
    }
   },
   "outputs": [],
   "source": [
    "def build_generator(z_prior):  \n",
    "    w1 = tf.Variable(tf.truncated_normal([z_size, h1_size], stddev=0.1), name=\"g_w1\", dtype=tf.float32)  \n",
    "    b1 = tf.Variable(tf.zeros([h1_size]), name=\"g_b1\", dtype=tf.float32)  \n",
    "    h1 = tf.nn.relu(tf.matmul(z_prior, w1) + b1)  \n",
    "    w2 = tf.Variable(tf.truncated_normal([h1_size, h2_size], stddev=0.1), name=\"g_w2\", dtype=tf.float32)  \n",
    "    b2 = tf.Variable(tf.zeros([h2_size]), name=\"g_b2\", dtype=tf.float32)  \n",
    "    h2 = tf.nn.relu(tf.matmul(h1, w2) + b2)  \n",
    "    w3 = tf.Variable(tf.truncated_normal([h2_size, img_size], stddev=0.1), name=\"g_w3\", dtype=tf.float32)  \n",
    "    b3 = tf.Variable(tf.zeros([img_size]), name=\"g_b3\", dtype=tf.float32)  \n",
    "    h3 = tf.matmul(h2, w3) + b3  \n",
    "    x_generate = tf.nn.tanh(h3)  \n",
    "    g_params = [w1, b1, w2, b2, w3, b3]  \n",
    "    return x_generate, g_params  \n"
   ]
  },
  {
   "cell_type": "code",
   "execution_count": 9,
   "metadata": {
    "Collapsed": "false",
    "ExecuteTime": {
     "end_time": "2017-12-14T02:04:43.449336Z",
     "start_time": "2017-12-14T02:04:43.435817Z"
    }
   },
   "outputs": [],
   "source": [
    "def build_discriminator(x_data, x_generated, keep_prob):  \n",
    "    '''\n",
    "    x_in = tf.concat([x_data, x_generated], 0)  \n",
    "    w1 = tf.Variable(tf.truncated_normal([img_size, h2_size], stddev=0.1), name=\"d_w1\", dtype=tf.float32)  \n",
    "    b1 = tf.Variable(tf.zeros([h2_size]), name=\"d_b1\", dtype=tf.float32)  \n",
    "    h1 = tf.nn.dropout(tf.nn.relu(tf.matmul(x_in, w1) + b1), keep_prob)  \n",
    "    w2 = tf.Variable(tf.truncated_normal([h2_size, h1_size], stddev=0.1), name=\"d_w2\", dtype=tf.float32)  \n",
    "    b2 = tf.Variable(tf.zeros([h1_size]), name=\"d_b2\", dtype=tf.float32)  \n",
    "    h2 = tf.nn.dropout(tf.nn.relu(tf.matmul(h1, w2) + b2), keep_prob)  \n",
    "    w3 = tf.Variable(tf.truncated_normal([h1_size, 1], stddev=0.1), name=\"d_w3\", dtype=tf.float32)  \n",
    "    b3 = tf.Variable(tf.zeros([1]), name=\"d_b3\", dtype=tf.float32)  \n",
    "    h3 = tf.matmul(h2, w3) + b3  \n",
    "    y_data = tf.nn.sigmoid(tf.slice(h3, [0, 0], [batch_size, -1], name=None))  \n",
    "    y_generated = tf.nn.sigmoid(tf.slice(h3, [batch_size, 0], [-1, -1], name=None))  \n",
    "    d_params = [w1, b1, w2, b2, w3, b3]  \n",
    "    '''\n",
    "    x_in = tf.concat([x_data], 0)  \n",
    "    w1 = tf.Variable(tf.truncated_normal([img_size, h2_size], stddev=0.1), name=\"d_w1\", dtype=tf.float32)  \n",
    "    b1 = tf.Variable(tf.zeros([h2_size]), name=\"d_b1\", dtype=tf.float32)  \n",
    "    h1 = tf.nn.dropout(tf.nn.relu(tf.matmul(x_in, w1) + b1), keep_prob)\n",
    "    \n",
    "    w2 = tf.Variable(tf.truncated_normal([h2_size, h1_size], stddev=0.1), name=\"d_w2\", dtype=tf.float32)  \n",
    "    b2 = tf.Variable(tf.zeros([h1_size]), name=\"d_b2\", dtype=tf.float32)  \n",
    "    h2 = tf.nn.dropout(tf.nn.relu(tf.matmul(h1, w2) + b2), keep_prob)  \n",
    "    \n",
    "    w3 = tf.Variable(tf.truncated_normal([h1_size, 1], stddev=0.1), name=\"d_w3\", dtype=tf.float32)  \n",
    "    b3 = tf.Variable(tf.zeros([1]), name=\"d_b3\", dtype=tf.float32)  \n",
    "    h3 = tf.matmul(h2, w3) + b3  \n",
    "    y_data = tf.nn.sigmoid(h3)\n",
    "    \n",
    "    x_in = tf.concat([x_generated], 0)  \n",
    "    h1 = tf.nn.dropout(tf.nn.relu(tf.matmul(x_in, w1) + b1), keep_prob)\n",
    "    h2 = tf.nn.dropout(tf.nn.relu(tf.matmul(h1, w2) + b2), keep_prob)  \n",
    "    h3 = tf.matmul(h2, w3) + b3  \n",
    "    y_generated = tf.nn.sigmoid(h3)\n",
    "    d_params = [w1, b1, w2, b2, w3, b3]  \n",
    "    \n",
    "    return y_data, y_generated, d_params  "
   ]
  },
  {
   "cell_type": "code",
   "execution_count": 10,
   "metadata": {
    "Collapsed": "false",
    "ExecuteTime": {
     "end_time": "2017-12-14T02:04:43.601134Z",
     "start_time": "2017-12-14T02:04:43.572968Z"
    }
   },
   "outputs": [],
   "source": [
    "def train():  \n",
    "    mnist = input_data.read_data_sets('MNIST_data', one_hot=True)  \n",
    "  \n",
    "    x_data = tf.placeholder(tf.float32, [batch_size, img_size], name=\"x_data\")  \n",
    "    z_prior = tf.placeholder(tf.float32, [batch_size, z_size], name=\"z_prior\")  \n",
    "    keep_prob = tf.placeholder(tf.float32, name=\"keep_prob\")  \n",
    "    global_step = tf.Variable(0, name=\"global_step\", trainable=False)  \n",
    "  \n",
    "    x_generated, g_params = build_generator(z_prior)  \n",
    "    y_data, y_generated, d_params = build_discriminator(x_data, x_generated, keep_prob)  \n",
    "  \n",
    "    d_loss = - (tf.log(y_data) + tf.log(1 - y_generated))  \n",
    "    g_loss = - tf.log(y_generated)  \n",
    "  \n",
    "    optimizer = tf.train.AdamOptimizer(0.0001)  \n",
    "  \n",
    "    d_trainer = optimizer.minimize(d_loss, var_list=d_params)  \n",
    "    g_trainer = optimizer.minimize(g_loss, var_list=g_params)  \n",
    "  \n",
    "    init = tf.global_variables_initializer()  \n",
    "  \n",
    "    saver = tf.train.Saver()  \n",
    "  \n",
    "    sess = tf.Session()  \n",
    "  \n",
    "    sess.run(init)  \n",
    "  \n",
    "    if to_restore:  \n",
    "        chkpt_fname = tf.train.latest_checkpoint(output_path)  \n",
    "        saver.restore(sess, chkpt_fname)  \n",
    "    else:  \n",
    "        if os.path.exists(output_path):  \n",
    "            shutil.rmtree(output_path)  \n",
    "        os.mkdir(output_path)  \n",
    "  \n",
    "    \n",
    "  \n",
    "    for i in range(sess.run(global_step), max_epoch):  \n",
    "        for j in range(60000 / batch_size):  \n",
    "            x_value, _ = mnist.train.next_batch(batch_size)  \n",
    "            x_value = 2 * x_value.astype(np.float32) - 1  \n",
    "            z_value = np.random.normal(0, 1, size=(batch_size, z_size)).astype(np.float32)  \n",
    "            _,d_l=sess.run([d_trainer,d_loss],  \n",
    "                     feed_dict={x_data: x_value, z_prior: z_value, keep_prob: np.sum(0.7).astype(np.float32)})  \n",
    "            #if j % 1 == 0:  \n",
    "            _,g_l=sess.run([g_trainer,g_loss],  \n",
    "                         feed_dict={x_data: x_value, z_prior: z_value, keep_prob: np.sum(0.7).astype(np.float32)}) \n",
    "        #print np.mean(g_l)\n",
    "        if(i%10==0) :\n",
    "                print \"epoch:%s, d_loss:%f,g_loss:%f\" % (i, np.exp(-np.mean(d_l) ),np.exp(-np.mean(g_l) ) )  \n",
    "        if (i%50==0):\n",
    "            z_sample_val = np.random.normal(0, 1, size=(batch_size, z_size)).astype(np.float32)  \n",
    "            x_gen_val = sess.run(x_generated, feed_dict={z_prior: z_sample_val})  \n",
    "            show_result(x_gen_val, os.path.join(output_path, \"sample%s.jpg\" % i))  \n",
    "            z_random_sample_val = np.random.normal(0, 1, size=(batch_size, z_size)).astype(np.float32)  \n",
    "            x_gen_val = sess.run(x_generated, feed_dict={z_prior: z_random_sample_val})  \n",
    "            show_result(x_gen_val, os.path.join(output_path, \"random_sample%s.jpg\" % i))  \n",
    "            sess.run(tf.assign(global_step, i + 1))  \n",
    "            saver.save(sess, os.path.join(output_path, \"model\"), global_step=global_step)  "
   ]
  },
  {
   "cell_type": "code",
   "execution_count": 11,
   "metadata": {
    "Collapsed": "false",
    "ExecuteTime": {
     "end_time": "2017-12-14T02:04:43.688958Z",
     "start_time": "2017-12-14T02:04:43.682103Z"
    }
   },
   "outputs": [],
   "source": [
    "def show_result(batch_res, fname, grid_size=(8, 8), grid_pad=5):  \n",
    "    batch_res = 0.5 * batch_res.reshape((batch_res.shape[0], img_height, img_width)) + 0.5  \n",
    "    img_h, img_w = batch_res.shape[1], batch_res.shape[2]  \n",
    "    grid_h = img_h * grid_size[0] + grid_pad * (grid_size[0] - 1)  \n",
    "    grid_w = img_w * grid_size[1] + grid_pad * (grid_size[1] - 1)  \n",
    "    img_grid = np.zeros((grid_h, grid_w), dtype=np.uint8)  \n",
    "    for i, res in enumerate(batch_res):  \n",
    "        if i >= grid_size[0] * grid_size[1]:  \n",
    "            break  \n",
    "        img = (res) * 255  \n",
    "        img = img.astype(np.uint8)  \n",
    "        row = (i // grid_size[0]) * (img_h + grid_pad)  \n",
    "        col = (i % grid_size[1]) * (img_w + grid_pad)  \n",
    "        img_grid[row:row + img_h, col:col + img_w] = img  \n",
    "    imsave(fname, img_grid)"
   ]
  },
  {
   "cell_type": "code",
   "execution_count": 12,
   "metadata": {
    "Collapsed": "false",
    "ExecuteTime": {
     "end_time": "2017-12-14T02:06:49.870502Z",
     "start_time": "2017-12-14T02:04:43.826438Z"
    }
   },
   "outputs": [
    {
     "name": "stdout",
     "output_type": "stream",
     "text": [
      "Extracting MNIST_data/train-images-idx3-ubyte.gz\n",
      "Extracting MNIST_data/train-labels-idx1-ubyte.gz\n",
      "Extracting MNIST_data/t10k-images-idx3-ubyte.gz\n",
      "Extracting MNIST_data/t10k-labels-idx1-ubyte.gz\n",
      "epoch:0, d_loss:0.719278,g_loss:0.021036\n"
     ]
    },
    {
     "name": "stderr",
     "output_type": "stream",
     "text": [
      "/usr/local/lib/python2.7/dist-packages/ipykernel_launcher.py:2: DeprecationWarning: `imsave` is deprecated!\n",
      "`imsave` is deprecated in SciPy 1.0.0, and will be removed in 1.2.0.\n",
      "Use ``imageio.imwrite`` instead.\n",
      "  \n"
     ]
    },
    {
     "name": "stdout",
     "output_type": "stream",
     "text": [
      "epoch:10, d_loss:0.420146,g_loss:0.190930\n",
      "epoch:20, d_loss:0.445129,g_loss:0.161052\n",
      "epoch:30, d_loss:0.431915,g_loss:0.193332\n",
      "epoch:40, d_loss:0.384628,g_loss:0.224510\n",
      "epoch:50, d_loss:0.400457,g_loss:0.238182\n",
      "epoch:60, d_loss:0.379286,g_loss:0.244129\n",
      "epoch:70, d_loss:0.357692,g_loss:0.280975\n",
      "epoch:80, d_loss:0.390259,g_loss:0.285966\n",
      "epoch:90, d_loss:0.332397,g_loss:0.336857\n",
      "epoch:100, d_loss:0.353643,g_loss:0.312347\n",
      "epoch:110, d_loss:0.335874,g_loss:0.330256\n",
      "epoch:120, d_loss:0.304187,g_loss:0.418658\n",
      "epoch:130, d_loss:0.283434,g_loss:0.388016\n",
      "epoch:140, d_loss:0.287487,g_loss:0.396833\n",
      "epoch:150, d_loss:0.288501,g_loss:0.401221\n",
      "epoch:160, d_loss:0.302126,g_loss:0.400092\n",
      "epoch:170, d_loss:0.298849,g_loss:0.394840\n",
      "epoch:180, d_loss:0.280181,g_loss:0.382989\n",
      "epoch:190, d_loss:0.310259,g_loss:0.392342\n",
      "epoch:200, d_loss:0.308731,g_loss:0.395937\n"
     ]
    }
   ],
   "source": [
    "max_epoch = 210\n",
    "train()"
   ]
  },
  {
   "cell_type": "code",
   "execution_count": 13,
   "metadata": {
    "Collapsed": "false",
    "ExecuteTime": {
     "end_time": "2017-12-14T02:06:49.906345Z",
     "start_time": "2017-12-14T02:06:49.900665Z"
    },
    "scrolled": true
   },
   "outputs": [
    {
     "data": {
      "text/plain": [
       "\"\\nmax_epoch = 50\\nimport cProfile\\ncProfile.run('train()', 'log_file.pyprof')\\nos.system('gprof2dot -f pstats log_file.pyprof | dot -Tpng -o output.png')\\nos.system('jupyter nbconvert GAN_Tutor.ipynb --to python')\\n\""
      ]
     },
     "execution_count": 13,
     "metadata": {},
     "output_type": "execute_result"
    }
   ],
   "source": [
    "'''\n",
    "max_epoch = 50\n",
    "import cProfile\n",
    "cProfile.run('train()', 'log_file.pyprof')\n",
    "os.system('gprof2dot -f pstats log_file.pyprof | dot -Tpng -o output.png')\n",
    "os.system('jupyter nbconvert GAN_Tutor.ipynb --to python')\n",
    "'''"
   ]
  },
  {
   "cell_type": "code",
   "execution_count": 10,
   "metadata": {
    "Collapsed": "false",
    "ExecuteTime": {
     "end_time": "2017-12-14T01:27:28.789251Z",
     "start_time": "2017-12-14T01:27:28.471364Z"
    }
   },
   "outputs": [
    {
     "name": "stdout",
     "output_type": "stream",
     "text": [
      "0.867501\n",
      "1.34323\n",
      "Extracting MNIST_data/train-images-idx3-ubyte.gz\n",
      "Extracting MNIST_data/train-labels-idx1-ubyte.gz\n",
      "Extracting MNIST_data/t10k-images-idx3-ubyte.gz\n",
      "Extracting MNIST_data/t10k-labels-idx1-ubyte.gz\n"
     ]
    },
    {
     "data": {
      "text/plain": [
       "(256, 784)"
      ]
     },
     "execution_count": 10,
     "metadata": {},
     "output_type": "execute_result"
    }
   ],
   "source": [
    "sess = tf.Session()  \n",
    "print(sess.run(-tf.log(tf.to_float(0.42))))\n",
    "print(sess.run(-tf.log(0.45)-tf.log(1-0.42)))\n",
    "mnist = input_data.read_data_sets('MNIST_data', one_hot=True)  \n",
    "x_value, _ = mnist.train.next_batch(batch_size)  \n",
    "x_value.shape"
   ]
  },
  {
   "cell_type": "code",
   "execution_count": null,
   "metadata": {
    "Collapsed": "false"
   },
   "outputs": [],
   "source": []
  },
  {
   "cell_type": "code",
   "execution_count": null,
   "metadata": {
    "Collapsed": "false"
   },
   "outputs": [],
   "source": []
  }
 ],
 "metadata": {
  "kernelspec": {
   "display_name": "Python 2",
   "language": "python",
   "name": "python2"
  },
  "language_info": {
   "codemirror_mode": {
    "name": "ipython",
    "version": 2
   },
   "file_extension": ".py",
   "mimetype": "text/x-python",
   "name": "python",
   "nbconvert_exporter": "python",
   "pygments_lexer": "ipython2",
   "version": "2.7.17"
  },
  "toc": {
   "nav_menu": {},
   "number_sections": true,
   "sideBar": true,
   "skip_h1_title": false,
   "title_cell": "Table of Contents",
   "title_sidebar": "Contents",
   "toc_cell": false,
   "toc_position": {},
   "toc_section_display": true,
   "toc_window_display": false
  },
  "varInspector": {
   "cols": {
    "lenName": 16,
    "lenType": 16,
    "lenVar": 40
   },
   "kernels_config": {
    "python": {
     "delete_cmd_postfix": "",
     "delete_cmd_prefix": "del ",
     "library": "var_list.py",
     "varRefreshCmd": "print(var_dic_list())"
    },
    "r": {
     "delete_cmd_postfix": ") ",
     "delete_cmd_prefix": "rm(",
     "library": "var_list.r",
     "varRefreshCmd": "cat(var_dic_list()) "
    }
   },
   "types_to_exclude": [
    "module",
    "function",
    "builtin_function_or_method",
    "instance",
    "_Feature"
   ],
   "window_display": false
  }
 },
 "nbformat": 4,
 "nbformat_minor": 4
}
