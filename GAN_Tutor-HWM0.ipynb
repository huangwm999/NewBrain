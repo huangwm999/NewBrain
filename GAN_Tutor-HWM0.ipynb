{
 "cells": [
  {
   "cell_type": "code",
   "execution_count": 1,
   "metadata": {
    "ExecuteTime": {
     "end_time": "2017-12-13T14:10:23.580282Z",
     "start_time": "2017-12-13T14:10:22.990700Z"
    }
   },
   "outputs": [],
   "source": [
    "import tensorflow as tf\n",
    "import numpy as np\n",
    "import input_data\n",
    "import os\n",
    "import shutil\n",
    "import scipy.misc\n",
    "import matplotlib.pyplot as plt\n",
    "%matplotlib inline"
   ]
  },
  {
   "cell_type": "code",
   "execution_count": 2,
   "metadata": {
    "ExecuteTime": {
     "end_time": "2017-12-13T14:10:23.592988Z",
     "start_time": "2017-12-13T14:10:23.591488Z"
    }
   },
   "outputs": [],
   "source": [
    "def imsave(path,images):\n",
    "    return scipy.misc.imsave(path, images)"
   ]
  },
  {
   "cell_type": "code",
   "execution_count": 3,
   "metadata": {
    "ExecuteTime": {
     "end_time": "2017-12-13T14:10:24.438148Z",
     "start_time": "2017-12-13T14:10:24.420761Z"
    }
   },
   "outputs": [],
   "source": [
    "img_height = 28  \n",
    "img_width = 28  \n",
    "img_size = img_height * img_width  \n",
    "  \n",
    "to_train = True  \n",
    "to_restore = False  \n",
    "output_path = \"output\"  \n",
    "  \n",
    "max_epoch = 50 \n",
    "\n",
    "h1_size = 150  \n",
    "h2_size = 300  \n",
    "z_size = 102  \n",
    "batch_size = 256  "
   ]
  },
  {
   "cell_type": "code",
   "execution_count": 4,
   "metadata": {
    "ExecuteTime": {
     "end_time": "2017-12-13T14:10:24.663143Z",
     "start_time": "2017-12-13T14:10:24.630418Z"
    }
   },
   "outputs": [],
   "source": [
    "def build_generator(z_prior):  \n",
    "    w1 = tf.Variable(tf.truncated_normal([z_size, h1_size], stddev=0.1), name=\"g_w1\", dtype=tf.float32)  \n",
    "    b1 = tf.Variable(tf.zeros([h1_size]), name=\"g_b1\", dtype=tf.float32)  \n",
    "    h1 = tf.nn.relu(tf.matmul(z_prior, w1) + b1)  \n",
    "    w2 = tf.Variable(tf.truncated_normal([h1_size, h2_size], stddev=0.1), name=\"g_w2\", dtype=tf.float32)  \n",
    "    b2 = tf.Variable(tf.zeros([h2_size]), name=\"g_b2\", dtype=tf.float32)  \n",
    "    h2 = tf.nn.relu(tf.matmul(h1, w2) + b2)  \n",
    "    w3 = tf.Variable(tf.truncated_normal([h2_size, img_size], stddev=0.1), name=\"g_w3\", dtype=tf.float32)  \n",
    "    b3 = tf.Variable(tf.zeros([img_size]), name=\"g_b3\", dtype=tf.float32)  \n",
    "    h3 = tf.matmul(h2, w3) + b3  \n",
    "    x_generate = tf.nn.tanh(h3)  \n",
    "    g_params = [w1, b1, w2, b2, w3, b3]  \n",
    "    return x_generate, g_params  \n"
   ]
  },
  {
   "cell_type": "code",
   "execution_count": 5,
   "metadata": {
    "ExecuteTime": {
     "end_time": "2017-12-13T14:10:25.191156Z",
     "start_time": "2017-12-13T14:10:25.169068Z"
    }
   },
   "outputs": [],
   "source": [
    "def build_discriminator(x_data, x_generated, keep_prob):  \n",
    "    x_in = tf.concat([x_data, x_generated], 0)  \n",
    "    w1 = tf.Variable(tf.truncated_normal([img_size, h2_size], stddev=0.1), name=\"d_w1\", dtype=tf.float32)  \n",
    "    b1 = tf.Variable(tf.zeros([h2_size]), name=\"d_b1\", dtype=tf.float32)  \n",
    "    h1 = tf.nn.dropout(tf.nn.relu(tf.matmul(x_in, w1) + b1), keep_prob)\n",
    "    \n",
    "    w2 = tf.Variable(tf.truncated_normal([h2_size, h1_size], stddev=0.1), name=\"d_w2\", dtype=tf.float32)  \n",
    "    b2 = tf.Variable(tf.zeros([h1_size]), name=\"d_b2\", dtype=tf.float32)  \n",
    "    h2 = tf.nn.dropout(tf.nn.relu(tf.matmul(h1, w2) + b2), keep_prob)  \n",
    "    \n",
    "    w3 = tf.Variable(tf.truncated_normal([h1_size, 1], stddev=0.1), name=\"d_w3\", dtype=tf.float32)  \n",
    "    b3 = tf.Variable(tf.zeros([1]), name=\"d_b3\", dtype=tf.float32)  \n",
    "    h3 = tf.matmul(h2, w3) + b3  \n",
    "    \n",
    "    y_data = tf.nn.sigmoid(tf.slice(h3, [0, 0], [batch_size, -1], name=None))  \n",
    "    y_generated = tf.nn.sigmoid(tf.slice(h3, [batch_size, 0], [-1, -1], name=None))  \n",
    "    d_params = [w1, b1, w2, b2, w3, b3]  \n",
    "    \n",
    "    \n",
    "    wc = tf.Variable(tf.truncated_normal([h1_size, 128], stddev=0.1), name=\"d_wc\", dtype=tf.float32)  \n",
    "    bc = tf.Variable(tf.zeros([128]), name=\"d_bc\", dtype=tf.float32)  \n",
    "    hc = tf.nn.sigmoid(tf.matmul(h2, wc) + bc)\n",
    "    \n",
    "    wc2 = tf.Variable(tf.truncated_normal([128, 2], stddev=0.1), name=\"d_wc2\", dtype=tf.float32)  \n",
    "    bc2 = tf.Variable(tf.zeros([2]), name=\"d_bc2\", dtype=tf.float32)  \n",
    "    hc2 = tf.nn.tanh(tf.matmul(hc, wc2) + bc2)\n",
    "    hc2_y=tf.slice(hc2,[batch_size, 0], [-1, -1], name=None)\n",
    "    \n",
    "    wc3 = tf.Variable(tf.truncated_normal([128, 10], stddev=0.1), name=\"d_wc2\", dtype=tf.float32)  \n",
    "    bc3 = tf.Variable(tf.zeros([10]), name=\"d_bc2\", dtype=tf.float32)  \n",
    "    hc3 = tf.nn.softmax(tf.matmul(hc, wc3) + bc3)\n",
    "    hc3_y=tf.slice(hc3,[batch_size, 0], [-1, -1], name=None)\n",
    "    \n",
    "    return y_data, y_generated, d_params ,hc2_y,hc3_y,[wc,bc,wc2,bc2,wc3,bc3]"
   ]
  },
  {
   "cell_type": "code",
   "execution_count": 6,
   "metadata": {
    "ExecuteTime": {
     "end_time": "2017-12-13T14:10:26.095200Z",
     "start_time": "2017-12-13T14:10:26.020334Z"
    }
   },
   "outputs": [],
   "source": [
    "def train():  \n",
    "    mnist = input_data.read_data_sets('MNIST_data', one_hot=True)  \n",
    "  \n",
    "    x_data = tf.placeholder(tf.float32, [batch_size, img_size], name=\"x_data\")  \n",
    "    z_prior = tf.placeholder(tf.float32, [batch_size, z_size-12], name=\"z_prior\")  \n",
    "    z_prior_i = tf.placeholder(tf.int32, [batch_size, 1], name=\"z_prior_i\")\n",
    "    z_prior_c = tf.placeholder(tf.float32, [batch_size, 2], name=\"z_prior_c\") \n",
    "    oh_list = []\n",
    "    oh_list.append(z_prior)\n",
    "    \n",
    "    one_hot=tf.squeeze(tf.one_hot(z_prior_i,10))\n",
    "    \n",
    "    oh_list.append(one_hot)  #映射到10个节点\n",
    "    oh_list.append(z_prior_c)\n",
    "    z_prior_n = tf.concat(oh_list,1)\n",
    "    \n",
    "    keep_prob = tf.placeholder(tf.float32, name=\"keep_prob\")  \n",
    "    global_step = tf.Variable(0, name=\"global_step\", trainable=False)  \n",
    "  \n",
    "    x_generated, g_params = build_generator(z_prior_n)  \n",
    "    y_data, y_generated, d_params,hc2,hc3,q_p = build_discriminator(x_data, x_generated, keep_prob)  \n",
    "  \n",
    "    d_loss = - (tf.log(y_data) + tf.log(1 - y_generated))  \n",
    "    g_loss = - tf.log(y_generated)  \n",
    "    q_loss = tf.reduce_mean( -tf.reduce_sum(one_hot*tf.log(hc3),reduction_indices=1)+ tf.reduce_sum(0.5 * tf.square(hc2 - z_prior_c),reduction_indices=1))\n",
    "    #q_loss = tf.reduce_mean(-tf.reduce_sum(one_hot*tf.log(hc3),reduction_indices=1))\n",
    "    \n",
    "    optimizer_d = tf.train.AdamOptimizer(0.0001)\n",
    "    optimizer_g = tf.train.AdamOptimizer(0.0005)\n",
    "    optimizer_q = tf.train.AdamOptimizer(0.0001)\n",
    "    d_trainer = optimizer_d.minimize(d_loss, var_list=d_params)\n",
    "    g_trainer = optimizer_g.minimize(g_loss, var_list=g_params)  \n",
    "    q_trainer = optimizer_q.minimize(q_loss, var_list=[d_params,g_params,q_p])  \n",
    "    \n",
    "    #trainerD = tf.train.AdamOptimizer(learning_rate=0.0002,beta1=0.5)\n",
    "    #trainerG = tf.train.AdamOptimizer(learning_rate=0.002,beta1=0.5)\n",
    "    #trainerQ = tf.train.AdamOptimizer(learning_rate=0.0002,beta1=0.5)\n",
    "    #d_grads = trainerD.compute_gradients(d_loss,var_list=d_params) #Only update the weights for the discriminator network.\n",
    "    #g_grads = trainerG.compute_gradients(g_loss,var_list=g_params) #Only update the weights for the generator network.\n",
    "    #q_grads = trainerG.compute_gradients(q_loss,var_list=[d_params,g_params,q_p]) \n",
    "    #d_trainer = trainerD.apply_gradients(d_grads)\n",
    "    #g_trainer = trainerG.apply_gradients(g_grads)\n",
    "    #q_trainer = trainerQ.apply_gradients(q_grads)\n",
    "    \n",
    "    \n",
    "  \n",
    "    init = tf.global_variables_initializer()  \n",
    "  \n",
    "    saver = tf.train.Saver()  \n",
    "  \n",
    "    sess = tf.Session()  \n",
    "  \n",
    "    sess.run(init)  \n",
    "  \n",
    "    if to_restore:  \n",
    "        chkpt_fname = tf.train.latest_checkpoint(output_path)  \n",
    "        saver.restore(sess, chkpt_fname)  \n",
    "    else:  \n",
    "        if os.path.exists(output_path):  \n",
    "            shutil.rmtree(output_path)  \n",
    "        os.mkdir(output_path)  \n",
    "  \n",
    "    \n",
    "  \n",
    "    for i in range(sess.run(global_step), max_epoch):  \n",
    "        for j in range(60000 / batch_size):  \n",
    "            x_value, _ = mnist.train.next_batch(batch_size)  \n",
    "            x_value = 2 * x_value.astype(np.float32) - 1  \n",
    "            z_value = np.random.normal(0, 1, size=(batch_size, z_size-12)).astype(np.float32) \n",
    "            lcat = np.random.randint(0,10,[batch_size,1]) \n",
    "            lcont = np.random.uniform(-1,1,[batch_size,2]) #\n",
    "            #z_value_i=np.column_stack((z_value,lcont))\n",
    "            \n",
    "            _,d_l=sess.run([d_trainer,d_loss],  \n",
    "                     feed_dict={x_data: x_value, z_prior: z_value,z_prior_i:lcat,z_prior_c:lcont, keep_prob: np.sum(0.7).astype(np.float32)})  \n",
    "            #if j % 1 == 0:  \n",
    "            _,g_l=sess.run([g_trainer,g_loss],  \n",
    "                         feed_dict={x_data: x_value, z_prior: z_value,z_prior_i:lcat,z_prior_c:lcont, keep_prob: np.sum(0.7).astype(np.float32)}) \n",
    "            #for t in range(2):\n",
    "            _,q_l,one_hot_v,hc3_v,z_prior_c_v,hc2_v=sess.run([q_trainer,q_loss,one_hot,hc3,z_prior_c,hc2],  \n",
    "                         feed_dict={x_data: x_value, z_prior: z_value,z_prior_i:lcat,z_prior_c:lcont, keep_prob: np.sum(0.7).astype(np.float32)})\n",
    "        #print np.mean(g_l)\n",
    "        if(i%10==0) :\n",
    "                print \"epoch:%s, d_loss:%f,g_loss:%f,q_loss:%f\" % (i, np.mean(d_l),np.mean(g_l),np.mean(q_l))  \n",
    "        if (i%50==0):\n",
    "            z_sample_val = np.random.normal(0, 1, size=(batch_size, z_size-12)).astype(np.float32)  \n",
    "            lcat_1=np.reshape(np.array([e for e in range(8) for _ in range(8)]),[64,1])\n",
    "            lcat_1=np.row_stack((lcat_1,np.zeros([batch_size-64,1])))\n",
    "            lcont_1=np.reshape(np.array([[(e/3.5 - 1.)*1] for e in range(8) for _ in range(8)]),[64,1])\n",
    "            lcont_1=np.row_stack((lcont_1,np.zeros([batch_size-64,1])))\n",
    "            lcont_2=np.zeros_like(lcont_1);\n",
    "            z_sample_val_i = np.hstack([lcont_1,lcont_2])\n",
    "            \n",
    "            x_gen_val = sess.run(x_generated, feed_dict={z_prior: z_sample_val,z_prior_i:lcat_1,z_prior_c:z_sample_val_i})  \n",
    "            show_result(x_gen_val, os.path.join(output_path, \"sample%s.jpg\" % i))  \n",
    "            #z_random_sample_val = np.random.normal(0, 1, size=(batch_size, z_size)).astype(np.float32)  \n",
    "            #x_gen_val = sess.run(x_generated, feed_dict={z_prior: z_random_sample_val})  \n",
    "            #show_result(x_gen_val, os.path.join(output_path, \"random_sample%s.jpg\" % i))  \n",
    "            sess.run(tf.assign(global_step, i + 1))  \n",
    "            saver.save(sess, os.path.join(output_path, \"model\"), global_step=global_step)  \n",
    "    return one_hot_v,hc3_v,z_prior_c_v,hc2_v"
   ]
  },
  {
   "cell_type": "code",
   "execution_count": 7,
   "metadata": {
    "ExecuteTime": {
     "end_time": "2017-12-13T14:10:27.048245Z",
     "start_time": "2017-12-13T14:10:27.038072Z"
    }
   },
   "outputs": [],
   "source": [
    "def show_result(batch_res, fname, grid_size=(8, 8), grid_pad=5):  \n",
    "    batch_res = 0.5 * batch_res.reshape((batch_res.shape[0], img_height, img_width)) + 0.5  \n",
    "    img_h, img_w = batch_res.shape[1], batch_res.shape[2]  \n",
    "    grid_h = img_h * grid_size[0] + grid_pad * (grid_size[0] - 1)  \n",
    "    grid_w = img_w * grid_size[1] + grid_pad * (grid_size[1] - 1)  \n",
    "    img_grid = np.zeros((grid_h, grid_w), dtype=np.uint8)  \n",
    "    for i, res in enumerate(batch_res):  \n",
    "        if i >= grid_size[0] * grid_size[1]:  \n",
    "            break  \n",
    "        img = (res) * 255  \n",
    "        img = img.astype(np.uint8)  \n",
    "        row = (i // grid_size[0]) * (img_h + grid_pad)  \n",
    "        col = (i % grid_size[1]) * (img_w + grid_pad)  \n",
    "        img_grid[row:row + img_h, col:col + img_w] = img  \n",
    "    imsave(fname, img_grid)"
   ]
  },
  {
   "cell_type": "code",
   "execution_count": null,
   "metadata": {
    "ExecuteTime": {
     "start_time": "2017-12-13T14:12:31.254Z"
    }
   },
   "outputs": [
    {
     "name": "stdout",
     "output_type": "stream",
     "text": [
      "Extracting MNIST_data/train-images-idx3-ubyte.gz\n",
      "Extracting MNIST_data/train-labels-idx1-ubyte.gz\n",
      "Extracting MNIST_data/t10k-images-idx3-ubyte.gz\n",
      "Extracting MNIST_data/t10k-labels-idx1-ubyte.gz\n"
     ]
    }
   ],
   "source": [
    "max_epoch = 500\n",
    "one_hot_v,hc3_v,z_prior_c_v,hc2_v=train()"
   ]
  },
  {
   "cell_type": "code",
   "execution_count": 11,
   "metadata": {
    "scrolled": true
   },
   "outputs": [
    {
     "name": "stdout",
     "output_type": "stream",
     "text": [
      "[ 0.3839829  -0.83459145]\n",
      "[-0.02519144  0.00999973]\n"
     ]
    },
    {
     "data": {
      "image/png": "[encoded data removed]",
      "text/plain": [
       "<matplotlib.figure.Figure at 0x7f0933b93310>"
      ]
     },
     "metadata": {},
     "output_type": "display_data"
    }
   ],
   "source": [
    "one_hot_v[1,:].shape\n",
    "plt.subplot(1,4,1)\n",
    "plt.plot(one_hot_v[2,:])\n",
    "plt.subplot(1,4,2)\n",
    "plt.plot(hc3_v[2,:])\n",
    "plt.subplot(1,4,3)\n",
    "print(z_prior_c_v[2,:])\n",
    "plt.subplot(1,4,4)\n",
    "print(hc2_v[2,:])"
   ]
  },
  {
   "cell_type": "code",
   "execution_count": null,
   "metadata": {},
   "outputs": [],
   "source": []
  },
  {
   "cell_type": "code",
   "execution_count": null,
   "metadata": {},
   "outputs": [],
   "source": []
  },
  {
   "cell_type": "code",
   "execution_count": null,
   "metadata": {},
   "outputs": [],
   "source": []
  },
  {
   "cell_type": "code",
   "execution_count": null,
   "metadata": {},
   "outputs": [],
   "source": []
  },
  {
   "cell_type": "code",
   "execution_count": 28,
   "metadata": {
    "scrolled": true
   },
   "outputs": [
    {
     "name": "stdout",
     "output_type": "stream",
     "text": [
      "Extracting MNIST_data/train-images-idx3-ubyte.gz\n",
      "Extracting MNIST_data/train-labels-idx1-ubyte.gz\n",
      "Extracting MNIST_data/t10k-images-idx3-ubyte.gz\n",
      "Extracting MNIST_data/t10k-labels-idx1-ubyte.gz\n",
      "WARNING:tensorflow:From <ipython-input-25-cd5242cb18bd>:20: initialize_all_variables (from tensorflow.python.ops.variables) is deprecated and will be removed after 2017-03-02.\n",
      "Instructions for updating:\n",
      "Use `tf.global_variables_initializer` instead.\n",
      "epoch:0, d_loss:0.283209,g_loss:3.754898\n",
      "epoch:10, d_loss:0.606401,g_loss:2.242795\n",
      "epoch:20, d_loss:0.795846,g_loss:1.983448\n",
      "epoch:30, d_loss:0.760122,g_loss:1.811489\n",
      "epoch:40, d_loss:0.999529,g_loss:1.440125\n"
     ]
    },
    {
     "data": {
      "text/plain": [
       "0"
      ]
     },
     "execution_count": 28,
     "metadata": {},
     "output_type": "execute_result"
    }
   ],
   "source": [
    "max_epoch = 50\n",
    "import cProfile\n",
    "cProfile.run('train()', 'log_file.pyprof')\n",
    "os.system('gprof2dot -f pstats log_file.pyprof | dot -Tpng -o output.png')\n",
    "os.system('jupyter nbconvert GAN_Tutor.ipynb --to python')"
   ]
  },
  {
   "cell_type": "code",
   "execution_count": null,
   "metadata": {},
   "outputs": [],
   "source": [
    "sess = tf.Session()  \n",
    "print(sess.run(-tf.log(tf.to_float(0.42))))\n",
    "print(sess.run(-tf.log(0.45)-tf.log(1-0.42)))\n",
    "mnist = input_data.read_data_sets('MNIST_data', one_hot=True)  \n",
    "x_value, _ = mnist.train.next_batch(batch_size)  \n",
    "x_value.shape"
   ]
  },
  {
   "cell_type": "code",
   "execution_count": 40,
   "metadata": {},
   "outputs": [
    {
     "data": {
      "text/plain": [
       "array([[-1.        , -0.33333333,  0.33333333,  1.        ],\n",
       "       [-1.        , -0.33333333,  0.33333333,  1.        ],\n",
       "       [-1.        , -0.33333333,  0.33333333,  1.        ],\n",
       "       [-1.        , -0.33333333,  0.33333333,  1.        ]])"
      ]
     },
     "execution_count": 40,
     "metadata": {},
     "output_type": "execute_result"
    }
   ],
   "source": [
    "z_value = np.random.normal(0, 1, size=(batch_size, z_size)).astype(np.float32)  \n",
    "#z_value_10 = np.random.normal(0, 1, size=(batch_size, 10)).astype(np.float32) \n",
    "#latent_cat_in = tf.placeholder(shape=[None,10],dtype=tf.int32)\n",
    "#lcat = np.random.randint(0,10,[batch_size,10]) #Generate random c batch\n",
    "lcont = np.random.uniform(-1,1,[batch_size,2]) #\n",
    "z_value_i=np.column_stack((z_value,lcont))\n",
    "np.reshape(np.array([[(e/1.5 - 1.)*1] for e in range(4) for _ in range(8)]),[8,8]).T"
   ]
  },
  {
   "cell_type": "code",
   "execution_count": 25,
   "metadata": {},
   "outputs": [
    {
     "name": "stdout",
     "output_type": "stream",
     "text": [
      "[[-1.         -1.         -1.         -1.         -1.         -1.         -1.\n",
      "  -1.         -0.71428571 -0.71428571 -0.71428571 -0.71428571 -0.71428571\n",
      "  -0.71428571 -0.71428571 -0.71428571 -0.42857143 -0.42857143 -0.42857143\n",
      "  -0.42857143 -0.42857143 -0.42857143 -0.42857143 -0.42857143 -0.14285714\n",
      "  -0.14285714 -0.14285714 -0.14285714 -0.14285714 -0.14285714 -0.14285714\n",
      "  -0.14285714  0.14285714  0.14285714  0.14285714  0.14285714  0.14285714\n",
      "   0.14285714  0.14285714  0.14285714  0.42857143  0.42857143  0.42857143\n",
      "   0.42857143  0.42857143  0.42857143  0.42857143  0.42857143  0.71428571\n",
      "   0.71428571  0.71428571  0.71428571  0.71428571  0.71428571  0.71428571\n",
      "   0.71428571  1.          1.          1.          1.          1.          1.\n",
      "   1.          1.        ]]\n"
     ]
    }
   ],
   "source": [
    "lcont_1=np.reshape(np.array([[(e/3.5 - 1.)*1] for e in range(8) for _ in range(8)]),[64,1]).T\n",
    "print(lcont_1)"
   ]
  },
  {
   "cell_type": "code",
   "execution_count": null,
   "metadata": {},
   "outputs": [],
   "source": []
  },
  {
   "cell_type": "code",
   "execution_count": null,
   "metadata": {},
   "outputs": [],
   "source": []
  }
 ],
 "metadata": {
  "kernelspec": {
   "display_name": "Python 2",
   "language": "python",
   "name": "python2"
  },
  "language_info": {
   "codemirror_mode": {
    "name": "ipython",
    "version": 2
   },
   "file_extension": ".py",
   "mimetype": "text/x-python",
   "name": "python",
   "nbconvert_exporter": "python",
   "pygments_lexer": "ipython2",
   "version": "2.7.12"
  },
  "toc": {
   "nav_menu": {},
   "number_sections": true,
   "sideBar": true,
   "skip_h1_title": false,
   "title_cell": "Table of Contents",
   "title_sidebar": "Contents",
   "toc_cell": false,
   "toc_position": {},
   "toc_section_display": true,
   "toc_window_display": false
  },
  "varInspector": {
   "cols": {
    "lenName": 16,
    "lenType": 16,
    "lenVar": 40
   },
   "kernels_config": {
    "python": {
     "delete_cmd_postfix": "",
     "delete_cmd_prefix": "del ",
     "library": "var_list.py",
     "varRefreshCmd": "print(var_dic_list())"
    },
    "r": {
     "delete_cmd_postfix": ") ",
     "delete_cmd_prefix": "rm(",
     "library": "var_list.r",
     "varRefreshCmd": "cat(var_dic_list()) "
    }
   },
   "types_to_exclude": [
    "module",
    "function",
    "builtin_function_or_method",
    "instance",
    "_Feature"
   ],
   "window_display": false
  }
 },
 "nbformat": 4,
 "nbformat_minor": 2
}
