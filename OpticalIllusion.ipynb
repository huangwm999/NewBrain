{
 "cells": [
  {
   "cell_type": "markdown",
   "metadata": {
    "Collapsed": "false",
    "ExecuteTime": {
     "end_time": "2017-12-11T01:57:09.950497Z",
     "start_time": "2017-12-11T01:57:09.365811Z"
    }
   },
   "source": [
    "### 视觉错觉分析案例"
   ]
  },
  {
   "cell_type": "code",
   "execution_count": 2,
   "metadata": {
    "Collapsed": "false",
    "ExecuteTime": {
     "end_time": "2017-12-12T02:37:48.101051Z",
     "start_time": "2017-12-12T02:37:48.095535Z"
    },
    "code_folding": []
   },
   "outputs": [
    {
     "name": "stderr",
     "output_type": "stream",
     "text": [
      "/usr/local/lib/python2.7/dist-packages/numba/errors.py:105: UserWarning: Insufficiently recent colorama version found. Numba requires colorama >= 0.3.9\n",
      "  warnings.warn(msg)\n"
     ]
    }
   ],
   "source": [
    "#\n",
    "import numpy as np\n",
    "import matplotlib.pyplot as plt\n",
    "import matplotlib.animation as animation\n",
    "%matplotlib notebook\n",
    "\n",
    "from numba import jit\n",
    "from numba import vectorize\n",
    "from numpy import arange\n",
    "import cv2"
   ]
  },
  {
   "cell_type": "code",
   "execution_count": 3,
   "metadata": {
    "Collapsed": "false",
    "ExecuteTime": {
     "end_time": "2017-12-12T02:07:14.425415Z",
     "start_time": "2017-12-12T02:07:14.371508Z"
    },
    "code_folding": []
   },
   "outputs": [
    {
     "data": {
      "image/png": "[encoded data removed]",
      "text/plain": [
       "<Figure size 432x288 with 1 Axes>"
      ]
     },
     "metadata": {
      "needs_background": "light"
     },
     "output_type": "display_data"
    }
   ],
   "source": [
    "#\n",
    "color0=(255,0,255);\n",
    "color1=(140,220,160);\n",
    "colorB=(200,200,200);\n",
    "height, width = 400, 400\n",
    "img = np.zeros((height, width, 3), np.uint8)\n",
    "img[:,:,0:3]=colorB[0:4];\n",
    "fig = plt.figure();\n",
    "\n",
    "@jit\n",
    "def f(i):\n",
    "    global img, row, col\n",
    "    img[:,:,0:3]=colorB[0:4];\n",
    "    \n",
    "    cv2.circle(img,(width/2-0,height/2-0,),16,color1, -1);\n",
    "    cv2.line(img,(width/2-5,height/2),(width/2+5,height/2),(0,0,0),1)\n",
    "    cv2.line(img,(width/2,height/2-5),(width/2,height/2+5),(0,0,0),1)\n",
    "    cv2.rectangle(img,(width/2-2,height/2-2),(width/2+2,height/2+2),(0,0,0),1)\n",
    "    \n",
    "    for x in xrange(12):\n",
    "        i_m=((i+x)%12)\n",
    "        pos=(np.int(width/2+120*np.cos(x/6.0*np.pi)),np.int(height/2-120*np.sin(x/6.0*np.pi)));\n",
    "        if(False and i_m==0):\n",
    "            color_r=tuple(np.dot(np.asarray([color0,color1]).transpose(),[0.2,0.8]))\n",
    "            cv2.circle(img,pos, 16, color_r, -1)\n",
    "        if(i_m>4):\n",
    "            cv2.circle(img,pos, 16, color0, -1)\n",
    "        #cv2.putText(img,str(i_m),(pos[0]-7,pos[1]+5),2,0.5,(0,0,0),2)\n",
    "    return img\n",
    "\n",
    "im = plt.imshow(img, animated=True)\n",
    "def updatefig(i):\n",
    "    im.set_array(f(i))\n",
    "    plt.title(''.join(['frame:',str(i)]))\n",
    "    return im,\n",
    "\n",
    "ani = animation.FuncAnimation(fig, updatefig, frames=20,interval=500, blit=True)\n",
    "ani.save('test_animation.gif',writer='imagemagick')"
   ]
  },
  {
   "cell_type": "markdown",
   "metadata": {
    "Collapsed": "false",
    "ExecuteTime": {
     "end_time": "2017-12-11T08:47:18.576708Z",
     "start_time": "2017-12-11T08:47:18.572773Z"
    }
   },
   "source": [
    "### 测试前景色,背景色如何影响反色"
   ]
  },
  {
   "cell_type": "code",
   "execution_count": 6,
   "metadata": {
    "Collapsed": "false",
    "ExecuteTime": {
     "end_time": "2017-12-12T01:01:08.779397Z",
     "start_time": "2017-12-12T01:01:08.770457Z"
    }
   },
   "outputs": [],
   "source": [
    "#color0=(255,0,255);color1=(140,220,160);colorB=(200,200,200);   #原始颜色\n",
    "\n",
    "#color0=(255,0,255);color1=(240,220,160);colorB=(250,200,200);   #提高背景R，转换颜色R上升\n",
    "\n",
    "#color0=(255,0,255);color1=(150,220,220);colorB=(200,200,250);   #提高背景B，转换颜色B上升\n",
    "\n",
    "#color0=(255,0,255);color1=(180,210,0);colorB=(200,200,50);      #降低背景B，转换颜色B下降\n",
    "\n",
    "#color0=(255,0,255);color1=(130,100,160);colorB=(200,50,200);    #降低背景G，转颜色B下降\n",
    "\n",
    "color0=(255,0,255);color1=(140,220,160);colorB=(100,100,100);    "
   ]
  },
  {
   "cell_type": "markdown",
   "metadata": {
    "Collapsed": "false",
    "ExecuteTime": {
     "end_time": "2017-12-11T07:45:41.514196Z",
     "start_time": "2017-12-11T07:45:41.505446Z"
    }
   },
   "source": [
    "### 测试人眼条件反射的情况"
   ]
  },
  {
   "cell_type": "code",
   "execution_count": 4,
   "metadata": {
    "Collapsed": "false",
    "ExecuteTime": {
     "end_time": "2017-12-12T02:32:52.058250Z",
     "start_time": "2017-12-12T02:32:51.972815Z"
    }
   },
   "outputs": [
    {
     "data": {
      "image/png": "[encoded data removed]",
      "text/plain": [
       "<Figure size 432x288 with 1 Axes>"
      ]
     },
     "metadata": {
      "needs_background": "light"
     },
     "output_type": "display_data"
    }
   ],
   "source": [
    "#\n",
    "color0=(255,0,255);\n",
    "color1=(140,220,160);\n",
    "colorB=(200,200,200);\n",
    "height, width = 400, 800\n",
    "img = np.zeros((height, width, 3), np.uint8)\n",
    "img[:,:,0:3]=colorB[0:4];\n",
    "fig = plt.figure();\n",
    "\n",
    "@jit\n",
    "def f(i):\n",
    "    global img, row, col\n",
    "    img[:,:,0:3]=colorB[0:4];\n",
    "    \n",
    "    cv2.line(img,(width/2-5,height/2),(width/2+5,height/2),(0,0,0),1)\n",
    "    cv2.line(img,(width/2,height/2-5),(width/2,height/2+5),(0,0,0),1)\n",
    "    \n",
    "    i_m=((i)%3)\n",
    "    \n",
    "    if(i_m>=1):\n",
    "        cv2.circle(img,(width/2-100,height/2-0,),20,color0, -1);\n",
    "        cv2.circle(img,(width/2+100,height/2-0,),50,color1, -1);\n",
    "    \n",
    "    return img\n",
    "\n",
    "im = plt.imshow(img, animated=True)\n",
    "def updatefig(i):\n",
    "    im.set_array(f(i))\n",
    "    #plt.title(''.join(['frame:',str(i)]))\n",
    "    return im,\n",
    "\n",
    "ani = animation.FuncAnimation(fig, updatefig, frames=1000,interval=500, blit=True)\n"
   ]
  },
  {
   "cell_type": "markdown",
   "metadata": {
    "Collapsed": "false",
    "ExecuteTime": {
     "end_time": "2017-12-12T02:35:01.110532Z",
     "start_time": "2017-12-12T02:35:01.108920Z"
    }
   },
   "source": [
    "### 艰难无比"
   ]
  },
  {
   "cell_type": "code",
   "execution_count": null,
   "metadata": {
    "Collapsed": "false"
   },
   "outputs": [],
   "source": []
  }
 ],
 "metadata": {
  "kernelspec": {
   "display_name": "Python 2",
   "language": "python",
   "name": "python2"
  },
  "language_info": {
   "codemirror_mode": {
    "name": "ipython",
    "version": 2
   },
   "file_extension": ".py",
   "mimetype": "text/x-python",
   "name": "python",
   "nbconvert_exporter": "python",
   "pygments_lexer": "ipython2",
   "version": "2.7.17"
  },
  "toc": {
   "nav_menu": {},
   "number_sections": true,
   "sideBar": true,
   "skip_h1_title": false,
   "title_cell": "Table of Contents",
   "title_sidebar": "Contents",
   "toc_cell": false,
   "toc_position": {
    "height": "calc(100% - 180px)",
    "left": "10px",
    "top": "150px",
    "width": "273px"
   },
   "toc_section_display": true,
   "toc_window_display": true
  },
  "varInspector": {
   "cols": {
    "lenName": 16,
    "lenType": 16,
    "lenVar": 40
   },
   "kernels_config": {
    "python": {
     "delete_cmd_postfix": "",
     "delete_cmd_prefix": "del ",
     "library": "var_list.py",
     "varRefreshCmd": "print(var_dic_list())"
    },
    "r": {
     "delete_cmd_postfix": ") ",
     "delete_cmd_prefix": "rm(",
     "library": "var_list.r",
     "varRefreshCmd": "cat(var_dic_list()) "
    }
   },
   "types_to_exclude": [
    "module",
    "function",
    "builtin_function_or_method",
    "instance",
    "_Feature"
   ],
   "window_display": false
  }
 },
 "nbformat": 4,
 "nbformat_minor": 4
}
