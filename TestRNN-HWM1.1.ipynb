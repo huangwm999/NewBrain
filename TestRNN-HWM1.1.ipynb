{
 "cells": [
  {
   "cell_type": "markdown",
   "metadata": {},
   "source": [
    "### 分析关键问题\n",
    "1. x_value = batch-0.5;#2 * batch.astype(np.float32) - 1\n",
    "1. 以上必须将数据范围归一化到-1~1 或-0.5~0.5"
   ]
  },
  {
   "cell_type": "code",
   "execution_count": 2,
   "metadata": {
    "ExecuteTime": {
     "end_time": "2017-12-14T04:35:40.072308Z",
     "start_time": "2017-12-14T04:35:40.067000Z"
    },
    "code_folding": []
   },
   "outputs": [],
   "source": [
    "#Import the libraries we will need.\n",
    "# -*- coding:utf-8 -*-\n",
    "import tensorflow as tf\n",
    "import numpy as np\n",
    "from tensorflow.contrib import rnn\n",
    "from tensorflow.examples.tutorials.mnist import input_data\n",
    "\n",
    "%matplotlib inline"
   ]
  },
  {
   "cell_type": "code",
   "execution_count": 3,
   "metadata": {
    "ExecuteTime": {
     "end_time": "2017-12-14T04:35:41.359429Z",
     "start_time": "2017-12-14T04:35:40.974639Z"
    },
    "code_folding": []
   },
   "outputs": [
    {
     "name": "stdout",
     "output_type": "stream",
     "text": [
      "Extracting MNIST_data/train-images-idx3-ubyte.gz\n",
      "Extracting MNIST_data/train-labels-idx1-ubyte.gz\n",
      "Extracting MNIST_data/t10k-images-idx3-ubyte.gz\n",
      "Extracting MNIST_data/t10k-labels-idx1-ubyte.gz\n",
      "(55000, 784)\n"
     ]
    }
   ],
   "source": [
    "# 设置 GPU 按需增长\n",
    "config = tf.ConfigProto()\n",
    "config.gpu_options.allow_growth = True\n",
    "sess = tf.Session(config=config)\n",
    "\n",
    "# 首先导入数据，看一下数据的形式\n",
    "mnist = input_data.read_data_sets('MNIST_data', one_hot=True)\n",
    "print mnist.train.images.shape"
   ]
  },
  {
   "cell_type": "markdown",
   "metadata": {},
   "source": [
    "### 首先设置好模型用到的各个超参数"
   ]
  },
  {
   "cell_type": "code",
   "execution_count": 4,
   "metadata": {
    "ExecuteTime": {
     "end_time": "2017-12-14T04:35:42.438333Z",
     "start_time": "2017-12-14T04:35:42.431921Z"
    },
    "code_folding": []
   },
   "outputs": [],
   "source": [
    "#\n",
    "lr = 1e-3\n",
    "# 在训练和测试的时候，我们想用不同的 batch_size.所以采用占位符的方式\n",
    "#batch_size = tf.placeholder(tf.int32)  # 注意类型必须为 tf.int32\n",
    "# 在 1.0 版本以后请使用 ：\n",
    "keep_prob = tf.placeholder(tf.float32, [])\n",
    "batch_size = tf.placeholder(tf.int32, [])\n",
    "\n",
    "# 每个时刻的输入特征是28维的，就是每个时刻输入一行，一行有 28 个像素\n",
    "input_size = 28\n",
    "# 时序持续长度为28，即每做一次预测，需要先输入28行\n",
    "timestep_size = 28\n",
    "# 每个隐含层的节点数\n",
    "hidden_size = 28*28\n",
    "# LSTM layer 的层数\n",
    "layer_num = 4\n",
    "# 最后输出分类类别数量，如果是回归预测的话应该是 1\n",
    "class_num = 10\n",
    "\n",
    "_X = tf.placeholder(tf.float32, [None, 784])\n",
    "y = tf.placeholder(tf.float32, [None, class_num])\n",
    "keep_prob = tf.placeholder(tf.float32)\n"
   ]
  },
  {
   "cell_type": "markdown",
   "metadata": {},
   "source": [
    "### 开始搭建 RNN 模型"
   ]
  },
  {
   "cell_type": "code",
   "execution_count": 5,
   "metadata": {
    "ExecuteTime": {
     "end_time": "2017-12-14T04:35:42.801475Z",
     "start_time": "2017-12-14T04:35:42.771412Z"
    },
    "code_folding": []
   },
   "outputs": [],
   "source": [
    "timestep_size=28/28\n",
    "input_size=28*28\n",
    "X = tf.reshape(_X, [-1, timestep_size, input_size])\n",
    "\n",
    "\n",
    "h1_size = 150  \n",
    "h2_size = 300  \n",
    "z_size = 100\n",
    "img_size = 28 * 28  \n",
    "\n",
    "def build_generator(z_prior):  \n",
    "    w1 = tf.Variable(tf.truncated_normal([z_size, h1_size], stddev=0.1), name=\"g_w1\", dtype=tf.float32)  \n",
    "    b1 = tf.Variable(tf.zeros([h1_size]), name=\"g_b1\", dtype=tf.float32)  \n",
    "    h1 = tf.nn.relu(tf.matmul(z_prior, w1) + b1)  \n",
    "    w2 = tf.Variable(tf.truncated_normal([h1_size, h2_size], stddev=0.1), name=\"g_w2\", dtype=tf.float32)  \n",
    "    b2 = tf.Variable(tf.zeros([h2_size]), name=\"g_b2\", dtype=tf.float32)  \n",
    "    h2 = tf.nn.relu(tf.matmul(h1, w2) + b2)  \n",
    "    w3 = tf.Variable(tf.truncated_normal([h2_size, img_size], stddev=0.1), name=\"g_w3\", dtype=tf.float32)  \n",
    "    b3 = tf.Variable(tf.zeros([img_size]), name=\"g_b3\", dtype=tf.float32)  \n",
    "    h3 = tf.matmul(h2, w3) + b3  \n",
    "    x_generate = tf.nn.tanh(h3)  \n",
    "    g_params = [w1, b1, w2, b2, w3, b3]  \n",
    "    return x_generate, g_params  \n",
    "\n",
    "def build_discriminator(x_data, x_generated, keep_prob):  \n",
    "    x_in = tf.concat([x_data], 0)  \n",
    "    w1 = tf.Variable(tf.truncated_normal([img_size, h2_size], stddev=0.1), name=\"d_w1\", dtype=tf.float32)  \n",
    "    b1 = tf.Variable(tf.zeros([h2_size]), name=\"d_b1\", dtype=tf.float32)  \n",
    "    h1 = tf.nn.dropout(tf.nn.relu(tf.matmul(x_in, w1) + b1), keep_prob)\n",
    "    \n",
    "    w2 = tf.Variable(tf.truncated_normal([h2_size, h1_size], stddev=0.1), name=\"d_w2\", dtype=tf.float32)  \n",
    "    b2 = tf.Variable(tf.zeros([h1_size]), name=\"d_b2\", dtype=tf.float32)  \n",
    "    h2 = tf.nn.dropout(tf.nn.relu(tf.matmul(h1, w2) + b2), keep_prob)  \n",
    "    \n",
    "    w3 = tf.Variable(tf.truncated_normal([h1_size, 1], stddev=0.1), name=\"d_w3\", dtype=tf.float32)  \n",
    "    b3 = tf.Variable(tf.zeros([1]), name=\"d_b3\", dtype=tf.float32)  \n",
    "    h3 = tf.matmul(h2, w3) + b3  \n",
    "    y_data = tf.nn.sigmoid(h3)\n",
    "    \n",
    "    x_in = tf.concat([x_generated], 0)  \n",
    "    h1 = tf.nn.dropout(tf.nn.relu(tf.matmul(x_in, w1) + b1), keep_prob)\n",
    "    h2 = tf.nn.dropout(tf.nn.relu(tf.matmul(h1, w2) + b2), keep_prob)  \n",
    "    h3 = tf.matmul(h2, w3) + b3  \n",
    "    y_generated = tf.nn.sigmoid(h3)\n",
    "    d_params = [w1, b1, w2, b2, w3, b3]  \n",
    "    \n",
    "    return y_data, y_generated, d_params  \n",
    "\n"
   ]
  },
  {
   "cell_type": "markdown",
   "metadata": {},
   "source": [
    "### 设置一个GAN限定输出层必须类似字符型"
   ]
  },
  {
   "cell_type": "code",
   "execution_count": 6,
   "metadata": {
    "ExecuteTime": {
     "end_time": "2017-12-14T04:35:43.663729Z",
     "start_time": "2017-12-14T04:35:43.366619Z"
    }
   },
   "outputs": [],
   "source": [
    "outputs = list()\n",
    "h_state,g_params=build_generator(X[:, 0, 200:300])\n",
    "outputs.append(h_state)\n",
    "\n",
    "X_re=tf.reshape(X,[-1,784])\n",
    "\n",
    "y_data,y_generated, d_params  = build_discriminator(X_re,h_state, keep_prob)\n",
    "\n",
    "d_loss = - (tf.log(y_data) + tf.log(1 - y_generated))\n",
    "g_loss = - tf.log(y_generated)\n",
    "\n",
    "optimizer_d = tf.train.AdamOptimizer(0.0001)\n",
    "optimizer_g = tf.train.AdamOptimizer(0.0001)\n",
    "d_trainer = optimizer_d.minimize(d_loss, var_list=d_params)\n",
    "g_trainer = optimizer_g.minimize(g_loss, var_list=g_params)"
   ]
  },
  {
   "cell_type": "code",
   "execution_count": 26,
   "metadata": {
    "ExecuteTime": {
     "end_time": "2017-12-14T04:56:16.646450Z",
     "start_time": "2017-12-14T04:56:16.629534Z"
    }
   },
   "outputs": [],
   "source": [
    "sess.run(tf.global_variables_initializer())"
   ]
  },
  {
   "cell_type": "code",
   "execution_count": 1,
   "metadata": {
    "ExecuteTime": {
     "end_time": "2017-12-14T05:19:17.672891Z",
     "start_time": "2017-12-14T05:19:17.587204Z"
    },
    "scrolled": true
   },
   "outputs": [
    {
     "ename": "NameError",
     "evalue": "name 'mnist' is not defined",
     "output_type": "error",
     "traceback": [
      "\u001b[0;31m\u001b[0m",
      "\u001b[0;31mNameError\u001b[0mTraceback (most recent call last)",
      "\u001b[0;32m<ipython-input-1-18b434b6d04d>\u001b[0m in \u001b[0;36m<module>\u001b[0;34m()\u001b[0m\n\u001b[1;32m      1\u001b[0m \u001b[0;32mfor\u001b[0m \u001b[0mi\u001b[0m \u001b[0;32min\u001b[0m \u001b[0mrange\u001b[0m\u001b[0;34m(\u001b[0m\u001b[0;36m80000\u001b[0m\u001b[0;34m)\u001b[0m\u001b[0;34m:\u001b[0m\u001b[0;34m\u001b[0m\u001b[0m\n\u001b[1;32m      2\u001b[0m     \u001b[0m_batch_size\u001b[0m \u001b[0;34m=\u001b[0m \u001b[0;36m256\u001b[0m\u001b[0;34m\u001b[0m\u001b[0m\n\u001b[0;32m----> 3\u001b[0;31m     \u001b[0mbatch\u001b[0m\u001b[0;34m,\u001b[0m\u001b[0mbatch_y\u001b[0m \u001b[0;34m=\u001b[0m \u001b[0mmnist\u001b[0m\u001b[0;34m.\u001b[0m\u001b[0mtrain\u001b[0m\u001b[0;34m.\u001b[0m\u001b[0mnext_batch\u001b[0m\u001b[0;34m(\u001b[0m\u001b[0m_batch_size\u001b[0m\u001b[0;34m)\u001b[0m\u001b[0;34m\u001b[0m\u001b[0m\n\u001b[0m\u001b[1;32m      4\u001b[0m     \u001b[0mx_value\u001b[0m \u001b[0;34m=\u001b[0m \u001b[0mbatch\u001b[0m\u001b[0;34m-\u001b[0m\u001b[0;36m0.5\u001b[0m\u001b[0;34m;\u001b[0m\u001b[0;31m#2 * batch.astype(np.float32) - 1\u001b[0m\u001b[0;34m\u001b[0m\u001b[0m\n\u001b[1;32m      5\u001b[0m     \u001b[0;32mif\u001b[0m \u001b[0;34m(\u001b[0m\u001b[0mi\u001b[0m\u001b[0;34m+\u001b[0m\u001b[0;36m1\u001b[0m\u001b[0;34m)\u001b[0m\u001b[0;34m%\u001b[0m\u001b[0;36m2000\u001b[0m \u001b[0;34m==\u001b[0m \u001b[0;36m0\u001b[0m\u001b[0;34m:\u001b[0m\u001b[0;34m\u001b[0m\u001b[0m\n",
      "\u001b[0;31mNameError\u001b[0m: name 'mnist' is not defined"
     ]
    }
   ],
   "source": [
    "for i in range(80000):\n",
    "    _batch_size = 256\n",
    "    batch,batch_y = mnist.train.next_batch(_batch_size) \n",
    "    x_value = batch-0.5;#2 * batch.astype(np.float32) - 1\n",
    "    if (i+1)%2000 == 0:\n",
    "        d_v,g_v = sess.run([d_loss,g_loss], feed_dict={\n",
    "            _X:x_value, y: batch_y, keep_prob: 1.0, batch_size: _batch_size})\n",
    "        # 已经迭代完成的 epoch 数: mnist.train.epochs_completed\n",
    "        print \"Iter%d, step %d, training accuracy %g %g %g\" % ( mnist.train.epochs_completed, (i+1), 0,np.exp(-np.mean(d_v)),np.exp(-np.mean(g_v)))\n",
    "    \n",
    "    sess.run(d_trainer, feed_dict={_X: x_value, y: batch_y, keep_prob: 0.7, batch_size: _batch_size})\n",
    "    sess.run(g_trainer, feed_dict={_X: x_value, y: batch_y, keep_prob: 0.7, batch_size: _batch_size})\n"
   ]
  },
  {
   "cell_type": "markdown",
   "metadata": {},
   "source": [
    "### 可视化看看 LSTM 的是怎么做分类的"
   ]
  },
  {
   "cell_type": "code",
   "execution_count": 21,
   "metadata": {
    "ExecuteTime": {
     "end_time": "2017-12-14T04:54:25.544632Z",
     "start_time": "2017-12-14T04:54:25.540437Z"
    }
   },
   "outputs": [],
   "source": [
    "num=21"
   ]
  },
  {
   "cell_type": "code",
   "execution_count": 22,
   "metadata": {
    "ExecuteTime": {
     "end_time": "2017-12-14T04:54:26.132909Z",
     "start_time": "2017-12-14T04:54:26.043123Z"
    },
    "code_folding": [
     0
    ]
   },
   "outputs": [
    {
     "data": {
      "text/plain": [
       "<matplotlib.image.AxesImage at 0x7f9f7e23a690>"
      ]
     },
     "execution_count": 22,
     "metadata": {},
     "output_type": "execute_result"
    },
    {
     "data": {
      "image/png": "[encoded data removed]",
      "text/plain": [
       "<matplotlib.figure.Figure at 0x7f9fe639b810>"
      ]
     },
     "metadata": {},
     "output_type": "display_data"
    }
   ],
   "source": [
    "#\n",
    "import matplotlib.pyplot as plt\n",
    "X3 = mnist.test.images[num]\n",
    "y_batch = mnist.test.labels[num]\n",
    "\n",
    "img3 = X3.reshape([28, 28])\n",
    "plt.subplot(1,2,1)\n",
    "plt.imshow(img3, cmap='gray')\n",
    "plt.title(np.argmax(y_batch) )\n",
    "\n",
    "import pywt,cv2\n",
    "cA2, (cH2, cV2, cD2)=pywt.wavedec2(np.float32(img3)/255,'haar',level=1);\n",
    "X2=np.vstack((np.hstack((cA2, cH2)),np.hstack((cV2, cD2))))\n",
    "plt.subplot(1,2,2)\n",
    "plt.imshow(X2,cmap='gray')"
   ]
  },
  {
   "cell_type": "code",
   "execution_count": 23,
   "metadata": {
    "ExecuteTime": {
     "end_time": "2017-12-14T04:54:29.341394Z",
     "start_time": "2017-12-14T04:54:29.270419Z"
    },
    "code_folding": [
     0
    ]
   },
   "outputs": [
    {
     "data": {
      "image/png": "[encoded data removed]",
      "text/plain": [
       "<matplotlib.figure.Figure at 0x7f9fdc0e8210>"
      ]
     },
     "metadata": {},
     "output_type": "display_data"
    }
   ],
   "source": [
    "#\n",
    "X3.shape = [-1, 784]\n",
    "y_batch.shape = [-1, class_num]\n",
    "#\n",
    "outputs_v=sess.run([outputs], feed_dict={\n",
    "            _X: X3, y: y_batch, keep_prob: 1.0, batch_size: 1})\n",
    "\n",
    "plt.subplot(4, 7, 1)\n",
    "X3_outputs = np.array(outputs_v);\n",
    "plt.imshow(np.reshape(X3,[28,28]),cmap='gray')\n",
    "X3_re=np.reshape(X3_outputs,[-1,28, 28])\n",
    "for i in xrange(X3_re.shape[0]):\n",
    "    plt.subplot(4, 7, i+8)\n",
    "    plt.imshow(X3_re[i,:,:],cmap='gray')\n",
    "    plt.axis('off')\n",
    "plt.show()\n"
   ]
  },
  {
   "cell_type": "code",
   "execution_count": null,
   "metadata": {},
   "outputs": [],
   "source": []
  },
  {
   "cell_type": "code",
   "execution_count": null,
   "metadata": {},
   "outputs": [],
   "source": []
  },
  {
   "cell_type": "code",
   "execution_count": null,
   "metadata": {},
   "outputs": [],
   "source": []
  },
  {
   "cell_type": "code",
   "execution_count": null,
   "metadata": {},
   "outputs": [],
   "source": []
  }
 ],
 "metadata": {
  "kernelspec": {
   "display_name": "Python 2",
   "language": "python",
   "name": "python2"
  },
  "language_info": {
   "codemirror_mode": {
    "name": "ipython",
    "version": 2
   },
   "file_extension": ".py",
   "mimetype": "text/x-python",
   "name": "python",
   "nbconvert_exporter": "python",
   "pygments_lexer": "ipython2",
   "version": "2.7.12"
  },
  "toc": {
   "nav_menu": {},
   "number_sections": true,
   "sideBar": true,
   "skip_h1_title": false,
   "title_cell": "Table of Contents",
   "title_sidebar": "Contents",
   "toc_cell": false,
   "toc_position": {},
   "toc_section_display": true,
   "toc_window_display": false
  },
  "varInspector": {
   "cols": {
    "lenName": 16,
    "lenType": 16,
    "lenVar": 40
   },
   "kernels_config": {
    "python": {
     "delete_cmd_postfix": "",
     "delete_cmd_prefix": "del ",
     "library": "var_list.py",
     "varRefreshCmd": "print(var_dic_list())"
    },
    "r": {
     "delete_cmd_postfix": ") ",
     "delete_cmd_prefix": "rm(",
     "library": "var_list.r",
     "varRefreshCmd": "cat(var_dic_list()) "
    }
   },
   "types_to_exclude": [
    "module",
    "function",
    "builtin_function_or_method",
    "instance",
    "_Feature"
   ],
   "window_display": false
  }
 },
 "nbformat": 4,
 "nbformat_minor": 2
}
